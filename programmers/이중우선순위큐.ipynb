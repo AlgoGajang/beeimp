{
 "cells": [
  {
   "cell_type": "markdown",
   "metadata": {},
   "source": [
    "# [이중우선순위큐](https://school.programmers.co.kr/learn/courses/30/lessons/42628)\n",
    "\n",
    "## 풀이\n",
    "\n",
    "###### 문제 설명\n",
    "\n",
    "이중 우선순위 큐는 다음 연산을 할 수 있는 자료구조를 말합니다.\n",
    "\n",
    "\n",
    "| 명령어 | 수신 탑(높이)                  |\n",
    "| -------- | -------------------------------- |\n",
    "| I 숫자 | 큐에 주어진 숫자를 삽입합니다. |\n",
    "| D 1    | 큐에서 최댓값을 삭제합니다.    |\n",
    "| D -1   | 큐에서 최솟값을 삭제합니다.    |\n",
    "\n",
    "이중 우선순위 큐가 할 연산 operations가 매개변수로 주어질 때, 모든 연산을 처리한 후 큐가 비어있으면 [0,0] 비어있지 않으면 [최댓값, 최솟값]을 return 하도록 solution 함수를 구현해주세요.\n",
    "\n",
    "##### 제한사항\n",
    "\n",
    "* operations는 길이가 1 이상 1,000,000 이하인 문자열 배열입니다.\n",
    "* operations의 원소는 큐가 수행할 연산을 나타냅니다.\n",
    "  * 원소는 “명령어 데이터” 형식으로 주어집니다.- 최댓값/최솟값을 삭제하는 연산에서 최댓값/최솟값이 둘 이상인 경우, 하나만 삭제합니다.\n",
    "* 빈 큐에 데이터를 삭제하라는 연산이 주어질 경우, 해당 연산은 무시합니다.\n",
    "\n",
    "##### 입출력 예\n",
    "\n",
    "\n",
    "| operations                                                                  | return     |\n",
    "| ----------------------------------------------------------------------------- | ------------ |\n",
    "| [\"I 16\", \"I -5643\", \"D -1\", \"D 1\", \"D 1\", \"I 123\", \"D -1\"]                  | [0,0]      |\n",
    "| [\"I -45\", \"I 653\", \"D 1\", \"I -642\", \"I 45\", \"I 97\", \"D 1\", \"D -1\", \"I 333\"] | [333, -45] |\n",
    "\n",
    "##### 입출력 예 설명\n",
    "\n",
    "입출력 예 #1\n",
    "\n",
    "* 16과 -5643을 삽입합니다.\n",
    "* 최솟값을 삭제합니다. -5643이 삭제되고 16이 남아있습니다.\n",
    "* 최댓값을 삭제합니다. 16이 삭제되고 이중 우선순위 큐는 비어있습니다.\n",
    "* 우선순위 큐가 비어있으므로 최댓값 삭제 연산이 무시됩니다.\n",
    "* 123을 삽입합니다.\n",
    "* 최솟값을 삭제합니다. 123이 삭제되고 이중 우선순위 큐는 비어있습니다.\n",
    "\n",
    "따라서 [0, 0]을 반환합니다.\n",
    "\n",
    "입출력 예 #2\n",
    "\n",
    "* -45와 653을 삽입후 최댓값(653)을 삭제합니다. -45가 남아있습니다.\n",
    "* -642, 45, 97을 삽입 후 최댓값(97), 최솟값(-642)을 삭제합니다. -45와 45가 남아있습니다.\n",
    "* 333을 삽입합니다.\n",
    "\n",
    "이중 우선순위 큐에 -45, 45, 333이 남아있으므로, [333, -45]를 반환합니다.\n",
    "\n",
    "[출처](http://icpckorea.org/problems/2013/onlineset.pdf)\n"
   ]
  },
  {
   "cell_type": "markdown",
   "metadata": {},
   "source": [
    "## 풀이\n",
    "\n",
    "- Sorting\n",
    "\n",
    "이 문제는 값을 삽입하고, 최솟값과 최댓값을 삭제하여 [최댓값, 최솟값]을 구해야 한다."
   ]
  },
  {
   "cell_type": "code",
   "execution_count": null,
   "metadata": {},
   "outputs": [],
   "source": [
    "def solution(operations):\n",
    "    nums = []\n",
    "\n",
    "    for operation in operations:\n",
    "        command, num = operation.split(' ')\n",
    "        num = int(num)\n",
    "        if command == 'I':\n",
    "          nums.append(num)\n",
    "        else:\n",
    "            if nums == []:\n",
    "              continue\n",
    "            if num == 1:\n",
    "              nums.pop()\n",
    "            else:\n",
    "              nums = nums[1:]\n",
    "        nums.sort()\n",
    "\n",
    "    if nums == []:\n",
    "      return [0, 0]\n",
    "    return [max(nums), min(nums)]"
   ]
  },
  {
   "cell_type": "markdown",
   "metadata": {},
   "source": [
    "![](assets/20221002_165734_image.png)\n"
   ]
  },
  {
   "cell_type": "markdown",
   "metadata": {},
   "source": [
    "### 참고 코드\n",
    "\n",
    "- Heap"
   ]
  },
  {
   "cell_type": "code",
   "execution_count": null,
   "metadata": {},
   "outputs": [],
   "source": [
    "from heapq import heappush, heappop\n",
    "\n",
    "def solution(arguments):\n",
    "    max_heap, min_heap = [], []\n",
    "    for arg in arguments:\n",
    "        if arg == \"D 1\":\n",
    "            if len(max_heap) > 0:\n",
    "                heappop(max_heap)\n",
    "                # max_heap이 비었거나, max_heap이 min_heap보다 작을경우 - 힙 비어주기\n",
    "                if max_heap == [] or -max_heap[0] < min_heap[0]:\n",
    "                    min_heap, max_heap = [], []\n",
    "        elif arg == \"D -1\":\n",
    "            if len(min_heap) > 0:\n",
    "                heappop(min_heap)\n",
    "                if min_heap == [] or -max_heap[0] < min_heap[0]:\n",
    "                    max_heap, min_heap = [], []\n",
    "        else:\n",
    "            num = int(arg[2:])\n",
    "            heappush(max_heap, -num)\n",
    "            heappush(min_heap, num)\n",
    "    if min_heap == []:\n",
    "        return [0, 0]\n",
    "    return [-heappop(max_heap), heappop(min_heap)]"
   ]
  },
  {
   "cell_type": "markdown",
   "metadata": {},
   "source": [
    "![](assets/20221002_165918_image.png)\n"
   ]
  }
 ],
 "metadata": {
  "kernelspec": {
   "display_name": "Python 3.8.9 64-bit",
   "language": "python",
   "name": "python3"
  },
  "language_info": {
   "name": "python",
   "version": "3.8.9"
  },
  "orig_nbformat": 4,
  "vscode": {
   "interpreter": {
    "hash": "31f2aee4e71d21fbe5cf8b01ff0e069b9275f58929596ceb00d14d90e3e16cd6"
   }
  }
 },
 "nbformat": 4,
 "nbformat_minor": 2
}
