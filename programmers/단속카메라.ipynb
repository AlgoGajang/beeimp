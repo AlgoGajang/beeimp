{
 "cells": [
  {
   "cell_type": "markdown",
   "metadata": {},
   "source": [
    "# [단속카메라](https://school.programmers.co.kr/learn/courses/30/lessons/42884)\n",
    "\n",
    "###### 문제 설명\n",
    "\n",
    "고속도로를 이동하는 모든 차량이 고속도로를 이용하면서 단속용 카메라를 한 번은 만나도록 카메라를 설치하려고 합니다.\n",
    "\n",
    "고속도로를 이동하는 차량의 경로 routes가 매개변수로 주어질 때, 모든 차량이 한 번은 단속용 카메라를 만나도록 하려면 최소 몇 대의 카메라를 설치해야 하는지를 return 하도록 solution 함수를 완성하세요.\n",
    "\n",
    "**제한사항**\n",
    "\n",
    "* 차량의 대수는 1대 이상 10,000대 이하입니다.\n",
    "* routes에는 차량의 이동 경로가 포함되어 있으며 routes[i][0]에는 i번째 차량이 고속도로에 진입한 지점, routes[i][1]에는 i번째 차량이 고속도로에서 나간 지점이 적혀 있습니다.\n",
    "* 차량의 진입/진출 지점에 카메라가 설치되어 있어도 카메라를 만난것으로 간주합니다.\n",
    "* 차량의 진입 지점, 진출 지점은 -30,000 이상 30,000 이하입니다.\n",
    "\n",
    "**입출력 예**\n",
    "\n",
    "\n",
    "| routes                                    | return |\n",
    "| ------------------------------------------- | -------- |\n",
    "| [[-20,-15], [-14,-5], [-18,-13], [-5,-3]] | 2      |\n",
    "\n",
    "**입출력 예 설명**\n",
    "\n",
    "-5 지점에 카메라를 설치하면 두 번째, 네 번째 차량이 카메라를 만납니다.\n",
    "\n",
    "-15 지점에 카메라를 설치하면 첫 번째, 세 번째 차량이 카메라를 만납니다.\n"
   ]
  },
  {
   "cell_type": "markdown",
   "metadata": {},
   "source": [
    "## 풀이\n",
    "\n",
    "- Two Pointers\n",
    "\n",
    "이 문제는 주어지는 차들의 과속 구간에 놓아야 하는 최소 단속카메라 개수를 구해야 한다.\n",
    "\n",
    "먼저, 차의 과속 구간이 끝나는 부분을 기준으로 정렬한다.\n",
    "끝나는 부분이 다른 차량의 시작하는 부분보다 크다면, 단속카메라 개수를 증가하고, 끝나는 부분을 변경한다.\n",
    "\n",
    "![](assets/20221005_093105_image.png)\n"
   ]
  },
  {
   "cell_type": "code",
   "execution_count": null,
   "metadata": {},
   "outputs": [],
   "source": [
    "def solution(routes):\n",
    "    answer = 1\n",
    "    routes.sort(key=lambda x: x[1])\n",
    "    cam = routes[0][1]\n",
    "    \n",
    "    for start, end in routes[1:]:\n",
    "        if cam < start:\n",
    "            cam = end\n",
    "            answer += 1\n",
    "            \n",
    "    return answer"
   ]
  },
  {
   "cell_type": "markdown",
   "metadata": {},
   "source": [
    "![](assets/20221005_093209_image.png)"
   ]
  }
 ],
 "metadata": {
  "kernelspec": {
   "display_name": "Python 3.10.7 64-bit",
   "language": "python",
   "name": "python3"
  },
  "language_info": {
   "name": "python",
   "version": "3.10.7"
  },
  "orig_nbformat": 4,
  "vscode": {
   "interpreter": {
    "hash": "aee8b7b246df8f9039afb4144a1f6fd8d2ca17a180786b69acc140d282b71a49"
   }
  }
 },
 "nbformat": 4,
 "nbformat_minor": 2
}
