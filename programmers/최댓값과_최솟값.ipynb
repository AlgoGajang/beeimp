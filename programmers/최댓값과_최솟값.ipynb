{
 "cells": [
  {
   "cell_type": "markdown",
   "metadata": {},
   "source": [
    "# 최댓값과 최솟값\n",
    "\n",
    "## 문제\n",
    "\n",
    "###### 문제 설명\n",
    "\n",
    "문자열 s에는 공백으로 구분된 숫자들이 저장되어 있습니다. str에 나타나는 숫자 중 최소값과 최대값을 찾아 이를 \"(최소값) (최대값)\"형태의 문자열을 반환하는 함수, solution을 완성하세요.\n",
    "예를들어 s가 \"1 2 3 4\"라면 \"1 4\"를 리턴하고, \"-1 -2 -3 -4\"라면 \"-4 -1\"을 리턴하면 됩니다.\n",
    "\n",
    "##### 제한 조건\n",
    "\n",
    "* s에는 둘 이상의 정수가 공백으로 구분되어 있습니다.\n",
    "\n",
    "##### 입출력 예\n",
    "\n",
    "\n",
    "| s             | return  |\n",
    "| --------------- | --------- |\n",
    "| \"1 2 3 4\"     | \"1 4\"   |\n",
    "| \"-1 -2 -3 -4\" | \"-4 -1\" |\n",
    "| \"-1 -1\"       | \"-1 -1\" |\n"
   ]
  },
  {
   "cell_type": "markdown",
   "metadata": {},
   "source": [
    "## 풀이\n",
    "\n",
    "- String\n",
    "  \n",
    "이 문제는 s를 나눠 숫자형으로 저장하고, min/max 함수를 사용하여 값을 구했다.\n",
    "\n",
    "![테스트 결과](assets/20221001_212552_image.png)\n"
   ]
  },
  {
   "cell_type": "code",
   "execution_count": null,
   "metadata": {},
   "outputs": [],
   "source": [
    "def solution(s):\n",
    "    nums = [int(num) for num in s.split(' ')]\n",
    "    return f'{min(nums)} {max(nums)}'"
   ]
  }
 ],
 "metadata": {
  "kernelspec": {
   "display_name": "Python 3.8.9 64-bit",
   "language": "python",
   "name": "python3"
  },
  "language_info": {
   "name": "python",
   "version": "3.8.9"
  },
  "orig_nbformat": 4,
  "vscode": {
   "interpreter": {
    "hash": "31f2aee4e71d21fbe5cf8b01ff0e069b9275f58929596ceb00d14d90e3e16cd6"
   }
  }
 },
 "nbformat": 4,
 "nbformat_minor": 2
}
