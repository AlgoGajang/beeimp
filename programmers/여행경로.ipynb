{
 "cells": [
  {
   "cell_type": "markdown",
   "metadata": {},
   "source": [
    "# [여행경로](https://school.programmers.co.kr/learn/courses/30/lessons/43164#)\n",
    "\n",
    "## 문제\n",
    "\n",
    "###### 문제 설명\n",
    "\n",
    "주어진 항공권을 모두 이용하여 여행경로를 짜려고 합니다. 항상 \"ICN\" 공항에서 출발합니다.\n",
    "\n",
    "항공권 정보가 담긴 2차원 배열 tickets가 매개변수로 주어질 때, 방문하는 공항 경로를 배열에 담아 return 하도록 solution 함수를 작성해주세요.\n",
    "\n",
    "##### 제한사항\n",
    "\n",
    "* 모든 공항은 알파벳 대문자 3글자로 이루어집니다.\n",
    "* 주어진 공항 수는 3개 이상 10,000개 이하입니다.\n",
    "* tickets의 각 행 [a, b]는 a 공항에서 b 공항으로 가는 항공권이 있다는 의미입니다.\n",
    "* 주어진 항공권은 모두 사용해야 합니다.\n",
    "* 만일 가능한 경로가 2개 이상일 경우 알파벳 순서가 앞서는 경로를 return 합니다.\n",
    "* 모든 도시를 방문할 수 없는 경우는 주어지지 않습니다.\n",
    "\n",
    "##### 입출력 예\n",
    "\n",
    "\n",
    "| tickets                                                                         | return                                     |\n",
    "| --------------------------------------------------------------------------------- | -------------------------------------------- |\n",
    "| [[\"ICN\", \"JFK\"], [\"HND\", \"IAD\"], [\"JFK\", \"HND\"]]                                | [\"ICN\", \"JFK\", \"HND\", \"IAD\"]               |\n",
    "| [[\"ICN\", \"SFO\"], [\"ICN\", \"ATL\"], [\"SFO\", \"ATL\"], [\"ATL\", \"ICN\"], [\"ATL\",\"SFO\"]] | [\"ICN\", \"ATL\", \"ICN\", \"SFO\", \"ATL\", \"SFO\"] |\n",
    "\n",
    "##### 입출력 예 설명\n",
    "\n",
    "예제 #1\n",
    "\n",
    "[\"ICN\", \"JFK\", \"HND\", \"IAD\"] 순으로 방문할 수 있습니다.\n",
    "\n",
    "예제 #2\n",
    "\n",
    "[\"ICN\", \"SFO\", \"ATL\", \"ICN\", \"ATL\", \"SFO\"] 순으로 방문할 수도 있지만 [\"ICN\", \"ATL\", \"ICN\", \"SFO\", \"ATL\", \"SFO\"] 가 알파벳 순으로 앞섭니다.\n"
   ]
  },
  {
   "cell_type": "markdown",
   "metadata": {},
   "source": [
    "## 풀이\n",
    "\n",
    "- Graph\n",
    "- Backtracking\n",
    "\n",
    "이 문제는 티켓을 모두 소모하여 여행하는 경로 중 사전순으로 하나의 경로를 구해야 한다.\n",
    "\n",
    "![](assets/20221014_114824_image.png)\n"
   ]
  },
  {
   "cell_type": "code",
   "execution_count": null,
   "metadata": {},
   "outputs": [],
   "source": [
    "from collections import deque\n",
    "\n",
    "def solution(tickets):\n",
    "    answer = []\n",
    "    \n",
    "    # 공항 그래프 생성\n",
    "    airports = {}\n",
    "    for src, dest in tickets:\n",
    "        if not src in airports:\n",
    "            airports[src] = []\n",
    "        airports[src].append(dest)\n",
    "        \n",
    "    # 스택을 사전순으로 뽑기 위해 역순 정렬\n",
    "    for airport in airports:\n",
    "        airports[airport].sort(reverse=True) \n",
    "    \n",
    "    stack = []\n",
    "    stack.append('ICN')\n",
    "    \n",
    "    while stack:\n",
    "        airport = stack.pop()\n",
    "\n",
    "        # 공항의 도착지가 없거나 티켓이 없을 경우\n",
    "        if not airport in airports or not airports[airport]:\n",
    "            answer.append(airport)\n",
    "        else:\n",
    "            stack.append(airport)\n",
    "            stack.append(airports[airport].pop())\n",
    "\n",
    "        \n",
    "    return answer[::-1] # 역순으로 반환"
   ]
  },
  {
   "cell_type": "markdown",
   "metadata": {},
   "source": [
    "![](assets/20221014_114846_image.png)\n"
   ]
  }
 ],
 "metadata": {
  "kernelspec": {
   "display_name": "Python 3.10.7 64-bit",
   "language": "python",
   "name": "python3"
  },
  "language_info": {
   "name": "python",
   "version": "3.10.7"
  },
  "orig_nbformat": 4,
  "vscode": {
   "interpreter": {
    "hash": "aee8b7b246df8f9039afb4144a1f6fd8d2ca17a180786b69acc140d282b71a49"
   }
  }
 },
 "nbformat": 4,
 "nbformat_minor": 2
}
