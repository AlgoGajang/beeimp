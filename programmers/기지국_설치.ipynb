{
 "cells": [
  {
   "cell_type": "markdown",
   "metadata": {},
   "source": [
    "# [기지국 설치](https://school.programmers.co.kr/learn/courses/30/lessons/12979)\n",
    "\n",
    "## 문제\n",
    "\n",
    "###### 문제 설명\n",
    "\n",
    "N개의 아파트가 일렬로 쭉 늘어서 있습니다. 이 중에서 일부 아파트 옥상에는 4g 기지국이 설치되어 있습니다. 기술이 발전해 5g 수요가 높아져 4g 기지국을 5g 기지국으로 바꾸려 합니다. 그런데 5g 기지국은 4g 기지국보다 전달 범위가 좁아, 4g 기지국을 5g 기지국으로 바꾸면 어떤 아파트에는 전파가 도달하지 않습니다.\n",
    "\n",
    "예를 들어 11개의 아파트가 쭉 늘어서 있고, [4, 11] 번째 아파트 옥상에는 4g 기지국이 설치되어 있습니다. 만약 이 4g 기지국이 전파 도달 거리가 1인 5g 기지국으로 바뀔 경우 모든 아파트에 전파를 전달할 수 없습니다. (전파의 도달 거리가 W일 땐, 기지국이 설치된 아파트를 기준으로 전파를 양쪽으로 W만큼 전달할 수 있습니다.)\n",
    "\n",
    "* 초기에, 1, 2, 6, 7, 8, 9번째 아파트에는 전파가 전달되지 않습니다.\n",
    "\n",
    "![기지국설치1_pvskxt.png](https://grepp-programmers.s3.ap-northeast-2.amazonaws.com/files/production/fcb45e06-ebb2-4d93-98cc-b6203185e933/%E1%84%80%E1%85%B5%E1%84%8C%E1%85%B5%E1%84%80%E1%85%AE%E1%86%A8%E1%84%89%E1%85%A5%E1%86%AF%E1%84%8E%E1%85%B51_pvskxt.png)\n",
    "\n",
    "* 1, 7, 9번째 아파트 옥상에 기지국을 설치할 경우, 모든 아파트에 전파를 전달할 수 있습니다.\n",
    "\n",
    "![기지국설치2_kml0pb.png](https://grepp-programmers.s3.ap-northeast-2.amazonaws.com/files/production/dd31ddb8-f50d-404c-a6f5-8d6a1d88f620/%E1%84%80%E1%85%B5%E1%84%8C%E1%85%B5%E1%84%80%E1%85%AE%E1%86%A8%E1%84%89%E1%85%A5%E1%86%AF%E1%84%8E%E1%85%B52_kml0pb.png)\n",
    "\n",
    "* 더 많은 아파트 옥상에 기지국을 설치하면 모든 아파트에 전파를 전달할 수 있습니다.\n",
    "\n",
    "![기지국설치3_xhv7r3.png](https://grepp-programmers.s3.ap-northeast-2.amazonaws.com/files/production/f5801b12-f683-422d-b26f-5e23e72915dc/%E1%84%80%E1%85%B5%E1%84%8C%E1%85%B5%E1%84%80%E1%85%AE%E1%86%A8%E1%84%89%E1%85%A5%E1%86%AF%E1%84%8E%E1%85%B53_xhv7r3.png)\n",
    "\n",
    "이때, 우리는 5g 기지국을 **최소로 설치** 하면서 모든 아파트에 전파를 전달하려고 합니다. 위의 예시에선 최소 3개의 아파트 옥상에 기지국을 설치해야 모든 아파트에 전파를 전달할 수 있습니다.\n",
    "\n",
    "아파트의 개수 N, 현재 기지국이 설치된 아파트의 번호가 담긴 1차원 배열 stations, 전파의 도달 거리 W가 매개변수로 주어질 때, 모든 아파트에 전파를 전달하기 위해 증설해야 할 기지국 개수의 최솟값을 리턴하는 solution 함수를 완성해주세요\n",
    "\n",
    "##### 제한사항\n",
    "\n",
    "* N: 200,000,000 이하의 자연수\n",
    "* stations의 크기: 10,000 이하의 자연수\n",
    "* stations는 오름차순으로 정렬되어 있고, 배열에 담긴 수는 N보다 같거나 작은 자연수입니다.\n",
    "* W: 10,000 이하의 자연수\n",
    "\n",
    "---\n",
    "\n",
    "##### 입출력 예\n",
    "\n",
    "\n",
    "| N  | stations | W | answer |\n",
    "| ---- | ---------- | --- | -------- |\n",
    "| 11 | [4, 11]  | 1 | 3      |\n",
    "| 16 | [9]      | 2 | 3      |\n",
    "\n",
    "##### 입출력 예 설명\n",
    "\n",
    "입출력 예 #1\n",
    "문제의 예시와 같습니다\n",
    "\n",
    "입출력 예 #2\n",
    "\n",
    "* 초기에, 1~6, 12~16번째 아파트에는 전파가 전달되지 않습니다.\n",
    "\n",
    "![기지국설치4_nqfrmm.png](https://grepp-programmers.s3.ap-northeast-2.amazonaws.com/files/production/1d766102-f684-4643-bea2-02daea82e710/%E1%84%80%E1%85%B5%E1%84%8C%E1%85%B5%E1%84%80%E1%85%AE%E1%86%A8%E1%84%89%E1%85%A5%E1%86%AF%E1%84%8E%E1%85%B54_nqfrmm.png)\n",
    "\n",
    "* 3, 6, 14번째 아파트 옥상에 기지국을 설치할 경우 모든 아파트에 전파를 전달할 수 있습니다.\n",
    "\n",
    "![기지국설치5_zh4ebk.png](https://grepp-programmers.s3.ap-northeast-2.amazonaws.com/files/production/bc7d4fdb-cb48-4f45-b2eb-977cfb2c54dd/%E1%84%80%E1%85%B5%E1%84%8C%E1%85%B5%E1%84%80%E1%85%AE%E1%86%A8%E1%84%89%E1%85%A5%E1%86%AF%E1%84%8E%E1%85%B55_zh4ebk.png)\n"
   ]
  },
  {
   "cell_type": "markdown",
   "metadata": {},
   "source": [
    "## 풀이\n",
    "\n",
    "- Math\n",
    "\n",
    "이 문제는 N의 거리에 w의 전파 거리를 갖는 기지국이 세워졌을 때, 추가적으로 세워야하는 기지국의 최소 개수를 구해야 한다.\n",
    "\n",
    "1. 기지국을 1, 전파거리를 w라 할때, `propagation = 2w+1`\n",
    "   - 기지국의 전파 거리는 양쪽으로 퍼지기 때문\n",
    "2. 이미 세워진 기지국의 왼쪽의 전파 가장자리를 edge라 할때, `edge = 기지국 위치 - w`\n",
    "3. 기지국이 세워지지 않은 곳의 거리를 propagation으로 나눠서 기본적으로 있어야하는 기지국의 개수를 구한다.\n",
    "4. 나눈 값의 나머지가 존재한다면, 기지국이 추가로 1대 더 필요하다.\n",
    "\n",
    "![](assets/20221006_100353_image.png)\n"
   ]
  },
  {
   "cell_type": "code",
   "execution_count": 4,
   "metadata": {},
   "outputs": [],
   "source": [
    "def solution(n, stations, w):\n",
    "    answer = 0\n",
    "\n",
    "    pos = 0\n",
    "    propagation = w * 2 + 1\n",
    "\n",
    "    for station in stations:\n",
    "      edge = station - w # 왼쪽의 전파 가장자리\n",
    "      answer += (edge - 1 - pos) // propagation # 기본적으로 있어야 하는 기지국 개수\n",
    "      answer += 1 if (edge - 1 - pos) % propagation > 0 else 0 # 소외 지역\n",
    "      pos = station + w # 오른쪽의 전파 가장자리로 이동\n",
    "    answer += (n - pos) // propagation # 처음 또는 이미 설치된 기지국부터 n까지 기본적으로 있어야 하는 기지국 개수\n",
    "    answer += 1 if (n - pos) % propagation > 0 else 0 # 소외 지역\n",
    "\n",
    "    return answer"
   ]
  },
  {
   "cell_type": "markdown",
   "metadata": {},
   "source": [
    "![](assets/20221006_100332_image.png)"
   ]
  }
 ],
 "metadata": {
  "kernelspec": {
   "display_name": "Python 3.10.7 64-bit",
   "language": "python",
   "name": "python3"
  },
  "language_info": {
   "codemirror_mode": {
    "name": "ipython",
    "version": 3
   },
   "file_extension": ".py",
   "mimetype": "text/x-python",
   "name": "python",
   "nbconvert_exporter": "python",
   "pygments_lexer": "ipython3",
   "version": "3.10.7"
  },
  "orig_nbformat": 4,
  "vscode": {
   "interpreter": {
    "hash": "aee8b7b246df8f9039afb4144a1f6fd8d2ca17a180786b69acc140d282b71a49"
   }
  }
 },
 "nbformat": 4,
 "nbformat_minor": 2
}
