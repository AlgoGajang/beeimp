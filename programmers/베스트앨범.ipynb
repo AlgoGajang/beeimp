{
 "cells": [
  {
   "cell_type": "markdown",
   "metadata": {},
   "source": [
    "# [베스트앨범](https://school.programmers.co.kr/learn/courses/30/lessons/42579)"
   ]
  },
  {
   "cell_type": "markdown",
   "metadata": {},
   "source": [
    "## 풀이\n",
    "\n",
    "- Hash Table\n",
    "- Sorting\n",
    "\n",
    "이 문제는 입력값 장르와 플레이 수를 받아 가장 많이 재생된 노래 두 개씩 모아 반환해야 한다.\n",
    "\n",
    "수록하는 순서는 다음과 같다.\n",
    "\n",
    "1. 속한 노래가 많이 재생된 장르\n",
    "2. 장르 내에서 많이 재생된 노래\n",
    "3. 장르 내에서 재생 횟수가 같은 노래 중에서 고유 번호가 낮은 노래\n",
    "\n",
    "장르별 전체 플레이 수와 장르별 노래에 대한 정보를 담을 수 있는 딕셔너리를 선언 및 초기화 한다.\n",
    "\n",
    "초기 접근은 힙을 사용하려 했으나, 최종적으로 한번만 정렬해도 된다고 생각하여 간단하게 정렬로 문제를 해결했다."
   ]
  },
  {
   "cell_type": "code",
   "execution_count": 19,
   "metadata": {},
   "outputs": [
    {
     "data": {
      "text/plain": [
       "[3, 2, 0]"
      ]
     },
     "execution_count": 19,
     "metadata": {},
     "output_type": "execute_result"
    }
   ],
   "source": [
    "from collections import Counter\n",
    "\n",
    "\n",
    "def solution(genres, plays):\n",
    "    answer = []\n",
    "\n",
    "    genre_plays = Counter() # 장르별 전체 플레이 수\n",
    "    genre_songs = {} # 장르별 노래 - [(index, play)]\n",
    "\n",
    "    for i, (genre, play) in enumerate(zip(genres, plays)):\n",
    "        genre_plays[genre] += play\n",
    "        \n",
    "        if not genre in genre_songs:\n",
    "          genre_songs[genre] = [(play, i)]\n",
    "        else:\n",
    "          genre_songs[genre].append((play, i))\n",
    "\n",
    "    for (genre, _) in sorted(genre_plays.items(), key=lambda x: -x[1]):\n",
    "        for (play, play_number) in sorted(genre_songs[genre], key=lambda x: -x[0])[:2]:\n",
    "            answer.append(play_number)\n",
    "\n",
    "    return answer\n",
    "\n",
    "solution([\"classic\", \"classic\", \"classic\", \"pop\"],\t[500, 150, 800, 2500])"
   ]
  },
  {
   "cell_type": "markdown",
   "metadata": {},
   "source": [
    "![](assets/20221005_101855_image.png)"
   ]
  }
 ],
 "metadata": {
  "kernelspec": {
   "display_name": "Python 3.10.7 64-bit",
   "language": "python",
   "name": "python3"
  },
  "language_info": {
   "codemirror_mode": {
    "name": "ipython",
    "version": 3
   },
   "file_extension": ".py",
   "mimetype": "text/x-python",
   "name": "python",
   "nbconvert_exporter": "python",
   "pygments_lexer": "ipython3",
   "version": "3.10.7"
  },
  "orig_nbformat": 4,
  "vscode": {
   "interpreter": {
    "hash": "aee8b7b246df8f9039afb4144a1f6fd8d2ca17a180786b69acc140d282b71a49"
   }
  }
 },
 "nbformat": 4,
 "nbformat_minor": 2
}
