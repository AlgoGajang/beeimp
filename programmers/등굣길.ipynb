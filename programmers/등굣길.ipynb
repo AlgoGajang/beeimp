{
 "cells": [
  {
   "cell_type": "markdown",
   "metadata": {},
   "source": [
    "# [등굣길](https://school.programmers.co.kr/learn/courses/30/lessons/42898)\n",
    "\n",
    "## 문제\n",
    "\n",
    "###### 문제 설명\n",
    "\n",
    "계속되는 폭우로 일부 지역이 물에 잠겼습니다. 물에 잠기지 않은 지역을 통해 학교를 가려고 합니다. 집에서 학교까지 가는 길은 m x n 크기의 격자모양으로 나타낼 수 있습니다.\n",
    "\n",
    "아래 그림은 m = 4, n = 3 인 경우입니다.\n",
    "\n",
    "![image0.png](https://grepp-programmers.s3.amazonaws.com/files/ybm/056f54e618/f167a3bc-e140-4fa8-a8f8-326a99e0f567.png)\n",
    "\n",
    "가장 왼쪽 위, 즉 집이 있는 곳의 좌표는 (1, 1)로 나타내고 가장 오른쪽 아래, 즉 학교가 있는 곳의 좌표는 (m, n)으로 나타냅니다.\n",
    "\n",
    "격자의 크기 m, n과 물이 잠긴 지역의 좌표를 담은 2차원 배열 puddles이 매개변수로 주어집니다. **오른쪽과 아래쪽으로만 움직여** 집에서 학교까지 갈 수 있는 최단경로의 개수를 1,000,000,007로 나눈 나머지를 return 하도록 solution 함수를 작성해주세요.\n",
    "\n",
    "##### 제한사항\n",
    "\n",
    "* 격자의 크기 m, n은 1 이상 100 이하인 자연수입니다.\n",
    "  * m과 n이 모두 1인 경우는 입력으로 주어지지 않습니다.\n",
    "* 물에 잠긴 지역은 0개 이상 10개 이하입니다.\n",
    "* 집과 학교가 물에 잠긴 경우는 입력으로 주어지지 않습니다.\n",
    "\n",
    "##### 입출력 예\n",
    "\n",
    "\n",
    "| m | n | puddles  | return |\n",
    "| --- | --- | ---------- | -------- |\n",
    "| 4 | 3 | [[2, 2]] | 4      |\n",
    "\n",
    "##### 입출력 예 설명\n",
    "\n",
    "![image1.png](https://grepp-programmers.s3.amazonaws.com/files/ybm/32c67958d5/729216f3-f305-4ad1-b3b0-04c2ba0b379a.png)\n"
   ]
  },
  {
   "cell_type": "markdown",
   "metadata": {},
   "source": [
    "## 풀이\n",
    "\n",
    "- Dynamic Programming\n",
    "\n",
    "이 문제는 (1, 1)에서 출발하여 (m, n)까지 도착하는 최단거리 개수를 구해야 한다.\n",
    "\n",
    "접근 방식은 그림과 같다.\n",
    "\n",
    "![](assets/20221004_102216_image.png)\n"
   ]
  },
  {
   "cell_type": "code",
   "execution_count": 16,
   "metadata": {},
   "outputs": [
    {
     "name": "stdout",
     "output_type": "stream",
     "text": [
      "[[0, 0, 0, 0, 0], [0, 1, 1, 1, 1], [0, 1, -1, 1, 2], [0, 1, 1, 2, 4]]\n"
     ]
    },
    {
     "data": {
      "text/plain": [
       "4"
      ]
     },
     "execution_count": 16,
     "metadata": {},
     "output_type": "execute_result"
    }
   ],
   "source": [
    "def solution(m, n, puddles):\n",
    "    answer = 0\n",
    "    Map = [[0 for _ in range(m + 1)] for _ in range(n + 1)]\n",
    "\n",
    "    for puddle in puddles:\n",
    "      x, y = puddle\n",
    "      Map[y][x] = -1\n",
    "\n",
    "    Map[1][1] = 1\n",
    "    \n",
    "    for y, row in enumerate(Map[1:], 1):\n",
    "      for x, v in enumerate(row[1:], 1):\n",
    "        if Map[y][x] != -1:\n",
    "          if Map[y - 1][x] > 0:\n",
    "            Map[y][x] += Map[y - 1][x]\n",
    "          if Map[y][x - 1] > 0:\n",
    "            Map[y][x] += Map[y][x - 1]\n",
    "\n",
    "    return Map[n][m] % 1000000007\n",
    "\n",
    "\n",
    "solution(4, 3,\t[[2, 2]])"
   ]
  },
  {
   "cell_type": "markdown",
   "metadata": {},
   "source": [
    "![](assets/20221004_102236_image.png)\n"
   ]
  }
 ],
 "metadata": {
  "kernelspec": {
   "display_name": "Python 3.8.9 64-bit",
   "language": "python",
   "name": "python3"
  },
  "language_info": {
   "codemirror_mode": {
    "name": "ipython",
    "version": 3
   },
   "file_extension": ".py",
   "mimetype": "text/x-python",
   "name": "python",
   "nbconvert_exporter": "python",
   "pygments_lexer": "ipython3",
   "version": "3.8.9"
  },
  "orig_nbformat": 4,
  "vscode": {
   "interpreter": {
    "hash": "31f2aee4e71d21fbe5cf8b01ff0e069b9275f58929596ceb00d14d90e3e16cd6"
   }
  }
 },
 "nbformat": 4,
 "nbformat_minor": 2
}
