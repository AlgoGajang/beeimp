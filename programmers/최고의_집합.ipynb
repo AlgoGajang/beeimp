{
 "cells": [
  {
   "cell_type": "markdown",
   "metadata": {},
   "source": [
    "# [최고의 집합](https://school.programmers.co.kr/learn/courses/30/lessons/12938)\n",
    "\n",
    "## 문제\n",
    "\n",
    "###### 문제 설명\n",
    "\n",
    "자연수 n 개로 이루어진 중복 집합(multi set, 편의상 이후에는 \"집합\"으로 통칭) 중에 다음 두 조건을 만족하는 집합을 최고의 집합이라고 합니다.\n",
    "\n",
    "1. 각 원소의 합이 S가 되는 수의 집합\n",
    "2. 위 조건을 만족하면서 각 원소의 곱 이 최대가 되는 집합\n",
    "\n",
    "예를 들어서 자연수 2개로 이루어진 집합 중 합이 9가 되는 집합은 다음과 같이 4개가 있습니다.\n",
    "{ 1, 8 }, { 2, 7 }, { 3, 6 }, { 4, 5 }\n",
    "그중 각 원소의 곱이 최대인 { 4, 5 }가 최고의 집합입니다.\n",
    "\n",
    "집합의 원소의 개수 n과 모든 원소들의 합 s가 매개변수로 주어질 때, 최고의 집합을 return 하는 solution 함수를 완성해주세요.\n",
    "\n",
    "##### 제한사항\n",
    "\n",
    "* 최고의 집합은 **오름차순으로 정렬된 1차원 배열(list, vector)** 로 return 해주세요.\n",
    "* 만약 최고의 집합이 존재하지 않는 경우에 **크기가 1인 1차원 배열(list, vector)** 에 `-1` 을 채워서 return 해주세요.\n",
    "* 자연수의 개수 n은 1 이상 10,000 이하의 자연수입니다.\n",
    "* 모든 원소들의 합 s는 1 이상, 100,000,000 이하의 자연수입니다.\n",
    "\n",
    "---\n",
    "\n",
    "##### 입출력 예\n",
    "\n",
    "\n",
    "| n | s | result |\n",
    "| --- | --- | -------- |\n",
    "| 2 | 9 | [4, 5] |\n",
    "| 2 | 1 | [-1]   |\n",
    "| 2 | 8 | [4, 4] |\n",
    "\n",
    "##### 입출력 예 설명\n",
    "\n",
    "입출력 예#1\n",
    "문제의 예시와 같습니다.\n",
    "\n",
    "입출력 예#2\n",
    "자연수 2개를 가지고는 합이 1인 집합을 만들 수 없습니다. 따라서 -1이 들어있는 배열을 반환합니다.\n",
    "\n",
    "입출력 예#3\n",
    "자연수 2개로 이루어진 집합 중 원소의 합이 8인 집합은 다음과 같습니다.\n",
    "\n",
    "{ 1, 7 }, { 2, 6 }, { 3, 5 }, { 4, 4 }\n",
    "\n",
    "그중 각 원소의 곱이 최대인 { 4, 4 }가 최고의 집합입니다.\n"
   ]
  },
  {
   "cell_type": "markdown",
   "metadata": {},
   "source": [
    "****## 풀이\n",
    "\n",
    "- Math\n",
    "\n",
    "이 문제는 입력값 n개의 자연수의 합으로 s를 만들었을 때, n개의 자연수의 곱이 가장 높은 자연수 배열을 반환해야 한다.\n",
    "\n",
    "곱이 가장 높은 수들의 집합은 평균값들의 곱이라 생각하고 접근했다.\n",
    "\n",
    "1. n개의 평균값 배열을 생성한다.\n",
    "2. s % n이 1 이상일 때, 오름차순으로 정렬되기 때문에 원소 뒤에서부터 한개씩 1을 더한다\n",
    "\n",
    "![](assets/20221003_103441_image.png)\n"
   ]
  },
  {
   "cell_type": "code",
   "execution_count": null,
   "metadata": {},
   "outputs": [],
   "source": [
    "def solution(n, s):\n",
    "    answer = []\n",
    "    if s // n == 0: return [-1]\n",
    "    answer = [s // n] * n\n",
    "    for i in range(1, s % n + 1):\n",
    "        answer[-1 * i] += 1\n",
    "    return answer"
   ]
  },
  {
   "cell_type": "markdown",
   "metadata": {},
   "source": [
    "![](assets/20221003_103515_image.png)\n"
   ]
  }
 ],
 "metadata": {
  "kernelspec": {
   "display_name": "Python 3.8.9 64-bit",
   "language": "python",
   "name": "python3"
  },
  "language_info": {
   "name": "python",
   "version": "3.8.9"
  },
  "orig_nbformat": 4,
  "vscode": {
   "interpreter": {
    "hash": "31f2aee4e71d21fbe5cf8b01ff0e069b9275f58929596ceb00d14d90e3e16cd6"
   }
  }
 },
 "nbformat": 4,
 "nbformat_minor": 2
}
