{
 "cells": [
  {
   "cell_type": "markdown",
   "metadata": {},
   "source": [
    "# [2020 카카오 인턴십 - 보석 쇼핑](https://school.programmers.co.kr/learn/courses/30/lessons/67258)\n",
    "\n",
    "## 풀이\n",
    "\n",
    "\n",
    "| <br/>[1, 3]                            |\n",
    "| ---------------------------------------- |\n",
    "| `[\"XYZ\", \"XYZ\", \"XYZ\"]`                |\n",
    "| `[\"ZZZ\", \"YYY\", \"NNNN\", \"YYY\", \"BBB\"]` |\n",
    "\n",
    "##### **입출력 예에 대한 설명**\n",
    "\n",
    "**입출력 예 #1**\n",
    "문제 예시와 같습니다.\n",
    "\n",
    "**입출력 예 #2**\n",
    "3종류의 보석(AA, AB, AC)을 모두 포함하는 가장 짧은 구간은 [1, 3], [2, 4]가 있습니다.\n",
    "`시작 진열대 번호`가 더 작은 [1, 3]을 return 해주어야 합니다.\n",
    "\n",
    "**입출력 예 #3**\n",
    "1종류의 보석(XYZ)을 포함하는 가장 짧은 구간은 [1, 1], [2, 2], [3, 3]이 있습니다.\n",
    "`시작 진열대 번호`가 가장 작은 [1, 1]을 return 해주어야 합니다.\n",
    "\n",
    "**입출력 예 #4**\n",
    "4종류의 보석(ZZZ, YYY, NNNN, BBB)을 모두 포함하는 구간은 [1, 5]가 유일합니다.\n",
    "그러므로 [1, 5]를 return 해주어야 합니다.\n",
    "\n",
    "※ 공지 - 2020년 7월 21일 테스트케이스가 추가되었습니다.\n"
   ]
  },
  {
   "cell_type": "markdown",
   "metadata": {},
   "source": [
    "## 풀이\n",
    "\n",
    "- Hash Table\n",
    "- Slice Window\n",
    "- Set\n",
    "\n",
    "이 문제는 여러 보석이 들어있는 리스트의 구간 중 모든 보석이 들어있는 가장 짧고 인덱스가 작은 구간을 반환해야 한다.\n",
    "\n",
    "![](assets/20221007_094457_image.png)\n"
   ]
  },
  {
   "cell_type": "code",
   "execution_count": null,
   "metadata": {},
   "outputs": [],
   "source": [
    "from collections import Counter\n",
    "\n",
    "def solution(gems):\n",
    "    answer = []\n",
    "    all_gems = set(gems)\n",
    "    gems_table = Counter()\n",
    "    \n",
    "    pos = 0\n",
    "    min_length = len(gems)\n",
    "    count = 0\n",
    "    \n",
    "    for end, gem in enumerate(gems):\n",
    "        # 새로운 보석일 경우\n",
    "        if gems_table[gem] == 0:\n",
    "            count += 1\n",
    "\n",
    "        # 모든 보석은 gems_table에 카운팅\n",
    "        gems_table[gem] += 1\n",
    "        \n",
    "        # 연속 되는 경우 가장 짧은 구간을 위해 구간 줄이기\n",
    "        for start in range(pos, end):\n",
    "            if gems_table[gems[start]] <= 1:\n",
    "                break\n",
    "            pos += 1\n",
    "            gems_table[gems[start]] -= 1\n",
    "                \n",
    "        # 모든 보석을 찾은 경우\n",
    "        if count == len(all_gems):\n",
    "            # 가장 짧은 구간이라면\n",
    "            if end - pos < min_length:\n",
    "                answer = [pos + 1, end + 1]\n",
    "                min_length = end - pos\n",
    "        \n",
    "    \n",
    "    return answer"
   ]
  },
  {
   "cell_type": "markdown",
   "metadata": {},
   "source": [
    "![](assets/20221007_094623_image.png)\n"
   ]
  }
 ],
 "metadata": {
  "kernelspec": {
   "display_name": "Python 3.10.7 64-bit",
   "language": "python",
   "name": "python3"
  },
  "language_info": {
   "name": "python",
   "version": "3.10.7"
  },
  "orig_nbformat": 4,
  "vscode": {
   "interpreter": {
    "hash": "aee8b7b246df8f9039afb4144a1f6fd8d2ca17a180786b69acc140d282b71a49"
   }
  }
 },
 "nbformat": 4,
 "nbformat_minor": 2
}
