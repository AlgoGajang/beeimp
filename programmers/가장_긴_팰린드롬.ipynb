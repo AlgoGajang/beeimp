{
 "cells": [
  {
   "cell_type": "markdown",
   "metadata": {},
   "source": [
    "# [가장 긴 팰린드롬](https://school.programmers.co.kr/learn/courses/30/lessons/12904)\n",
    "\n",
    "## 문제\n",
    "\n",
    "###### 문제 설명\n",
    "\n",
    "앞뒤를 뒤집어도 똑같은 문자열을 팰린드롬(palindrome)이라고 합니다.\n",
    "문자열 s가 주어질 때, s의 부분문자열(Substring)중 가장 긴 팰린드롬의 길이를 return 하는 solution 함수를 완성해 주세요.\n",
    "\n",
    "예를들면, 문자열 s가 \"abcdcba\"이면 7을 return하고 \"abacde\"이면 3을 return합니다.\n",
    "\n",
    "##### 제한사항\n",
    "\n",
    "* 문자열 s의 길이 : 2,500 이하의 자연수\n",
    "* 문자열 s는 알파벳 소문자로만 구성\n",
    "\n",
    "---\n",
    "\n",
    "##### 입출력 예\n",
    "\n",
    "\n",
    "| s         | answer |\n",
    "| ----------- | -------- |\n",
    "| \"abcdcba\" | 7      |\n",
    "| \"abacde\"  | 3      |\n",
    "\n",
    "##### 입출력 예 설명\n",
    "\n",
    "입출력 예 #1\n",
    "4번째자리 'd'를 기준으로 문자열 s 전체가 팰린드롬이 되므로 7을 return합니다.\n",
    "\n",
    "입출력 예 #2\n",
    "2번째자리 'b'를 기준으로 \"aba\"가 팰린드롬이 되므로 3을 return합니다.\n"
   ]
  },
  {
   "cell_type": "markdown",
   "metadata": {},
   "source": [
    "## 풀이\n",
    "\n",
    "- String\n",
    "- Two Pointers\n",
    "\n",
    "이 문제는 주어진 문자열에서 가장 긴 팰린드롭의 길이를 반환해야 한다.\n",
    "\n",
    "문자열에서 구간을 설정하고 그 구간의 문자열을 뒤집은 문자열과 비교하여 가장 긴 길이를 구했다."
   ]
  },
  {
   "cell_type": "code",
   "execution_count": null,
   "metadata": {},
   "outputs": [],
   "source": [
    "def solution(s):\n",
    "    answer = 1\n",
    "    \n",
    "    for start in range(len(s)):\n",
    "        for end in range(start + 2, len(s) + 1):\n",
    "            a = s[start:end]\n",
    "            if len(a) < answer:\n",
    "                continue\n",
    "            if a == a[::-1]:\n",
    "                answer = max(answer, end - start)\n",
    "    return answer"
   ]
  },
  {
   "cell_type": "markdown",
   "metadata": {},
   "source": [
    "## 결과\n",
    "\n",
    "![](assets/20221023_191323_image.png)\n"
   ]
  }
 ],
 "metadata": {
  "kernelspec": {
   "display_name": "Python 3.10.7 64-bit",
   "language": "python",
   "name": "python3"
  },
  "language_info": {
   "name": "python",
   "version": "3.10.7"
  },
  "orig_nbformat": 4,
  "vscode": {
   "interpreter": {
    "hash": "aee8b7b246df8f9039afb4144a1f6fd8d2ca17a180786b69acc140d282b71a49"
   }
  }
 },
 "nbformat": 4,
 "nbformat_minor": 2
}
