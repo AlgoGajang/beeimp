{
 "cells": [
  {
   "cell_type": "markdown",
   "metadata": {},
   "source": [
    "# [디스크 컨트롤러](https://school.programmers.co.kr/learn/courses/30/lessons/42627)"
   ]
  },
  {
   "cell_type": "markdown",
   "metadata": {},
   "source": [
    "## 문제\n",
    "\n",
    "###### 문제 설명\n",
    "\n",
    "하드디스크는 한 번에 하나의 작업만 수행할 수 있습니다. 디스크 컨트롤러를 구현하는 방법은 여러 가지가 있습니다. 가장 일반적인 방법은 요청이 들어온 순서대로 처리하는 것입니다.\n",
    "\n",
    "예를들어\n",
    "\n",
    "```\n",
    "- 0ms 시점에 3ms가 소요되는 A작업 요청\n",
    "- 1ms 시점에 9ms가 소요되는 B작업 요청\n",
    "- 2ms 시점에 6ms가 소요되는 C작업 요청\n",
    "```\n",
    "\n",
    "와 같은 요청이 들어왔습니다. 이를 그림으로 표현하면 아래와 같습니다.\n",
    "![Screen Shot 2018-09-13 at 6.34.58 PM.png](https://grepp-programmers.s3.amazonaws.com/files/production/b68eb5cec6/38dc6a53-2d21-4c72-90ac-f059729c51d5.png)\n",
    "\n",
    "한 번에 하나의 요청만을 수행할 수 있기 때문에 각각의 작업을 요청받은 순서대로 처리하면 다음과 같이 처리 됩니다.\n",
    "![Screen Shot 2018-09-13 at 6.38.52 PM.png](https://grepp-programmers.s3.amazonaws.com/files/production/5e677b4646/90b91fde-cac4-42c1-98b8-8f8431c52dcf.png)\n",
    "\n",
    "```\n",
    "- A: 3ms 시점에 작업 완료 (요청에서 종료까지 : 3ms)\n",
    "- B: 1ms부터 대기하다가, 3ms 시점에 작업을 시작해서 12ms 시점에 작업 완료(요청에서 종료까지 : 11ms)\n",
    "- C: 2ms부터 대기하다가, 12ms 시점에 작업을 시작해서 18ms 시점에 작업 완료(요청에서 종료까지 : 16ms)\n",
    "```\n",
    "\n",
    "이 때 각 작업의 요청부터 종료까지 걸린 시간의 평균은 10ms(= (3 + 11 + 16) / 3)가 됩니다.\n",
    "\n",
    "하지만 A → C → B 순서대로 처리하면\n",
    "![Screen Shot 2018-09-13 at 6.41.42 PM.png](https://grepp-programmers.s3.amazonaws.com/files/production/9eb7c5a6f1/a6cff04d-86bb-4b5b-98bf-6359158940ac.png)\n",
    "\n",
    "```\n",
    "- A: 3ms 시점에 작업 완료(요청에서 종료까지 : 3ms)\n",
    "- C: 2ms부터 대기하다가, 3ms 시점에 작업을 시작해서 9ms 시점에 작업 완료(요청에서 종료까지 : 7ms)\n",
    "- B: 1ms부터 대기하다가, 9ms 시점에 작업을 시작해서 18ms 시점에 작업 완료(요청에서 종료까지 : 17ms)\n",
    "```\n",
    "\n",
    "이렇게 A → C → B의 순서로 처리하면 각 작업의 요청부터 종료까지 걸린 시간의 평균은 9ms(= (3 + 7 + 17) / 3)가 됩니다.\n",
    "\n",
    "각 작업에 대해 [작업이 요청되는 시점, 작업의 소요시간]을 담은 2차원 배열 jobs가 매개변수로 주어질 때, 작업의 요청부터 종료까지 걸린 시간의 평균을 가장 줄이는 방법으로 처리하면 평균이 얼마가 되는지 return 하도록 solution 함수를 작성해주세요. (단, 소수점 이하의 수는 버립니다)\n",
    "\n",
    "##### 제한 사항\n",
    "\n",
    "* jobs의 길이는 1 이상 500 이하입니다.\n",
    "* jobs의 각 행은 하나의 작업에 대한 [작업이 요청되는 시점, 작업의 소요시간] 입니다.\n",
    "* 각 작업에 대해 작업이 요청되는 시간은 0 이상 1,000 이하입니다.\n",
    "* 각 작업에 대해 작업의 소요시간은 1 이상 1,000 이하입니다.\n",
    "* 하드디스크가 작업을 수행하고 있지 않을 때에는 먼저 요청이 들어온 작업부터 처리합니다.\n",
    "\n",
    "##### 입출력 예\n",
    "\n",
    "\n",
    "| jobs                     | return |\n",
    "| -------------------------- | -------- |\n",
    "| [[0, 3], [1, 9], [2, 6]] | 9      |\n",
    "\n",
    "##### 입출력 예 설명\n",
    "\n",
    "문제에 주어진 예와 같습니다.\n",
    "\n",
    "* 0ms 시점에 3ms 걸리는 작업 요청이 들어옵니다.\n",
    "* 1ms 시점에 9ms 걸리는 작업 요청이 들어옵니다.\n",
    "* 2ms 시점에 6ms 걸리는 작업 요청이 들어옵니다.\n"
   ]
  },
  {
   "cell_type": "markdown",
   "metadata": {},
   "source": [
    "## 풀이\n",
    "\n",
    "- Heap(Priority Queue)\n",
    "\n",
    "이 문제는 작업들이 종료까지 걸리는 최소 평균값을 구해야 한다.\n",
    "\n",
    "현재 시간 동안 들어온 작업 중 소요시간이 가장 짧은 작업을 먼저 처리했다."
   ]
  },
  {
   "cell_type": "code",
   "execution_count": null,
   "metadata": {},
   "outputs": [],
   "source": [
    "from heapq import heappush, heappop\n",
    "\n",
    "def solution(jobs):\n",
    "    answer = 0\n",
    "    \n",
    "    jobs = [[time, start] for start, time in jobs] # Heap 사용을 위해 위치 변경\n",
    "    \n",
    "    index, pos_time, current_time = 0, 0, 0 # jobs의 인덱스, 기준시, 현재시\n",
    "    \n",
    "    schedules = [] # 작업 Heap\n",
    "    \n",
    "    while index < len(jobs):\n",
    "        for i in range(len(jobs)):\n",
    "            time, start = jobs[i]\n",
    "            if pos_time <= start and start <= current_time:\n",
    "                heappush(schedules, [time, start])\n",
    "        \n",
    "        if schedules:\n",
    "            time, start = heappop(schedules)\n",
    "            answer += current_time + time - start\n",
    "            pos_time = current_time + 1\n",
    "            current_time += time\n",
    "            index += 1\n",
    "        else:\n",
    "            current_time += 1\n",
    "        \n",
    "    return answer // len(jobs)"
   ]
  },
  {
   "cell_type": "markdown",
   "metadata": {},
   "source": [
    "![](assets/20221013_114056_image.png)\n"
   ]
  }
 ],
 "metadata": {
  "kernelspec": {
   "display_name": "Python 3.10.7 64-bit",
   "language": "python",
   "name": "python3"
  },
  "language_info": {
   "name": "python",
   "version": "3.10.7"
  },
  "orig_nbformat": 4,
  "vscode": {
   "interpreter": {
    "hash": "aee8b7b246df8f9039afb4144a1f6fd8d2ca17a180786b69acc140d282b71a49"
   }
  }
 },
 "nbformat": 4,
 "nbformat_minor": 2
}
