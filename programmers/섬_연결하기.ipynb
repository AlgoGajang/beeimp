{
 "cells": [
  {
   "cell_type": "markdown",
   "metadata": {},
   "source": [
    "# [섬 연결하기](https://school.programmers.co.kr/learn/courses/30/lessons/42861)\n",
    "\n",
    "## 풀이\n",
    "\n",
    "###### 문제 설명\n",
    "\n",
    "n개의 섬 사이에 다리를 건설하는 비용(costs)이 주어질 때, 최소의 비용으로 모든 섬이 서로 통행 가능하도록 만들 때 필요한 최소 비용을 return 하도록 solution을 완성하세요.\n",
    "\n",
    "다리를 여러 번 건너더라도, 도달할 수만 있으면 통행 가능하다고 봅니다. 예를 들어 A 섬과 B 섬 사이에 다리가 있고, B 섬과 C 섬 사이에 다리가 있으면 A 섬과 C 섬은 서로 통행 가능합니다.\n",
    "\n",
    "**제한사항**\n",
    "\n",
    "* 섬의 개수 n은 1 이상 100 이하입니다.\n",
    "* costs의 길이는 `((n-1) * n) / 2`이하입니다.\n",
    "* 임의의 i에 대해, costs[i][0] 와 costs[i] [1]에는 다리가 연결되는 두 섬의 번호가 들어있고, costs[i] [2]에는 이 두 섬을 연결하는 다리를 건설할 때 드는 비용입니다.\n",
    "* 같은 연결은 두 번 주어지지 않습니다. 또한 순서가 바뀌더라도 같은 연결로 봅니다. 즉 0과 1 사이를 연결하는 비용이 주어졌을 때, 1과 0의 비용이 주어지지 않습니다.\n",
    "* 모든 섬 사이의 다리 건설 비용이 주어지지 않습니다. 이 경우, 두 섬 사이의 건설이 불가능한 것으로 봅니다.\n",
    "* 연결할 수 없는 섬은 주어지지 않습니다.\n",
    "\n",
    "**입출력 예**\n",
    "\n",
    "\n",
    "| n | costs                                     | return |\n",
    "| --- | ------------------------------------------- | -------- |\n",
    "| 4 | [[0,1,1],[0,2,2],[1,2,5],[1,3,1],[2,3,8]] | 4      |\n",
    "\n",
    "**입출력 예 설명**\n",
    "\n",
    "costs를 그림으로 표현하면 다음과 같으며, 이때 초록색 경로로 연결하는 것이 가장 적은 비용으로 모두를 통행할 수 있도록 만드는 방법입니다.\n",
    "\n",
    "![image.png](https://grepp-programmers.s3.amazonaws.com/files/production/13e2952057/f2746a8c-527c-4451-9a73-42129911fe17.png)\n"
   ]
  },
  {
   "cell_type": "markdown",
   "metadata": {},
   "source": [
    "## 풀이\n",
    "\n",
    "- Greedy\n",
    "- Kruskal\n",
    "\n",
    "이 문제는 모든 노드가 연결되는 최소 비용을 구해야 한다.\n",
    "\n",
    "먼저, 입력값으로 주어지는 costs를 비용으로 정렬한다.\n",
    "\n",
    "다음, costs를 순차적으로 돌면서 노드를 연결한다. 노드가 추가될 때마다 비용을 더한다."
   ]
  },
  {
   "cell_type": "code",
   "execution_count": null,
   "metadata": {},
   "outputs": [],
   "source": [
    "def solution(n, costs):\n",
    "    costs = sorted(costs, key=lambda x:x[2]) # 탐욕법을 위해 cost로 정렬\n",
    "    node = set([costs[0][0], costs[0][1]]) # 연결된 노드\n",
    "    answer = costs[0][2] # 연결된 노드의 비용 합\n",
    "\n",
    "    # 모든 노드가 연결되지 않았다면 반복\n",
    "    while len(node) < n:\n",
    "        for s_node, d_node, cost in costs[1:]:\n",
    "            # 시작 노드와 도착 노드가 모두 연결되어 있다면\n",
    "            if s_node in node and d_node in node:\n",
    "                continue\n",
    "            # 시작 노드와 도착 노드가 하나라도 연결되어 있다면\n",
    "            if s_node in node or d_node in node:\n",
    "                node.update([s_node, d_node]) # 시작 노드 또는 도착 노드를 연결된 노드에 추가\n",
    "                answer += cost # 비용 추가\n",
    "                break\n",
    "    return answer\n"
   ]
  },
  {
   "cell_type": "markdown",
   "metadata": {},
   "source": [
    "![](assets/20221011_112715_image.png)\n"
   ]
  }
 ],
 "metadata": {
  "kernelspec": {
   "display_name": "Python 3.10.7 64-bit",
   "language": "python",
   "name": "python3"
  },
  "language_info": {
   "name": "python",
   "version": "3.10.7"
  },
  "orig_nbformat": 4,
  "vscode": {
   "interpreter": {
    "hash": "aee8b7b246df8f9039afb4144a1f6fd8d2ca17a180786b69acc140d282b71a49"
   }
  }
 },
 "nbformat": 4,
 "nbformat_minor": 2
}
