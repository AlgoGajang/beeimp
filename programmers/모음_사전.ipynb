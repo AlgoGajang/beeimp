{
 "cells": [
  {
   "cell_type": "markdown",
   "metadata": {},
   "source": [
    "# [모음 사전](https://school.programmers.co.kr/learn/courses/30/lessons/84512)\n",
    "\n",
    "## 문제\n",
    "\n",
    "###### 문제 설명\n",
    "\n",
    "사전에 알파벳 모음 'A', 'E', 'I', 'O', 'U'만을 사용하여 만들 수 있는, 길이 5 이하의 모든 단어가 수록되어 있습니다. 사전에서 첫 번째 단어는 \"A\"이고, 그다음은 \"AA\"이며, 마지막 단어는 \"UUUUU\"입니다.\n",
    "\n",
    "단어 하나 word가 매개변수로 주어질 때, 이 단어가 사전에서 몇 번째 단어인지 return 하도록 solution 함수를 완성해주세요.\n",
    "\n",
    "##### 제한사항\n",
    "\n",
    "* word의 길이는 1 이상 5 이하입니다.\n",
    "* word는 알파벳 대문자 'A', 'E', 'I', 'O', 'U'로만 이루어져 있습니다.\n",
    "\n",
    "---\n",
    "\n",
    "##### 입출력 예\n",
    "\n",
    "\n",
    "| word      | result |\n",
    "| ----------- | -------- |\n",
    "| `\"AAAAE\"` | 6      |\n",
    "| `\"AAAE\"`  | 10     |\n",
    "| `\"I\"`     | 1563   |\n",
    "| `\"EIO\"`   | 1189   |\n",
    "\n",
    "##### 입출력 예 설명\n",
    "\n",
    "입출력 예 #1\n",
    "\n",
    "사전에서 첫 번째 단어는 \"A\"이고, 그다음은 \"AA\", \"AAA\", \"AAAA\", \"AAAAA\", \"AAAAE\", ... 와 같습니다. \"AAAAE\"는 사전에서 6번째 단어입니다.\n",
    "\n",
    "입출력 예 #2\n",
    "\n",
    "\"AAAE\"는 \"A\", \"AA\", \"AAA\", \"AAAA\", \"AAAAA\", \"AAAAE\", \"AAAAI\", \"AAAAO\", \"AAAAU\"의 다음인 10번째 단어입니다.\n",
    "\n",
    "입출력 예 #3\n",
    "\n",
    "\"I\"는 1563번째 단어입니다.\n",
    "\n",
    "입출력 예 #4\n",
    "\n",
    "\"EIO\"는 1189번째 단어입니다.\n"
   ]
  },
  {
   "cell_type": "markdown",
   "metadata": {},
   "source": [
    "## 풀이\n",
    "\n",
    "- Brute-force\n",
    "- Combination\n",
    "\n",
    "이 문제는 알파벳의 조합에서 입력값 문자열이 사전 순에서 몇 번째에 나오는지 구해야 한다.\n",
    "\n",
    "모든 조합을 구하고 그 조합에서 문자열을 찾는 방법으로 해결했다."
   ]
  },
  {
   "cell_type": "code",
   "execution_count": null,
   "metadata": {},
   "outputs": [],
   "source": [
    "from itertools import product\n",
    "\n",
    "def solution(word):\n",
    "    words = ['']\n",
    "    alpha = ['A', 'E', 'I', 'O', 'U']\n",
    "    for i in range(1, 6):\n",
    "        for c in product(alpha, repeat=i):\n",
    "            words.append(''.join(list(c)))\n",
    "\n",
    "    words.sort()\n",
    "    return words.index(word) "
   ]
  },
  {
   "cell_type": "markdown",
   "metadata": {},
   "source": [
    "### Reference Code\n",
    "\n",
    "- Sum of geometric sequences\n",
    "\n",
    "등비수열의 합으로 해결한 코드는 다음과 같다.\n",
    "\n",
    "(이렇게 풀고 싶었으나, 식을 구현하지 못했다.)"
   ]
  },
  {
   "cell_type": "code",
   "execution_count": null,
   "metadata": {},
   "outputs": [],
   "source": [
    "def solution(word):\n",
    "    answer = 0\n",
    "    for i, n in enumerate(word):\n",
    "        answer += (5 ** (5 - i) - 1) / (5 - 1) * \"AEIOU\".index(n) + 1\n",
    "    return answer"
   ]
  },
  {
   "cell_type": "markdown",
   "metadata": {},
   "source": [
    "## 결과\n",
    "\n",
    "### My Code\n",
    "\n",
    "![](assets/20221021_110330_image.png)\n",
    "\n",
    "### Reference Code\n",
    "\n",
    "![](assets/20221021_110421_image.png)\n"
   ]
  }
 ],
 "metadata": {
  "kernelspec": {
   "display_name": "Python 3.10.7 64-bit",
   "language": "python",
   "name": "python3"
  },
  "language_info": {
   "name": "python",
   "version": "3.10.7"
  },
  "orig_nbformat": 4,
  "vscode": {
   "interpreter": {
    "hash": "aee8b7b246df8f9039afb4144a1f6fd8d2ca17a180786b69acc140d282b71a49"
   }
  }
 },
 "nbformat": 4,
 "nbformat_minor": 2
}
