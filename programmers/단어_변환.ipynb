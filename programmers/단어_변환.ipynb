{
 "cells": [
  {
   "cell_type": "markdown",
   "metadata": {},
   "source": [
    "# [단어 변환](https://school.programmers.co.kr/learn/courses/30/lessons/43163)\n",
    "\n",
    "## 문제\n",
    "\n",
    "###### 문제 설명\n",
    "\n",
    "두 개의 단어 begin, target과 단어의 집합 words가 있습니다. 아래와 같은 규칙을 이용하여 begin에서 target으로 변환하는 가장 짧은 변환 과정을 찾으려고 합니다.\n",
    "\n",
    "```\n",
    "1. 한 번에 한 개의 알파벳만 바꿀 수 있습니다.\n",
    "2. words에 있는 단어로만 변환할 수 있습니다.\n",
    "```\n",
    "\n",
    "예를 들어 begin이 \"hit\", target가 \"cog\", words가 [\"hot\",\"dot\",\"dog\",\"lot\",\"log\",\"cog\"]라면 \"hit\" -> \"hot\" -> \"dot\" -> \"dog\" -> \"cog\"와 같이 4단계를 거쳐 변환할 수 있습니다.\n",
    "\n",
    "두 개의 단어 begin, target과 단어의 집합 words가 매개변수로 주어질 때, 최소 몇 단계의 과정을 거쳐 begin을 target으로 변환할 수 있는지 return 하도록 solution 함수를 작성해주세요.\n",
    "\n",
    "##### 제한사항\n",
    "\n",
    "* 각 단어는 알파벳 소문자로만 이루어져 있습니다.\n",
    "* 각 단어의 길이는 3 이상 10 이하이며 모든 단어의 길이는 같습니다.\n",
    "* words에는 3개 이상 50개 이하의 단어가 있으며 중복되는 단어는 없습니다.\n",
    "* begin과 target은 같지 않습니다.\n",
    "* 변환할 수 없는 경우에는 0를 return 합니다.\n",
    "\n",
    "##### 입출력 예\n",
    "\n",
    "\n",
    "| begin | target | words                                      | return |\n",
    "| ------- | -------- | -------------------------------------------- | -------- |\n",
    "| \"hit\" | \"cog\"  | [\"hot\", \"dot\", \"dog\", \"lot\", \"log\", \"cog\"] | 4      |\n",
    "| \"hit\" | \"cog\"  | [\"hot\", \"dot\", \"dog\", \"lot\", \"log\"]        | 0      |\n",
    "\n",
    "##### 입출력 예 설명\n",
    "\n",
    "예제 #1\n",
    "문제에 나온 예와 같습니다.\n",
    "\n",
    "예제 #2\n",
    "target인 \"cog\"는 words 안에 없기 때문에 변환할 수 없습니다.\n"
   ]
  },
  {
   "cell_type": "markdown",
   "metadata": {},
   "source": [
    "## 풀이\n",
    "\n",
    "- BFS\n",
    "- Hash Table\n",
    "\n",
    "이 문제는 입력값 begin 문자열을 하나씩 바꾼 단어가 입력값 words의 배열 안에 있어야 하며, 최종적으로 taget을 만드는 최솟값을 구해야 한다."
   ]
  },
  {
   "cell_type": "code",
   "execution_count": 15,
   "metadata": {},
   "outputs": [
    {
     "name": "stdout",
     "output_type": "stream",
     "text": [
      "visited : Counter({'hot': 1, 'dot': 1, 'dog': 1, 'lot': 1, 'log': 1, 'cog': 1})\n",
      "word_dict : [{'h': True, 'd': True, 'l': True, 'c': True}, {'o': True}, {'t': True, 'g': True}]\n"
     ]
    },
    {
     "data": {
      "text/plain": [
       "4"
      ]
     },
     "execution_count": 15,
     "metadata": {},
     "output_type": "execute_result"
    }
   ],
   "source": [
    "from collections import deque\n",
    "from typing import Counter\n",
    "\n",
    "def solution(begin, target, words):\n",
    "    answer = 0\n",
    "    visited = Counter(words) # 방문할 수 있는 단어들\n",
    "    # print('visited :', visited)\n",
    "    word_dict = [{} for _ in target] # 각 자리에 들어갈 수 있는 문자\n",
    "    q = deque()\n",
    "\n",
    "    for word in words:\n",
    "      for i, c in enumerate(word):\n",
    "        word_dict[i][c] = True # 각 자리에 들어갈 수 잇는 문자 추가\n",
    "    # print('word_dict :',word_dict)\n",
    "\n",
    "    q.append((0, begin))\n",
    "\n",
    "    while q:\n",
    "        count, current_word = q.popleft()\n",
    "        \n",
    "        if current_word == target: # 현재 단어가 최종 단어와 같다면 \n",
    "            return count\n",
    "        \n",
    "        for i, alphabets in enumerate(word_dict):\n",
    "          for alphabet in alphabets:\n",
    "            new_word = current_word[:i] + alphabet + current_word[i + 1:]\n",
    "            if visited[new_word] == 1 and new_word:\n",
    "                q.append((count + 1, new_word))\n",
    "                visited[new_word] = 0 \n",
    "    \n",
    "    return answer\n",
    "solution(\"hit\",\t\"cog\",\t[\"hot\", \"dot\", \"dog\", \"lot\", \"log\", \"cog\"])"
   ]
  },
  {
   "cell_type": "markdown",
   "metadata": {},
   "source": [
    "![](assets/20221003_111426_image.png)\n"
   ]
  }
 ],
 "metadata": {
  "kernelspec": {
   "display_name": "Python 3.8.9 64-bit",
   "language": "python",
   "name": "python3"
  },
  "language_info": {
   "codemirror_mode": {
    "name": "ipython",
    "version": 3
   },
   "file_extension": ".py",
   "mimetype": "text/x-python",
   "name": "python",
   "nbconvert_exporter": "python",
   "pygments_lexer": "ipython3",
   "version": "3.8.9"
  },
  "orig_nbformat": 4,
  "vscode": {
   "interpreter": {
    "hash": "31f2aee4e71d21fbe5cf8b01ff0e069b9275f58929596ceb00d14d90e3e16cd6"
   }
  }
 },
 "nbformat": 4,
 "nbformat_minor": 2
}
