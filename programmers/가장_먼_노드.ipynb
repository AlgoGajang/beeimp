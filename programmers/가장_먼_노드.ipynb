{
 "cells": [
  {
   "cell_type": "markdown",
   "metadata": {},
   "source": [
    "# [가장 먼 노드](https://school.programmers.co.kr/learn/courses/30/lessons/49189)\n",
    "\n",
    "## 문제\n",
    "\n",
    "###### 문제 설명\n",
    "\n",
    "n개의 노드가 있는 그래프가 있습니다. 각 노드는 1부터 n까지 번호가 적혀있습니다. 1번 노드에서 가장 멀리 떨어진 노드의 갯수를 구하려고 합니다. 가장 멀리 떨어진 노드란 최단경로로 이동했을 때 간선의 개수가 가장 많은 노드들을 의미합니다.\n",
    "\n",
    "노드의 개수 n, 간선에 대한 정보가 담긴 2차원 배열 vertex가 매개변수로 주어질 때, 1번 노드로부터 가장 멀리 떨어진 노드가 몇 개인지를 return 하도록 solution 함수를 작성해주세요.\n",
    "\n",
    "##### 제한사항\n",
    "\n",
    "* 노드의 개수 n은 2 이상 20,000 이하입니다.\n",
    "* 간선은 양방향이며 총 1개 이상 50,000개 이하의 간선이 있습니다.\n",
    "* vertex 배열 각 행 [a, b]는 a번 노드와 b번 노드 사이에 간선이 있다는 의미입니다.\n",
    "\n",
    "##### 입출력 예\n",
    "\n",
    "\n",
    "| n | vertex                                                   | return |\n",
    "| --- | ---------------------------------------------------------- | -------- |\n",
    "| 6 | [[3, 6], [4, 3], [3, 2], [1, 3], [1, 2], [2, 4], [5, 2]] | 3      |\n",
    "\n",
    "##### 입출력 예 설명\n",
    "\n",
    "예제의 그래프를 표현하면 아래 그림과 같고, 1번 노드에서 가장 멀리 떨어진 노드는 4,5,6번 노드입니다.\n",
    "\n",
    "![image.png](https://grepp-programmers.s3.amazonaws.com/files/ybm/fadbae38bb/dec85ab5-0273-47b3-ba73-fc0b5f6be28a.png)\n"
   ]
  },
  {
   "cell_type": "markdown",
   "metadata": {},
   "source": [
    "## 풀이\n",
    "\n",
    "- Graph\n",
    "- BFS\n",
    "\n",
    "이 문제는 node 1로부터 가장 먼 노드의 개수를 구해야 한다.\n",
    "\n",
    "풀이 설명은 주석으로 대체한다."
   ]
  },
  {
   "cell_type": "code",
   "execution_count": null,
   "metadata": {},
   "outputs": [],
   "source": [
    "from collections import deque\n",
    "\n",
    "def solution(n, edge):\n",
    "    answer = 0\n",
    "    visited = [False] * (n + 1) # 방문한 노드 확인용 리스트\n",
    "    graph = [[] for _ in range(n + 1)] # edge를 담기 위한 graph\n",
    "    max_count = 0 # 가장 먼 노드와의 최대 edge 개수\n",
    "    \n",
    "    # 그래프 값 추가\n",
    "    for a, b in edge:\n",
    "        graph[a].append(b)\n",
    "        graph[b].append(a)\n",
    "    \n",
    "    q = deque() # Queue 선언\n",
    "    q.append((0, 1)) # 초기 edge 개수와 1 번 노드 추가\n",
    "    visited[1] = True # 노드 1번 방문 설정\n",
    "    \n",
    "    while q:\n",
    "        count, node = q.popleft()\n",
    "\n",
    "        # 거리가 더 긴 edge가 있다면\n",
    "        if max_count < count:\n",
    "            answer = 1 # 노드 개수 초기화\n",
    "            max_count = count # 최대 edge 개수 수정\n",
    "        \n",
    "        # 거리가 같은 edge가 있다면\n",
    "        elif max_count == count:\n",
    "            answer += 1 # 노드 1개 추가\n",
    "        \n",
    "        # 현재 노드가 갈 수 있는 다음 노드들 확인\n",
    "        for next_node in graph[node]:\n",
    "            # 다음 노드가 방문하지 않았다면\n",
    "            if not visited[next_node]:\n",
    "                q.append((count + 1, next_node)) # Queue에 edge 개수 + 1, 다음 노드 추가\n",
    "                visited[next_node] = True # 방문 처리\n",
    "    \n",
    "    return answer"
   ]
  },
  {
   "cell_type": "markdown",
   "metadata": {},
   "source": [
    "![](assets/20221011_102604_image.png)\n"
   ]
  }
 ],
 "metadata": {
  "kernelspec": {
   "display_name": "Python 3.10.7 64-bit",
   "language": "python",
   "name": "python3"
  },
  "language_info": {
   "name": "python",
   "version": "3.10.7"
  },
  "orig_nbformat": 4,
  "vscode": {
   "interpreter": {
    "hash": "aee8b7b246df8f9039afb4144a1f6fd8d2ca17a180786b69acc140d282b71a49"
   }
  }
 },
 "nbformat": 4,
 "nbformat_minor": 2
}
