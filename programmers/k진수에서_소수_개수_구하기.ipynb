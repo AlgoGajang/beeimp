{
 "cells": [
  {
   "cell_type": "markdown",
   "metadata": {},
   "source": [
    "# k진수에서 소수 개수 구하기\n",
    "\n",
    "###### 문제 설명\n",
    "\n",
    "##### 문제 설명\n",
    "\n",
    "양의 정수 `n`이 주어집니다. 이 숫자를 `k`진수로 바꿨을 때, 변환된 수 안에 아래 조건에 맞는 소수(Prime number)가 몇 개인지 알아보려 합니다.\n",
    "\n",
    "* `0P0`처럼 소수 양쪽에 0이 있는 경우\n",
    "* `P0`처럼 소수 오른쪽에만 0이 있고 왼쪽에는 아무것도 없는 경우\n",
    "* `0P`처럼 소수 왼쪽에만 0이 있고 오른쪽에는 아무것도 없는 경우\n",
    "* `P`처럼 소수 양쪽에 아무것도 없는 경우\n",
    "* 단, `P`는 각 자릿수에 0을 포함하지 않는 소수입니다.\n",
    "  * 예를 들어, 101은 `P`가 될 수 없습니다.\n",
    "\n",
    "예를 들어, 437674을 3진수로 바꾸면 `211`0`2`01010`11`입니다. 여기서 찾을 수 있는 조건에 맞는 소수는 왼쪽부터 순서대로 211, 2, 11이 있으며, 총 3개입니다. (211, 2, 11을 `k`진법으로 보았을 때가 아닌, 10진법으로 보았을 때 소수여야 한다는 점에 주의합니다.) 211은 `P0` 형태에서 찾을 수 있으며, 2는 `0P0`에서, 11은 `0P`에서 찾을 수 있습니다.\n",
    "\n",
    "정수 `n`과 `k`가 매개변수로 주어집니다. `n`을 `k`진수로 바꿨을 때, 변환된 수 안에서 찾을 수 있는 **위 조건에 맞는 소수** 의 개수를 return 하도록 solution 함수를 완성해 주세요.\n",
    "\n",
    "---\n",
    "\n",
    "##### 제한사항\n",
    "\n",
    "* 1 ≤ `n` ≤ 1,000,000\n",
    "* 3 ≤ `k` ≤ 10\n",
    "\n",
    "---\n",
    "\n",
    "##### 입출력 예\n",
    "\n",
    "\n",
    "| n      | k  | result |\n",
    "| -------- | ---- | -------- |\n",
    "| 437674 | 3  | 3      |\n",
    "| 110011 | 10 | 2      |\n",
    "\n",
    "---\n",
    "\n",
    "##### 입출력 예 설명\n",
    "\n",
    "**입출력 예 #1**\n",
    "\n",
    "문제 예시와 같습니다.\n",
    "\n",
    "**입출력 예 #2**\n",
    "\n",
    "110011을 10진수로 바꾸면 110011입니다. 여기서 찾을 수 있는 조건에 맞는 소수는 11, 11 2개입니다. 이와 같이, 중복되는 소수를 발견하더라도 모두 따로 세어야 합니다.\n",
    "\n",
    "##### 문제가 잘 안풀린다면😢\n",
    "\n",
    "힌트가 필요한가요? [코딩테스트 연습 힌트 모음집]으로 오세요! → [클릭](https://school.programmers.co.kr/learn/courses/14743?itm_content=lesson92335)\n"
   ]
  },
  {
   "cell_type": "markdown",
   "metadata": {},
   "source": [
    "## 풀이\n",
    "\n",
    "- k number\n",
    "- primary\n",
    "\n",
    "이 문제는 입력값 n에 대해 k 진수로 변환하고 0을 끼지 않는 소수가 몇개 있는지 구해야 했다.\n",
    "\n",
    "먼저, k 진수 변환 함수를 생성한다.\n",
    "\n",
    "다음, 소수를 판별할 함수를 생성한다.\n",
    "\n",
    "마지막으로, 소수의 개수를 반환한다."
   ]
  },
  {
   "cell_type": "code",
   "execution_count": 40,
   "metadata": {},
   "outputs": [
    {
     "data": {
      "text/plain": [
       "2"
      ]
     },
     "execution_count": 40,
     "metadata": {},
     "output_type": "execute_result"
    }
   ],
   "source": [
    "def num_to_k_num(n, k):\n",
    "    k_num = ''\n",
    "    while 0 < n:\n",
    "      k_num += str(n % k)\n",
    "      n = n // k\n",
    "    return int(k_num[::-1])\n",
    "\n",
    "def is_primary(num):\n",
    "    if num <= 1:\n",
    "      return False\n",
    "    if num == 2:\n",
    "      return True\n",
    "    for n in range(3, int(num ** 0.5) + 1, 2):\n",
    "      if num % n == 0:\n",
    "        return False\n",
    "    return True\n",
    "\n",
    "def solution(n, k):\n",
    "    answer = 0\n",
    "    k_num = num_to_k_num(n, k)\n",
    "\n",
    "    for num in str(k_num).split('0'):\n",
    "      if num and is_primary(int(num)):\n",
    "          answer += 1\n",
    "\n",
    "    return answer\n",
    "\n",
    "solution(110011, 10) # 소수는 11, 11로 2개"
   ]
  },
  {
   "cell_type": "markdown",
   "metadata": {},
   "source": [
    "![](assets/20221001_221614_image.png)"
   ]
  }
 ],
 "metadata": {
  "kernelspec": {
   "display_name": "Python 3.8.9 64-bit",
   "language": "python",
   "name": "python3"
  },
  "language_info": {
   "codemirror_mode": {
    "name": "ipython",
    "version": 3
   },
   "file_extension": ".py",
   "mimetype": "text/x-python",
   "name": "python",
   "nbconvert_exporter": "python",
   "pygments_lexer": "ipython3",
   "version": "3.8.9"
  },
  "orig_nbformat": 4,
  "vscode": {
   "interpreter": {
    "hash": "31f2aee4e71d21fbe5cf8b01ff0e069b9275f58929596ceb00d14d90e3e16cd6"
   }
  }
 },
 "nbformat": 4,
 "nbformat_minor": 2
}
