{
 "cells": [
  {
   "cell_type": "markdown",
   "metadata": {},
   "source": [
    "# [스티커 모으기(2)](https://school.programmers.co.kr/learn/courses/30/lessons/12971)\n",
    "\n",
    "## 문제\n",
    "\n",
    "###### 문제 설명\n",
    "\n",
    "N개의 스티커가 원형으로 연결되어 있습니다. 다음 그림은 N = 8인 경우의 예시입니다.\n",
    "![스티커_hb1jty.jpg](https://grepp-programmers.s3.ap-northeast-2.amazonaws.com/files/production/d8d3a8b3-606c-4fb6-baf2-3a96cb53d70c/%E1%84%89%E1%85%B3%E1%84%90%E1%85%B5%E1%84%8F%E1%85%A5_hb1jty.jpg)\n",
    "\n",
    "원형으로 연결된 스티커에서 몇 장의 스티커를 뜯어내어 뜯어낸 스티커에 적힌 숫자의 합이 최대가 되도록 하고 싶습니다. 단 스티커 한 장을 뜯어내면 양쪽으로 인접해있는 스티커는 찢어져서 사용할 수 없게 됩니다.\n",
    "\n",
    "예를 들어 위 그림에서 14가 적힌 스티커를 뜯으면 인접해있는 10, 6이 적힌 스티커는 사용할 수 없습니다. 스티커에 적힌 숫자가 배열 형태로 주어질 때, 스티커를 뜯어내어 얻을 수 있는 숫자의 합의 최댓값을 return 하는 solution 함수를 완성해 주세요. 원형의 스티커 모양을 위해 배열의 첫 번째 원소와 마지막 원소가 서로 연결되어 있다고 간주합니다.\n",
    "\n",
    "##### 제한 사항\n",
    "\n",
    "* sticker는 원형으로 연결된 스티커의 각 칸에 적힌 숫자가 순서대로 들어있는 배열로, 길이(N)는 1 이상 100,000 이하입니다.\n",
    "* sticker의 각 원소는 스티커의 각 칸에 적힌 숫자이며, 각 칸에 적힌 숫자는 1 이상 100 이하의 자연수입니다.\n",
    "* 원형의 스티커 모양을 위해 sticker 배열의 첫 번째 원소와 마지막 원소가 서로 연결되어있다고 간주합니다.\n",
    "\n",
    "---\n",
    "\n",
    "##### 입출력 예\n",
    "\n",
    "\n",
    "| sticker                     | answer |\n",
    "| ----------------------------- | -------- |\n",
    "| [14, 6, 5, 11, 3, 9, 2, 10] | 36     |\n",
    "| [1, 3, 2, 5, 4]             | 8      |\n",
    "\n",
    "##### 입출력 예 설명\n",
    "\n",
    "입출력 예 #1\n",
    "6, 11, 9, 10이 적힌 스티커를 떼어 냈을 때 36으로 최대가 됩니다.\n",
    "\n",
    "입출력 예 #2\n",
    "3, 5가 적힌 스티커를 떼어 냈을 때 8로 최대가 됩니다.\n"
   ]
  },
  {
   "cell_type": "markdown",
   "metadata": {},
   "source": [
    "## 풀이\n",
    "\n",
    "- Dynamic Programming\n",
    "\n",
    "이 문제는 떼어낸 스티커 숫자의 최대 합을 구해야 한다.\n",
    "\n",
    "주의할 점은 떼어넨 스티커의 양 옆 스티커는 사용하지 못하고, 원형이다."
   ]
  },
  {
   "cell_type": "code",
   "execution_count": null,
   "metadata": {},
   "outputs": [],
   "source": [
    "def solution(sticker):\n",
    "    # 스티커가 3개 이하인 경우\n",
    "    if len(sticker) <= 3:\n",
    "        return max(sticker)\n",
    "    \n",
    "    # 첫 번째 스티커부터 시작\n",
    "    dp = [0] * len(sticker)\n",
    "    dp[0], dp[1] = sticker[0], sticker[0]\n",
    "\n",
    "    for i in range(2, len(sticker) - 1):\n",
    "        dp[i] = max(dp[i - 1], dp[i - 2] + sticker[i])\n",
    "    first_sticker = max(dp)\n",
    "    \n",
    "    # 두 번째 스티커부터 시작\n",
    "    dp = [0] * len(sticker)\n",
    "    dp[1] = sticker[1]\n",
    "    \n",
    "    for i in range(2, len(sticker)):\n",
    "        dp[i] = max(dp[i - 1], dp[i - 2] + sticker[i])\n",
    "        \n",
    "    return max(first_sticker, max(dp))"
   ]
  },
  {
   "cell_type": "markdown",
   "metadata": {},
   "source": [
    "![](assets/20221012_220013_image.png)\n"
   ]
  }
 ],
 "metadata": {
  "kernelspec": {
   "display_name": "Python 3.10.7 64-bit",
   "language": "python",
   "name": "python3"
  },
  "language_info": {
   "name": "python",
   "version": "3.10.7"
  },
  "orig_nbformat": 4,
  "vscode": {
   "interpreter": {
    "hash": "aee8b7b246df8f9039afb4144a1f6fd8d2ca17a180786b69acc140d282b71a49"
   }
  }
 },
 "nbformat": 4,
 "nbformat_minor": 2
}
