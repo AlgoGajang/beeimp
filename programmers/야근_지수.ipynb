{
 "cells": [
  {
   "cell_type": "markdown",
   "metadata": {},
   "source": [
    "# [야근 지수](https://school.programmers.co.kr/learn/courses/30/lessons/12927)\n",
    "\n",
    "## 풀이\n",
    "\n",
    "###### 문제 설명\n",
    "\n",
    "회사원 Demi는 가끔은 야근을 하는데요, 야근을 하면 야근 피로도가 쌓입니다. 야근 피로도는 야근을 시작한 시점에서 남은 일의 작업량을 제곱하여 더한 값입니다. Demi는 N시간 동안 야근 피로도를 최소화하도록 일할 겁니다.Demi가 1시간 동안 작업량 1만큼을 처리할 수 있다고 할 때, 퇴근까지 남은 N 시간과 각 일에 대한 작업량 works에 대해 야근 피로도를 최소화한 값을 리턴하는 함수 solution을 완성해주세요.\n",
    "\n",
    "##### 제한 사항\n",
    "\n",
    "* `works`는 길이 1 이상, 20,000 이하인 배열입니다.\n",
    "* `works`의 원소는 50000 이하인 자연수입니다.\n",
    "* `n`은 1,000,000 이하인 자연수입니다.\n",
    "\n",
    "##### 입출력 예\n",
    "\n",
    "\n",
    "| works     | n | result |\n",
    "| ----------- | --- | -------- |\n",
    "| [4, 3, 3] | 4 | 12     |\n",
    "| [2, 1, 2] | 1 | 6      |\n",
    "| [1,1]     | 3 | 0      |\n",
    "\n",
    "##### 입출력 예 설명\n",
    "\n",
    "입출력 예 #1\n",
    "n=4 일 때, 남은 일의 작업량이 [4, 3, 3] 이라면 야근 지수를 최소화하기 위해 4시간동안 일을 한 결과는 [2, 2, 2]입니다. 이 때 야근 지수는 2^2^ + 2^2^ + 2^2^ = 12 입니다.\n",
    "\n",
    "입출력 예 #2\n",
    "n=1일 때, 남은 일의 작업량이 [2,1,2]라면 야근 지수를 최소화하기 위해 1시간동안 일을 한 결과는 [1,1,2]입니다. 야근지수는 1^2^ + 1^2^ + 2^2^ = 6입니다.\n",
    "\n",
    "입출력 예 #3\n",
    "\n",
    "남은 작업량이 없으므로 피로도는 0입니다.\n"
   ]
  },
  {
   "cell_type": "markdown",
   "metadata": {},
   "source": [
    "## 풀이\n",
    "\n",
    "- Heap\n",
    "\n",
    "이 문제는 입력값 works 배열의 숫자를 입력값 n을 나눠 적절히 빼서 works 원소들의 제곱의 합이 최소가 되어야 한다.\n",
    "\n",
    "max_heap 형태로 works 원소를 담고, n을 반복하면서 heap에서 pop하여 가장 큰 원소를 1씩 빼고 다시 push했다."
   ]
  },
  {
   "cell_type": "code",
   "execution_count": 11,
   "metadata": {},
   "outputs": [
    {
     "data": {
      "text/plain": [
       "12"
      ]
     },
     "execution_count": 11,
     "metadata": {},
     "output_type": "execute_result"
    }
   ],
   "source": [
    "import heapq\n",
    "\n",
    "def solution(n, works):\n",
    "    if sum(works) <= n:\n",
    "        return 0\n",
    "\n",
    "    answer = 0\n",
    "    heap = []\n",
    "\n",
    "    for work in works:\n",
    "      heapq.heappush(heap, [-work, work])\n",
    "    \n",
    "    for _ in range(n):\n",
    "      a, b = heapq.heappop(heap)\n",
    "      heapq.heappush(heap, [a + 1, b - 1])\n",
    "\n",
    "    for _, value in heap:\n",
    "      answer += value * value\n",
    "\n",
    "    return answer\n",
    "  \n",
    "solution(4, [4, 3, 3])"
   ]
  },
  {
   "cell_type": "markdown",
   "metadata": {},
   "source": [
    "![](assets/20221004_094303_image.png)\n"
   ]
  }
 ],
 "metadata": {
  "kernelspec": {
   "display_name": "Python 3.8.9 64-bit",
   "language": "python",
   "name": "python3"
  },
  "language_info": {
   "codemirror_mode": {
    "name": "ipython",
    "version": 3
   },
   "file_extension": ".py",
   "mimetype": "text/x-python",
   "name": "python",
   "nbconvert_exporter": "python",
   "pygments_lexer": "ipython3",
   "version": "3.8.9"
  },
  "orig_nbformat": 4,
  "vscode": {
   "interpreter": {
    "hash": "31f2aee4e71d21fbe5cf8b01ff0e069b9275f58929596ceb00d14d90e3e16cd6"
   }
  }
 },
 "nbformat": 4,
 "nbformat_minor": 2
}
