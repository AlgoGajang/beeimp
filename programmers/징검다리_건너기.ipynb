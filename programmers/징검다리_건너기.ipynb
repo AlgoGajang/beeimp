{
 "cells": [
  {
   "cell_type": "markdown",
   "metadata": {},
   "source": [
    "# [징검다리 건너기](https://school.programmers.co.kr/learn/courses/30/lessons/64062)\n",
    "\n",
    "###### 문제 설명\n",
    "\n",
    "**[본 문제는 정확성과 효율성 테스트 각각 점수가 있는 문제입니다.]**\n",
    "\n",
    "카카오 초등학교의 \"니니즈 친구들\"이 \"라이언\" 선생님과 함께 가을 소풍을 가는 중에 **징검다리** 가 있는 개울을 만나서 건너편으로 건너려고 합니다. \"라이언\" 선생님은 \"니니즈 친구들\"이 무사히 징검다리를 건널 수 있도록 다음과 같이 규칙을 만들었습니다.\n",
    "\n",
    "* 징검다리는 일렬로 놓여 있고 각 징검다리의 디딤돌에는 모두 숫자가 적혀 있으며 디딤돌의 숫자는 한 번 밟을 때마다 1씩 줄어듭니다.\n",
    "* 디딤돌의 숫자가 0이 되면 더 이상 밟을 수 없으며 이때는 그 다음 디딤돌로 한번에 여러 칸을 건너 뛸 수 있습니다.\n",
    "* 단, 다음으로 밟을 수 있는 디딤돌이 여러 개인 경우 무조건 가장 가까운 디딤돌로만 건너뛸 수 있습니다.\n",
    "\n",
    "\"니니즈 친구들\"은 개울의 왼쪽에 있으며, 개울의 오른쪽 건너편에 도착해야 징검다리를 건넌 것으로 인정합니다.\n",
    "\"니니즈 친구들\"은 한 번에 한 명씩 징검다리를 건너야 하며, 한 친구가 징검다리를 모두 건넌 후에 그 다음 친구가 건너기 시작합니다.\n",
    "\n",
    "디딤돌에 적힌 숫자가 순서대로 담긴 배열 stones와 한 번에 건너뛸 수 있는 디딤돌의 최대 칸수 k가 매개변수로 주어질 때, 최대 몇 명까지 징검다리를 건널 수 있는지 return 하도록 solution 함수를 완성해주세요.\n",
    "\n",
    "#### **[제한사항]**\n",
    "\n",
    "* 징검다리를 건너야 하는 니니즈 친구들의 수는 무제한 이라고 간주합니다.\n",
    "* stones 배열의 크기는 1 이상 200,000 이하입니다.\n",
    "* stones 배열 각 원소들의 값은 1 이상 200,000,000 이하인 자연수입니다.\n",
    "* k는 1 이상 stones의 길이 이하인 자연수입니다.\n",
    "\n",
    "---\n",
    "\n",
    "##### **[입출력 예]**\n",
    "\n",
    "\n",
    "| stones                         | k | result |\n",
    "| -------------------------------- | --- | -------- |\n",
    "| [2, 4, 5, 3, 2, 1, 4, 2, 5, 1] | 3 | 3      |\n",
    "\n",
    "##### **입출력 예에 대한 설명**\n",
    "\n",
    "---\n",
    "\n",
    "**입출력 예 #1**\n",
    "\n",
    "첫 번째 친구는 다음과 같이 징검다리를 건널 수 있습니다.\n",
    "![step_stones_104.png](https://grepp-programmers.s3.ap-northeast-2.amazonaws.com/files/production/4560e242-cf83-4e77-a14c-174f3831499d/step_stones_104.png)\n",
    "\n",
    "첫 번째 친구가 징검다리를 건넌 후 디딤돌에 적힌 숫자는 아래 그림과 같습니다.\n",
    "두 번째 친구도 아래 그림과 같이 징검다리를 건널 수 있습니다.\n",
    "![step_stones_101.png](https://grepp-programmers.s3.ap-northeast-2.amazonaws.com/files/production/d64f29ac-3e35-4fd3-91fa-4d70e3b6c80a/step_stones_101.png)\n",
    "\n",
    "두 번째 친구가 징검다리를 건넌 후 디딤돌에 적힌 숫자는 아래 그림과 같습니다.\n",
    "세 번째 친구도 아래 그림과 같이 징검다리를 건널 수 있습니다.\n",
    "![step_stones_102.png](https://grepp-programmers.s3.ap-northeast-2.amazonaws.com/files/production/369bc8a1-7017-4135-a499-505247ab9cfc/step_stones_102.png)\n",
    "\n",
    "세 번째 친구가 징검다리를 건넌 후 디딤돌에 적힌 숫자는 아래 그림과 같습니다.\n",
    "네 번째 친구가 징검다리를 건너려면, 세 번째 디딤돌에서 일곱 번째 디딤돌로 네 칸을 건너뛰어야 합니다. 하지만 k = 3 이므로 건너뛸 수 없습니다.\n",
    "![step_stones_103.png](https://grepp-programmers.s3.ap-northeast-2.amazonaws.com/files/production/e44e0a83-e637-48ad-858c-4c135c3b078f/step_stones_103.png)\n",
    "\n",
    "따라서 최대 3명이 디딤돌을 모두 건널 수 있습니다.\n"
   ]
  },
  {
   "cell_type": "markdown",
   "metadata": {},
   "source": [
    "## 풀이\n",
    "\n",
    "- Binary Search\n",
    "\n",
    "이 문제는 디딤돌의 높이가 포함된 징검다리가 주어지고, k만큼 점프 할 수 있다. 한명이 지나갈 때마다 징검다리의 디딤돌 높이는 1씩 감소한다. 이때, 징검다리를 건널 수 있는 사람의 수를 구해야 한다.\n",
    "\n",
    "### Reference Code\n"
   ]
  },
  {
   "cell_type": "code",
   "execution_count": null,
   "metadata": {},
   "outputs": [],
   "source": [
    "def solution(stones, k):\n",
    "    left = 1\n",
    "    right = 200000000\n",
    "    \n",
    "    while left <= right:\n",
    "        mid = (left + right) // 2\n",
    "        count = 0\n",
    "        for stone in stones:\n",
    "            if stone - mid <= 0:\n",
    "                count += 1\n",
    "            else:\n",
    "                count = 0\n",
    "            if count >= k:\n",
    "                break\n",
    "        if count >= k:\n",
    "            right = mid - 1\n",
    "        else:\n",
    "            left = mid + 1\n",
    "        \n",
    "    return left"
   ]
  }
 ],
 "metadata": {
  "kernelspec": {
   "display_name": "Python 3.10.7 64-bit",
   "language": "python",
   "name": "python3"
  },
  "language_info": {
   "name": "python",
   "version": "3.10.7"
  },
  "orig_nbformat": 4,
  "vscode": {
   "interpreter": {
    "hash": "aee8b7b246df8f9039afb4144a1f6fd8d2ca17a180786b69acc140d282b71a49"
   }
  }
 },
 "nbformat": 4,
 "nbformat_minor": 2
}
