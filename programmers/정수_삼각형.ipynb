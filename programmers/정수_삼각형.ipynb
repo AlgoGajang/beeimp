{
 "cells": [
  {
   "cell_type": "markdown",
   "metadata": {},
   "source": [
    "# [정수 삼각형](https://school.programmers.co.kr/learn/courses/30/lessons/43105)\n",
    "\n",
    "## 문제\n",
    "\n",
    "###### 문제 설명\n",
    "\n",
    "![스크린샷 2018-09-14 오후 5.44.19.png](https://grepp-programmers.s3.amazonaws.com/files/production/97ec02cc39/296a0863-a418-431d-9e8c-e57f7a9722ac.png)\n",
    "\n",
    "위와 같은 삼각형의 꼭대기에서 바닥까지 이어지는 경로 중, 거쳐간 숫자의 합이 가장 큰 경우를 찾아보려고 합니다. 아래 칸으로 이동할 때는 대각선 방향으로 한 칸 오른쪽 또는 왼쪽으로만 이동 가능합니다. 예를 들어 3에서는 그 아래칸의 8 또는 1로만 이동이 가능합니다.\n",
    "\n",
    "삼각형의 정보가 담긴 배열 triangle이 매개변수로 주어질 때, 거쳐간 숫자의 최댓값을 return 하도록 solution 함수를 완성하세요.\n",
    "\n",
    "##### 제한사항\n",
    "\n",
    "* 삼각형의 높이는 1 이상 500 이하입니다.\n",
    "* 삼각형을 이루고 있는 숫자는 0 이상 9,999 이하의 정수입니다.\n",
    "\n",
    "##### 입출력 예\n",
    "\n",
    "\n",
    "| triangle                                                | result |\n",
    "| --------------------------------------------------------- | -------- |\n",
    "| [[7], [3, 8], [8, 1, 0], [2, 7, 4, 4], [4, 5, 2, 6, 5]] | 30     |\n",
    "\n",
    "[출처](http://stats.ioinformatics.org/countries/SWE)\n"
   ]
  },
  {
   "cell_type": "markdown",
   "metadata": {},
   "source": [
    "## 풀이\n",
    "\n",
    "- Dynamic Programming\n",
    "\n",
    "이 문제는 상위 노드부터 하위노드까지 이동하면서 노드를 더한 최대값을 구해야 한다.\n",
    "\n",
    "풀이는 다음과 같다.\n",
    "\n",
    "![](assets/20221002_155449_image.png)\n",
    "\n",
    "* 해당 Level 노드의 index가 0이라면,\n",
    "  * `triangle[level][0] += triangle[level - 1][0]`\n",
    "* 해당 Level 노드의 index가 마지막 n이라면,\n",
    "  * `triangle[level][n] += triangle[level - 1][n - 1]`\n",
    "* 그 외 가운데 있는 k 노드라면\n",
    "  * `triangle[level][k] += max(triangle[level-1][k], triangle[level-1][k - 1])`\n",
    "\n",
    "최종적으로, triangle의 마지막 노드 중 최대 값을 반환한다."
   ]
  },
  {
   "cell_type": "code",
   "execution_count": null,
   "metadata": {},
   "outputs": [],
   "source": [
    "def solution(triangle):\n",
    "    answer = 0\n",
    "    for level, nodes in enumerate(triangle[1:], 1):\n",
    "        for i, node in enumerate(nodes):\n",
    "            if i == 0:\n",
    "                triangle[level][i] += triangle[level - 1][i]\n",
    "            elif i == len(nodes) - 1:\n",
    "                triangle[level][i] += triangle[level - 1][i - 1]\n",
    "            else:\n",
    "                triangle[level][i] += max(triangle[level - 1][i], triangle[level - 1][i - 1])\n",
    "    answer = max(triangle[-1])\n",
    "    return answer"
   ]
  },
  {
   "cell_type": "markdown",
   "metadata": {},
   "source": [
    "![](assets/20221002_160000_image.png)\n"
   ]
  }
 ],
 "metadata": {
  "kernelspec": {
   "display_name": "Python 3.8.9 64-bit",
   "language": "python",
   "name": "python3"
  },
  "language_info": {
   "name": "python",
   "version": "3.8.9"
  },
  "orig_nbformat": 4,
  "vscode": {
   "interpreter": {
    "hash": "31f2aee4e71d21fbe5cf8b01ff0e069b9275f58929596ceb00d14d90e3e16cd6"
   }
  }
 },
 "nbformat": 4,
 "nbformat_minor": 2
}
