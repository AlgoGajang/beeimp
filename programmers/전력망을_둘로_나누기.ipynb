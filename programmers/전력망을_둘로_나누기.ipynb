{
 "cells": [
  {
   "cell_type": "markdown",
   "metadata": {},
   "source": [
    "# [전력망을 둘로 나누기](https://school.programmers.co.kr/learn/courses/30/lessons/86971)\n",
    "\n",
    "## 문제\n",
    "\n",
    "###### 문제 설명\n",
    "\n",
    "n개의 송전탑이 전선을 통해 하나의 [트리](https://en.wikipedia.org/wiki/Tree_(data_structure)) 형태로 연결되어 있습니다. 당신은 이 전선들 중 하나를 끊어서 현재의 전력망 네트워크를 2개로 분할하려고 합니다. 이때, 두 전력망이 갖게 되는 송전탑의 개수를 최대한 비슷하게 맞추고자 합니다.\n",
    "\n",
    "송전탑의 개수 n, 그리고 전선 정보 wires가 매개변수로 주어집니다. 전선들 중 하나를 끊어서 송전탑 개수가 가능한 비슷하도록 두 전력망으로 나누었을 때, 두 전력망이 가지고 있는 송전탑 개수의 차이(절대값)를 return 하도록 solution 함수를 완성해주세요.\n",
    "\n",
    "---\n",
    "\n",
    "##### 제한사항\n",
    "\n",
    "* n은 2 이상 100 이하인 자연수입니다.\n",
    "* wires는 길이가 `n-1`인 정수형 2차원 배열입니다.\n",
    "  * wires의 각 원소는 [v1, v2] 2개의 자연수로 이루어져 있으며, 이는 전력망의 v1번 송전탑과 v2번 송전탑이 전선으로 연결되어 있다는 것을 의미합니다.\n",
    "  * 1 ≤ v1 < v2 ≤ n 입니다.\n",
    "  * 전력망 네트워크가 하나의 트리 형태가 아닌 경우는 입력으로 주어지지 않습니다.\n",
    "\n",
    "---\n",
    "\n",
    "##### 입출력 예\n",
    "\n",
    "\n",
    "| n | wires                                               | result |\n",
    "| --- | ----------------------------------------------------- | -------- |\n",
    "| 9 | `[[1,3],[2,3],[3,4],[4,5],[4,6],[4,7],[7,8],[7,9]]` | 3      |\n",
    "| 4 | `[[1,2],[2,3],[3,4]]`                               | 0      |\n",
    "| 7 | `[[1,2],[2,7],[3,7],[3,4],[4,5],[6,7]]`             | 1      |\n",
    "\n",
    "---\n",
    "\n",
    "##### 입출력 예 설명\n",
    "\n",
    "입출력 예 #1\n",
    "\n",
    "* 다음 그림은 주어진 입력을 해결하는 방법 중 하나를 나타낸 것입니다.\n",
    "* ![ex1.png](https://grepp-programmers.s3.ap-northeast-2.amazonaws.com/files/production/5b8a0dcd-cba0-47ca-b5e3-d3bafc81f9d6/ex1.png)\n",
    "* 4번과 7번을 연결하는 전선을 끊으면 두 전력망은 각 6개와 3개의 송전탑을 가지며, 이보다 더 비슷한 개수로 전력망을 나눌 수 없습니다.\n",
    "* 또 다른 방법으로는 3번과 4번을 연결하는 전선을 끊어도 최선의 정답을 도출할 수 있습니다.\n",
    "\n",
    "입출력 예 #2\n",
    "\n",
    "* 다음 그림은 주어진 입력을 해결하는 방법을 나타낸 것입니다.\n",
    "* ![ex2.png](https://grepp-programmers.s3.ap-northeast-2.amazonaws.com/files/production/b28865e1-a18e-429d-ae7a-14e77e801539/ex2.png)\n",
    "* 2번과 3번을 연결하는 전선을 끊으면 두 전력망이 모두 2개의 송전탑을 가지게 되며, 이 방법이 최선입니다.\n",
    "\n",
    "입출력 예 #3\n",
    "\n",
    "* 다음 그림은 주어진 입력을 해결하는 방법을 나타낸 것입니다.\n",
    "* ![ex3.png](https://grepp-programmers.s3.ap-northeast-2.amazonaws.com/files/production/0a7f21af-1e07-4015-8ad3-c06155c613b3/ex3.png)\n",
    "* 3번과 7번을 연결하는 전선을 끊으면 두 전력망이 각각 4개와 3개의 송전탑을 가지게 되며, 이 방법이 최선입니다.\n"
   ]
  },
  {
   "cell_type": "markdown",
   "metadata": {},
   "source": [
    "## 풀이\n",
    "\n",
    "- Brute-froce\n",
    "- BFS\n",
    "\n",
    "이 문제는 모두 연결된 노드에서 하나의 링크를 잘라 두 그룹으로 나누는데, 그 두 그룹의 노드의 개수 차이가 최소가 되는 차이값을 구해야 한다.\n",
    "\n",
    "1. 양방향 그래프를 생성 및 저장한다.\n",
    "2. 노드에서 링크가 2개 이상이면, 하나의 링크를 0으로 수정하여 링크를 자른다.\n",
    "3. BFS를 통해 한 그룹의 노드 개수를 구한다.\n",
    "4. 한 그룹의 개수 * 2와 전체 노드를 뺀 절대값의 최솟값을 구한다.\n",
    "5. 최솟값을 반환한다."
   ]
  },
  {
   "cell_type": "code",
   "execution_count": null,
   "metadata": {},
   "outputs": [],
   "source": [
    "from collections import deque\n",
    "\n",
    "def solution(n, wires):\n",
    "    answer = n\n",
    "    \n",
    "    graph = [[] for _ in range(n + 1)]\n",
    "    for src, dest in wires:\n",
    "        graph[src].append(dest)\n",
    "        graph[dest].append(src)\n",
    "    \n",
    "    def bfs(pos, graph):\n",
    "        count = 0\n",
    "        \n",
    "        visited = [False] * (n + 1)\n",
    "        \n",
    "        q = deque()\n",
    "        q.append(pos)\n",
    "        visited[pos] = True\n",
    "        \n",
    "        while q:\n",
    "            src = q.popleft()\n",
    "            count += 1\n",
    "            \n",
    "            for dest in graph[src]:\n",
    "                if not visited[dest] and dest > 0:\n",
    "                    q.append(dest)\n",
    "                    visited[dest] = True\n",
    "\n",
    "        return count\n",
    "    \n",
    "    for src, nodes in enumerate(graph):\n",
    "        if 1 < len(nodes):\n",
    "            for i, dest in enumerate(nodes):\n",
    "                graph[src][i] = 0\n",
    "                count = bfs(src, graph)\n",
    "                graph[src][i] = dest\n",
    "                \n",
    "                answer = min(answer, abs(n - (count * 2)))\n",
    "            \n",
    "    return answer"
   ]
  },
  {
   "cell_type": "markdown",
   "metadata": {},
   "source": [
    "### Reference Code\n",
    "\n",
    "- SET\n",
    "\n",
    "레퍼런스 코드 중 가장 짧은 코드는 다음과 같다.\n",
    "\n",
    "set을 통해 구현했다."
   ]
  },
  {
   "cell_type": "code",
   "execution_count": null,
   "metadata": {},
   "outputs": [],
   "source": [
    "def solution(n, wires):\n",
    "    ans = n\n",
    "    for sub in (wires[i+1:] + wires[:i] for i in range(len(wires))):\n",
    "        s = set(sub[0])\n",
    "        [s.update(v) for _ in sub for v in sub if set(v) & s]\n",
    "        ans = min(ans, abs(2 * len(s) - n))\n",
    "    return ans"
   ]
  },
  {
   "cell_type": "markdown",
   "metadata": {},
   "source": [
    "## 결과\n",
    "\n",
    "코드는 레퍼런스 코드가 더 짧았지만, 실행 결과는 나의 코드가 더 짧았다.\n",
    "\n",
    "### My Code\n",
    "\n",
    "![](assets/20221020_105034_image.png)\n",
    "\n",
    "### Reference Code\n",
    "\n",
    "![](assets/20221020_110547_image.png)\n"
   ]
  }
 ],
 "metadata": {
  "kernelspec": {
   "display_name": "Python 3.10.7 64-bit",
   "language": "python",
   "name": "python3"
  },
  "language_info": {
   "name": "python",
   "version": "3.10.7"
  },
  "orig_nbformat": 4,
  "vscode": {
   "interpreter": {
    "hash": "aee8b7b246df8f9039afb4144a1f6fd8d2ca17a180786b69acc140d282b71a49"
   }
  }
 },
 "nbformat": 4,
 "nbformat_minor": 2
}
