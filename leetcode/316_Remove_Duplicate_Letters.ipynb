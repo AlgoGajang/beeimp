{
 "cells": [
  {
   "cell_type": "markdown",
   "metadata": {},
   "source": [
    "# [316. Remove Duplicate Letters](https://leetcode.com/problems/remove-duplicate-letters/)\n",
    "\n",
    "## 문제\n",
    "\n",
    "Given a string `s`, remove duplicate letters so that every letter appears once and only once. You must make sure your result is **the smallest in lexicographical order** among all possible results.\n",
    "\n",
    "**Example 1:**\n",
    "\n",
    "<pre><strong>Input:</strong> s = \"bcabc\"\n",
    "<strong>Output:</strong> \"abc\"\n",
    "</pre>\n",
    "\n",
    "**Example 2:**\n",
    "\n",
    "<pre><strong>Input:</strong> s = \"cbacdcbc\"\n",
    "<strong>Output:</strong> \"acdb\"\n",
    "</pre>\n",
    "\n",
    "**Constraints:**\n",
    "\n",
    "* `1 <= s.length <= 10<sup>4</sup>`\n",
    "* `s` consists of lowercase English letters.\n",
    "\n",
    "**Note:** This question is the same as 1081: [https://leetcode.com/problems/smallest-subsequence-of-distinct-characters/](https://leetcode.com/problems/smallest-subsequence-of-distinct-characters/)\n"
   ]
  },
  {
   "cell_type": "markdown",
   "metadata": {},
   "source": [
    "## 풀이\n",
    "\n",
    "- String\n",
    "- Stack\n",
    "- Hash Table\n",
    "\n",
    "이 문제는 문자열에서 차례대로 나오는 문자 중 사전순으로 가장 앞에 오는 문자열을 구해야 한다.\n",
    "\n",
    "1. 스택과 딕셔너리를 생성한다.\n",
    "2. 가장 뒤에 오는 문자의 인덱스를 구한다.\n",
    "3. 스택에 해당 문자가 없다면 다음 실행한다.\n",
    "   1. 스택에 값이 있고 마지막 요소가 현재 문자보다 크고 스택의 마지막 문자의 인덱스가 현재 인덱스보다 크다면 스택의 값을 하나 뺀다.\n",
    "   2. 스택에 현재 문자를 추가한다.\n",
    "4. 문자열을 다 반복할때까지 3단계를 실행한다.\n",
    "5. 스택을 문자열로 반환한다."
   ]
  },
  {
   "cell_type": "code",
   "execution_count": null,
   "metadata": {},
   "outputs": [],
   "source": [
    "class Solution:\n",
    "    def removeDuplicateLetters(self, s: str) -> str:\n",
    "        last_occ = {}\n",
    "        stack = []\n",
    "\n",
    "        # 가장 뒤에 오는 문자의 인덱스\n",
    "        for i, char in enumerate(s):\n",
    "            last_occ[char] = i\n",
    "\n",
    "        for i, char in enumerate(s):\n",
    "            if char not in stack:\n",
    "                while stack and stack[-1] > char and last_occ[stack[-1]] > i:\n",
    "                    stack.pop()\n",
    "                stack.append(s[i])\n",
    "\n",
    "        return ''.join(stack)\n"
   ]
  },
  {
   "cell_type": "markdown",
   "metadata": {},
   "source": [
    "## 결과\n",
    "\n",
    "![](assets/20221028_105738_image.png)\n",
    "\n",
    "![](assets/20221028_105748_image.png)\n"
   ]
  }
 ],
 "metadata": {
  "kernelspec": {
   "display_name": "Python 3.10.7 64-bit",
   "language": "python",
   "name": "python3"
  },
  "language_info": {
   "name": "python",
   "version": "3.10.7"
  },
  "orig_nbformat": 4,
  "vscode": {
   "interpreter": {
    "hash": "aee8b7b246df8f9039afb4144a1f6fd8d2ca17a180786b69acc140d282b71a49"
   }
  }
 },
 "nbformat": 4,
 "nbformat_minor": 2
}
