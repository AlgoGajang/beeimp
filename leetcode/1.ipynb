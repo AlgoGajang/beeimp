{
 "cells": [
  {
   "cell_type": "markdown",
   "metadata": {},
   "source": [
    "# [1. Two Sum](https://leetcode.com/problems/two-sum)\n",
    "\n",
    "Given an array of integers `nums` and an integer `target`, return *indices of the two numbers such that they add up to `target`* .\n",
    "\n",
    "You may assume that each input would have ***exactly* one solution** , and you may not use the *same* element twice.\n",
    "\n",
    "You can return the answer in any order.\n",
    "\n",
    "**Example 1:**\n",
    "\n",
    "<pre><strong>Input:</strong> nums = [2,7,11,15], target = 9\n",
    "<strong>Output:</strong> [0,1]\n",
    "<strong>Explanation:</strong> Because nums[0] + nums[1] == 9, we return [0, 1].\n",
    "</pre>\n",
    "\n",
    "**Example 2:**\n",
    "\n",
    "<pre><strong>Input:</strong> nums = [3,2,4], target = 6\n",
    "<strong>Output:</strong> [1,2]\n",
    "</pre>\n",
    "\n",
    "**Example 3:**\n",
    "\n",
    "<pre><strong>Input:</strong> nums = [3,3], target = 6\n",
    "<strong>Output:</strong> [0,1]\n",
    "</pre>\n",
    "\n",
    "**Constraints:**\n",
    "\n",
    "* `2 <= nums.length <= 10^4`\n",
    "* `-10^9 <= nums[i] <= 10^9`\n",
    "* `-10^9 <= target <= 10^9`\n",
    "* **Only one valid answer exists.**\n",
    "\n",
    "**Follow-up:** Can you come up with an algorithm that is less than `O(n^2) `time complexity?\n"
   ]
  },
  {
   "cell_type": "markdown",
   "metadata": {},
   "source": [
    "## 풀이\n",
    "\n",
    "문제를 너무 어렵게 생각했다. `O(N*log N)`의 시간복잡도로 문제를 해결하기 위해 이분탐색을 사용했는데, 이분탐색을 사용하기 위해 초기에 `nums` 배열을 정렬했더니 인덱스를 찾는 문제에서 인덱스가 바뀌어버렸다.\n",
    "해결하는 방법이 있겠지만, 더욱 단순하게 문제를 접근했다. 이중 반복문에서 두 번째 반복문에서 첫 반복문의 현재 인덱스 + 1로 시작하여 `O(N^2)`에서 `O((N^2)/2)`의 시간 복잡도로 문제를 해결했다."
   ]
  },
  {
   "cell_type": "code",
   "execution_count": 7,
   "metadata": {},
   "outputs": [],
   "source": [
    "from typing import List\n",
    "\n",
    "\n",
    "class Solution:\n",
    "    def twoSum(self, nums: List[int], target: int) -> List[int]:\n",
    "        answer = [0, 0]\n",
    "        ''' 오답코드\n",
    "      정렬\n",
    "      nums.sort()\n",
    "      for i, current_value in enumerate(nums):\n",
    "        # 이분탐색\n",
    "        start, end = i + 1, len(nums)\n",
    "        while True:\n",
    "          mid = (start + end) // 2\n",
    "          if start > end:\n",
    "            break\n",
    "          if current_value + nums[mid] == target:\n",
    "            return [i, mid]\n",
    "          elif current_value + nums[mid] < target:\n",
    "            start = mid + 1\n",
    "          else:\n",
    "            end = mid - 1\n",
    "      '''\n",
    "        for i, current_value in enumerate(nums):\n",
    "            for j in range(i + 1, len(nums)):\n",
    "                if current_value + nums[j] == target:\n",
    "                    return [i, j]\n",
    "        return answer\n"
   ]
  },
  {
   "cell_type": "code",
   "execution_count": 10,
   "metadata": {},
   "outputs": [
    {
     "name": "stdout",
     "output_type": "stream",
     "text": [
      "nums : [2, 7, 11, 15]\n",
      "target : 9\n",
      "answer : [0, 1]\n",
      "\n",
      "nums : [3, 2, 4]\n",
      "target : 6\n",
      "answer : [1, 2]\n",
      "\n",
      "nums : [3, 3]\n",
      "target : 6\n",
      "answer : [0, 1]\n",
      "\n"
     ]
    }
   ],
   "source": [
    "numsList = [\n",
    "    [2, 7, 11, 15],\n",
    "    [3, 2, 4],\n",
    "    [3, 3]\n",
    "]\n",
    "targets = [\n",
    "    9,\n",
    "    6,\n",
    "    6\n",
    "]\n",
    "solution = Solution()\n",
    "for nums, target in zip(numsList, targets):\n",
    "    print('nums :', nums)\n",
    "    print('target :', target)\n",
    "    print('answer :', solution.twoSum(nums, target))\n",
    "    print()\n"
   ]
  },
  {
   "cell_type": "code",
   "execution_count": null,
   "metadata": {},
   "outputs": [],
   "source": []
  }
 ],
 "metadata": {
  "kernelspec": {
   "display_name": "Python 3.8.9 64-bit",
   "language": "python",
   "name": "python3"
  },
  "language_info": {
   "codemirror_mode": {
    "name": "ipython",
    "version": 3
   },
   "file_extension": ".py",
   "mimetype": "text/x-python",
   "name": "python",
   "nbconvert_exporter": "python",
   "pygments_lexer": "ipython3",
   "version": "3.8.9"
  },
  "orig_nbformat": 4,
  "vscode": {
   "interpreter": {
    "hash": "31f2aee4e71d21fbe5cf8b01ff0e069b9275f58929596ceb00d14d90e3e16cd6"
   }
  }
 },
 "nbformat": 4,
 "nbformat_minor": 2
}
