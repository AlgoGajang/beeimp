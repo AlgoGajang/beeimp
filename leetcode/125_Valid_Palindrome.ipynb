{
 "cells": [
  {
   "cell_type": "markdown",
   "metadata": {},
   "source": [
    "# [125. Valid Palindrome](https://leetcode.com/problems/valid-palindrome/)\n",
    "\n",
    "## 문제\n",
    "\n",
    "A phrase is a **palindrome** if, after converting all uppercase letters into lowercase letters and removing all non-alphanumeric characters, it reads the same forward and backward. Alphanumeric characters include letters and numbers.\n",
    "\n",
    "Given a string `s`, return `true`* if it is a **palindrome** , or * `false`* otherwise* .\n",
    "\n",
    "**Example 1:**\n",
    "\n",
    "<pre><strong>Input:</strong> s = \"A man, a plan, a canal: Panama\"\n",
    "<strong>Output:</strong> true\n",
    "<strong>Explanation:</strong> \"amanaplanacanalpanama\" is a palindrome.\n",
    "</pre>\n",
    "\n",
    "**Example 2:**\n",
    "\n",
    "<pre><strong>Input:</strong> s = \"race a car\"\n",
    "<strong>Output:</strong> false\n",
    "<strong>Explanation:</strong> \"raceacar\" is not a palindrome.\n",
    "</pre>\n",
    "\n",
    "**Example 3:**\n",
    "\n",
    "<pre><strong>Input:</strong> s = \" \"\n",
    "<strong>Output:</strong> true\n",
    "<strong>Explanation:</strong> s is an empty string \"\" after removing non-alphanumeric characters.\n",
    "Since an empty string reads the same forward and backward, it is a palindrome.\n",
    "</pre>\n",
    "\n",
    "**Constraints:**\n",
    "\n",
    "* `1 <= s.length <= 2 * 10<sup>5</sup>`\n",
    "* `s` consists only of printable ASCII characters.\n"
   ]
  },
  {
   "cell_type": "markdown",
   "metadata": {},
   "source": [
    "## 풀이\n",
    "\n",
    "- String\n",
    "- ASCII\n",
    "\n",
    "이 문제는 문자열의 문자와 숫자를 뒤집은 문자열과 같은지 확인해야 한다.\n",
    "\n",
    "아스키 코드로 문자와 숫자만으로 새로운 문자열을 생성 후 뒤집은 문자열과 비교하여 해결했다."
   ]
  },
  {
   "cell_type": "code",
   "execution_count": null,
   "metadata": {},
   "outputs": [],
   "source": [
    "class Solution:\n",
    "    def isPalindrome(self, s: str) -> bool:\n",
    "        answer = ''\n",
    "        \n",
    "        for char in s:\n",
    "            char = char.lower()\n",
    "            if 48 <= ord(char) and ord(char) < (48 + 10) or 97 <= ord(char) and ord(char) < (97 + 26):\n",
    "                answer += char\n",
    "        return answer == answer[::-1]"
   ]
  },
  {
   "cell_type": "markdown",
   "metadata": {},
   "source": [
    "## 결과\n",
    "\n",
    "![](assets/20221027_133603_image.png)\n",
    "\n",
    "![](assets/20221027_133611_image.png)\n"
   ]
  }
 ],
 "metadata": {
  "kernelspec": {
   "display_name": "Python 3.10.7 64-bit",
   "language": "python",
   "name": "python3"
  },
  "language_info": {
   "name": "python",
   "version": "3.10.7"
  },
  "orig_nbformat": 4,
  "vscode": {
   "interpreter": {
    "hash": "aee8b7b246df8f9039afb4144a1f6fd8d2ca17a180786b69acc140d282b71a49"
   }
  }
 },
 "nbformat": 4,
 "nbformat_minor": 2
}
