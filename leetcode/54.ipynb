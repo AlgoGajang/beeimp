{
 "cells": [
  {
   "cell_type": "markdown",
   "metadata": {},
   "source": [
    "# [54. Spiral Matrix](https://leetcode.com/problems/spiral-matrix/)\n",
    "\n",
    "Given an `m x n` `matrix`, return *all elements of the* `matrix` *in spiral order* .\n",
    "\n",
    "**Example 1:**\n",
    "\n",
    "![](https://assets.leetcode.com/uploads/2020/11/13/spiral1.jpg)\n",
    "\n",
    "<pre><strong>Input:</strong> matrix = [[1,2,3],[4,5,6],[7,8,9]]\n",
    "<strong>Output:</strong> [1,2,3,6,9,8,7,4,5]\n",
    "</pre>\n",
    "\n",
    "**Example 2:**\n",
    "\n",
    "![](https://assets.leetcode.com/uploads/2020/11/13/spiral.jpg)\n",
    "\n",
    "<pre><strong>Input:</strong> matrix = [[1,2,3,4],[5,6,7,8],[9,10,11,12]]\n",
    "<strong>Output:</strong> [1,2,3,4,8,12,11,10,9,5,6,7]\n",
    "</pre>\n",
    "\n",
    "**Constraints:**\n",
    "\n",
    "* `m == matrix.length`\n",
    "* `n == matrix[i].length`\n",
    "* `1 <= m, n <= 10`\n",
    "* `-100 <= matrix[i][j] <= 100`\n"
   ]
  },
  {
   "cell_type": "markdown",
   "metadata": {},
   "source": [
    "## 풀이\n",
    "\n",
    "- Array \n",
    "- Matrix\n",
    "- Simulation\n",
    "\n",
    "이 문제는 달팽이 껍집처럼 바깥쪽부터 안쪽을 시계방향으로 출력해야했다.\n",
    "\n",
    "시계방향인 오른쪽, 아래, 왼쪽, 위로 이동할 수 있도록 이동할 수 있도록 구현했다.\n",
    "\n",
    "그리고 한번 방문한 곳을 방문하지 않기위해 방문Matrix를 생성하여 방문을 확인했다. 또, 마지막 방문을 확인하기 위해 방문횟수를 카운팅하여 MxN과 같은 경우 종료했다.\n",
    "\n",
    "방향, 비방문, Matrix의 크기를 생각하며 시뮬레이션하면서 배열에 append하여 문제를 해결했다."
   ]
  },
  {
   "cell_type": "code",
   "execution_count": 45,
   "metadata": {},
   "outputs": [],
   "source": [
    "from typing import List\n",
    "\n",
    "\n",
    "class Solution:\n",
    "    def spiralOrder(self, matrix: List[List[int]]) -> List[int]:\n",
    "        answer = []\n",
    "\n",
    "        if not len(matrix):\n",
    "          return answer\n",
    "        \n",
    "        # y, x 길이 변수\n",
    "        M, N = len(matrix), len(matrix[0])\n",
    "        # 방문 Matrix 추가\n",
    "        visited = [[False for _ in range(N)] for _ in range(M)]\n",
    "\n",
    "        # 움직이는 거리, 방향 변수\n",
    "        dy, dx = [0, -1, 0, 1], [1, 0, -1, 0]\n",
    "        direction = 0\n",
    "\n",
    "        # 현재 위치 변수\n",
    "        y_pos, x_pos = 0, 0\n",
    "\n",
    "        # 초기 위치 저장\n",
    "        answer.append(matrix[y_pos][x_pos])\n",
    "        visited[y_pos][x_pos] = True\n",
    "        visit_count = 1\n",
    "\n",
    "        while visit_count < M * N:\n",
    "          # 움직인 y, x 변수\n",
    "          my, mx = y_pos + dy[direction], x_pos + dx[direction]\n",
    "\n",
    "          # 범위 안쪽이고 방문하지 않았다면\n",
    "          if 0 <= my and my < M and 0 <= mx and mx < N and not visited[my][mx]:\n",
    "            answer.append(matrix[my][mx])\n",
    "            visited[my][mx] = True\n",
    "            visit_count += 1\n",
    "            y_pos, x_pos = my, mx\n",
    "          else:\n",
    "            # 움직이는 방향 변경\n",
    "            direction = (direction + 1) % 4\n",
    "        return answer\n"
   ]
  },
  {
   "cell_type": "code",
   "execution_count": 17,
   "metadata": {},
   "outputs": [
    {
     "name": "stdout",
     "output_type": "stream",
     "text": [
      "[1, 2, 3, 6, 9, 8, 7, 4, 5]\n"
     ]
    }
   ],
   "source": [
    "matrix = [[1,2,3],[4,5,6],[7,8,9]]\n",
    "solution = Solution()\n",
    "print(solution.spiralOrder(matrix))"
   ]
  },
  {
   "cell_type": "markdown",
   "metadata": {},
   "source": [
    "### Referece Code"
   ]
  },
  {
   "cell_type": "code",
   "execution_count": 16,
   "metadata": {},
   "outputs": [],
   "source": [
    "from typing import List\n",
    "class Solution:\n",
    "    def spiralOrder(self, matrix: List[List[int]]) -> List[int]:\n",
    "        return matrix and [*matrix.pop(0)] + self.spiralOrder([*zip(*matrix)][::-1])"
   ]
  }
 ],
 "metadata": {
  "kernelspec": {
   "display_name": "Python 3.8.9 64-bit",
   "language": "python",
   "name": "python3"
  },
  "language_info": {
   "codemirror_mode": {
    "name": "ipython",
    "version": 3
   },
   "file_extension": ".py",
   "mimetype": "text/x-python",
   "name": "python",
   "nbconvert_exporter": "python",
   "pygments_lexer": "ipython3",
   "version": "3.8.9"
  },
  "orig_nbformat": 4,
  "vscode": {
   "interpreter": {
    "hash": "31f2aee4e71d21fbe5cf8b01ff0e069b9275f58929596ceb00d14d90e3e16cd6"
   }
  }
 },
 "nbformat": 4,
 "nbformat_minor": 2
}
