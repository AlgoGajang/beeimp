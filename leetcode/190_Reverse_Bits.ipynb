{
 "cells": [
  {
   "cell_type": "markdown",
   "metadata": {},
   "source": [
    "# [190. Reverse Bits](https://leetcode.com/problems/reverse-bits/)\n",
    "\n",
    "# 문제\n",
    "\n",
    "Reverse bits of a given 32 bits unsigned integer.\n",
    "\n",
    "**Note:**\n",
    "\n",
    "* Note that in some languages, such as Java, there is no unsigned integer type. In this case, both input and output will be given as a signed integer type. They should not affect your implementation, as the integer's internal binary representation is the same, whether it is signed or unsigned.\n",
    "* In Java, the compiler represents the signed integers using [2&#39;s complement notation](https://en.wikipedia.org/wiki/Two%27s_complement). Therefore, in **Example 2** above, the input represents the signed integer `-3` and the output represents the signed integer `-1073741825`.\n",
    "\n",
    "**Example 1:**\n",
    "\n",
    "<pre><strong>Input:</strong> n = 00000010100101000001111010011100\n",
    "<strong>Output:</strong>    964176192 (00111001011110000010100101000000)\n",
    "<strong>Explanation: </strong>The input binary string <strong>00000010100101000001111010011100</strong> represents the unsigned integer 43261596, so return 964176192 which its binary representation is <strong>00111001011110000010100101000000</strong>.\n",
    "</pre>\n",
    "\n",
    "**Example 2:**\n",
    "\n",
    "<pre><strong>Input:</strong> n = 11111111111111111111111111111101\n",
    "<strong>Output:</strong>   3221225471 (10111111111111111111111111111111)\n",
    "<strong>Explanation: </strong>The input binary string <strong>11111111111111111111111111111101</strong> represents the unsigned integer 4294967293, so return 3221225471 which its binary representation is <strong>10111111111111111111111111111111</strong>.\n",
    "</pre>\n",
    "\n",
    "**Constraints:**\n",
    "\n",
    "* The input must be a **binary string** of length `32`\n",
    "\n",
    "**Follow up:** If this function is called many times, how would you optimize it?\n"
   ]
  },
  {
   "cell_type": "markdown",
   "metadata": {},
   "source": [
    "## 풀이\n",
    "\n",
    "- Divide and Conquer\n",
    "- Bit Manipulation\n",
    "\n",
    "이 문제는 입력으로 주어지는 바이너리를 32비트 사이즈를 뒤집어 나오는 수를 반환해야 한다.\n",
    "\n",
    "먼저, 파이썬 라이브러리를 사용하여 쉽게 해결할 수 있었다.\n",
    "\n",
    "그리고 비트 연산의 레퍼런스 코드다.\n",
    "반환할 값을 0으로 초기화하고, 이 값을 왼쪽으로 쉬프트하면서 n의 바이너리 값의 오른족 첫번째 값을 더한다.\n",
    "그리고 n은 오른쪽으로 쉬프트하여 더한 값을 제거한다.\n",
    "\n",
    "이 과정을 32번(32bit)을 반복하여 문제를 해결할 수 있다."
   ]
  },
  {
   "cell_type": "code",
   "execution_count": null,
   "metadata": {},
   "outputs": [],
   "source": [
    "class Solution:\n",
    "    def reverseBits_python(self, n: int) -> int:\n",
    "        answer = bin(n)[:1:-1] # 바이너리값을 문자열로 반환하여 Reverse\n",
    "        answer += '0' * (32 - len(answer)) # 32bit의 크기로 맞추기\n",
    "        return int(answer, 2) # 바이너리 값을 10진수로 반환\n",
    "\n",
    "    def reverseBits_bit(self, n: int) -> int:\n",
    "        ans = 0\n",
    "        for i in range(32):\n",
    "            # ans를 왼쪽으로 shift한 값과 n의 바이너리 값의 마지막 값에 해당하는 값을 더함\n",
    "            ans = (ans << 1) + (n & 1)\n",
    "            n >>= 1\n",
    "        return ans\n"
   ]
  },
  {
   "cell_type": "markdown",
   "metadata": {},
   "source": [
    "## 결과\n",
    "\n",
    "파이썬스럽게 푼 문제의 런타임과 메모리는 55ms/13.7MB\n",
    "\n",
    "비트연산으로 푼 문제의 런타임과 메모리는 71ms/13.8MB\n",
    "\n",
    "파이썬스럽게 푼 문제가 더 빨랐다.\n",
    "\n",
    "![](assets/20221018_221526_image.png)\n"
   ]
  }
 ],
 "metadata": {
  "kernelspec": {
   "display_name": "Python 3.10.7 64-bit",
   "language": "python",
   "name": "python3"
  },
  "language_info": {
   "codemirror_mode": {
    "name": "ipython",
    "version": 3
   },
   "file_extension": ".py",
   "mimetype": "text/x-python",
   "name": "python",
   "nbconvert_exporter": "python",
   "pygments_lexer": "ipython3",
   "version": "3.10.7"
  },
  "orig_nbformat": 4,
  "vscode": {
   "interpreter": {
    "hash": "aee8b7b246df8f9039afb4144a1f6fd8d2ca17a180786b69acc140d282b71a49"
   }
  }
 },
 "nbformat": 4,
 "nbformat_minor": 2
}
