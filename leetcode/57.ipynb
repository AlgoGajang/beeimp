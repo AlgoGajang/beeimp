{
 "cells": [
  {
   "cell_type": "markdown",
   "metadata": {},
   "source": [
    "# [57. Insert Interval](https://leetcode.com/problems/insert-interval/)\n",
    "\n",
    "You are given an array of non-overlapping intervals `intervals` where `intervals[i] = [start<sub>i</sub>, end<sub>i</sub>]` represent the start and the end of the `i<sup>th</sup>` interval and `intervals` is sorted in ascending order by `start<sub>i</sub>`. You are also given an interval `newInterval = [start, end]` that represents the start and end of another interval.\n",
    "\n",
    "Insert `newInterval` into `intervals` such that `intervals` is still sorted in ascending order by `start<sub>i</sub>` and `intervals` still does not have any overlapping intervals (merge overlapping intervals if necessary).\n",
    "\n",
    "Return `intervals`* after the insertion* .\n",
    "\n",
    "**Example 1:**\n",
    "\n",
    "<pre><strong>Input:</strong> intervals = [[1,3],[6,9]], newInterval = [2,5]\n",
    "<strong>Output:</strong> [[1,5],[6,9]]\n",
    "</pre>\n",
    "\n",
    "**Example 2:**\n",
    "\n",
    "<pre><strong>Input:</strong> intervals = [[1,2],[3,5],[6,7],[8,10],[12,16]], newInterval = [4,8]\n",
    "<strong>Output:</strong> [[1,2],[3,10],[12,16]]\n",
    "<strong>Explanation:</strong> Because the new interval [4,8] overlaps with [3,5],[6,7],[8,10].\n",
    "</pre>\n",
    "\n",
    "**Constraints:**\n",
    "\n",
    "* `0 <= intervals.length <= 10<sup>4</sup>`\n",
    "* `intervals[i].length == 2`\n",
    "* `0 <= start<sub>i</sub><span> </span><= end<sub>i</sub><span> </span><= 10<sup>5</sup>`\n",
    "* `intervals` is sorted by `start<sub>i</sub>` in **ascending** order.\n",
    "* `newInterval.length == 2`\n",
    "* `0 <= start <= end <= 10<sup>5</sup>`\n"
   ]
  },
  {
   "cell_type": "markdown",
   "metadata": {},
   "source": [
    "## 풀이\n",
    "\n",
    "- 배열\n",
    "\n",
    "이 문제는 설명에 비해 간단했다. 입력값1로 배열로 여러 Interval이 주어지고, 입력값2로 새로운 Interval이 주어진다. 주어진 새로운 Interval이 잘리지 않도록 출력하는 문제였다.\n",
    "\n",
    "문제를 단순하게 접근했다.\n",
    "\n",
    "먼저, answer라는 반환 배열을 초기화했다.\n",
    "\n",
    "intervals를 반복하면서\n",
    "- 새로운 interval의 시작이 interval 보다 클 경우, interval을 answer에 append\n",
    "- 새로운 Interval의 끝이 interval 보다 작을 경우, 새로운 Interval을 answer에 append하고 나머지 intervals와 합쳐 반환한다.\n",
    "- 둘다 아닐 경우, 새로운 interval의 최대, 최솟값을 적용하여 새로운 interval이 포함되도록 interval을 수정한다.\n",
    "- 반복문이 끝났다면, 새로운 interval은 answer에 append되지 않은 것으로 보고 append 후 반환한다."
   ]
  },
  {
   "cell_type": "code",
   "execution_count": null,
   "metadata": {},
   "outputs": [],
   "source": [
    "from typing import List\n",
    "\n",
    "class Solution:\n",
    "    def insert(self, intervals: List[List[int]], newInterval: List[int]) -> List[List[int]]:\n",
    "      answer = []\n",
    "      start_new_interval, end_new_interval = newInterval\n",
    "      \n",
    "      for index, interval in enumerate(intervals):\n",
    "        start_interval, end_interval = interval\n",
    "\n",
    "        # 새로운 interval의 시작이 클 경우\n",
    "        if end_interval < start_new_interval:\n",
    "          answer.append(interval)\n",
    "\n",
    "        # 새로운 Interval의 끝이 작을 경우\n",
    "        elif end_new_interval < start_interval:\n",
    "          answer.append([start_new_interval, end_new_interval])\n",
    "          return answer + intervals[index:]\n",
    "\n",
    "        else:\n",
    "          start_new_interval = min(start_new_interval, start_interval)\n",
    "          end_new_interval = max(end_new_interval, end_interval)\n",
    "\n",
    "      # 새로운 interval 추가 후 반환\n",
    "      answer.append([start_new_interval, end_new_interval])\n",
    "      return answer"
   ]
  }
 ],
 "metadata": {
  "kernelspec": {
   "display_name": "Python 3.8.9 64-bit",
   "language": "python",
   "name": "python3"
  },
  "language_info": {
   "name": "python",
   "version": "3.8.9"
  },
  "orig_nbformat": 4,
  "vscode": {
   "interpreter": {
    "hash": "31f2aee4e71d21fbe5cf8b01ff0e069b9275f58929596ceb00d14d90e3e16cd6"
   }
  }
 },
 "nbformat": 4,
 "nbformat_minor": 2
}
