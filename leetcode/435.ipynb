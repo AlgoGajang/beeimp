{
 "cells": [
  {
   "cell_type": "markdown",
   "metadata": {},
   "source": [
    "# [435. Non-overlapping Intervals](https://leetcode.com/problems/non-overlapping-intervals/)\n",
    "Given an array of intervals intervals where intervals[i] = [starti, endi], return the minimum number of intervals you need to remove to make the rest of the intervals non-overlapping.\n",
    "\n",
    "Example 1:\n",
    "\n",
    "Input: intervals = [[1,2],[2,3],[3,4],[1,3]]\n",
    "Output: 1\n",
    "Explanation: [1,3] can be removed and the rest of the intervals are non-overlapping.\n",
    "Example 2:\n",
    "\n",
    "Input: intervals = [[1,2],[1,2],[1,2]]\n",
    "Output: 2\n",
    "Explanation: You need to remove two [1,2] to make the rest of the intervals non-overlapping.\n",
    "Example 3:\n",
    "\n",
    "Input: intervals = [[1,2],[2,3]]\n",
    "Output: 0\n",
    "Explanation: You don't need to remove any of the intervals since they're already non-overlapping.\n",
    " \n",
    "\n",
    "Constraints:\n",
    "\n",
    "1 <= intervals.length <= 105\n",
    "intervals[i].length == 2\n",
    "-5 * 104 <= starti < endi <= 5 * 104"
   ]
  },
  {
   "cell_type": "markdown",
   "metadata": {},
   "source": [
    "## 풀이\n",
    "\n",
    "- Array\n",
    "- Dynamic Programming\n",
    "- Greedy\n",
    "\n",
    "이 문제는 구간에 겹치는 부분의 최소 개수를 구해야 했다.\n",
    "\n",
    "먼저, 구간의 뒷 부분을 정렬한다.\n",
    "\n",
    "그리고 구간은 음수일 수 있기 때문에 현재 위치를 매우 작은 음수로 초기화했다.\n",
    "\n",
    "구간들을 반복하면서 현재 위치가 구간이 시작보다 큰 경우, 그 구간은 겹치는 부분으로 간주하여 증가한다.\n",
    "\n",
    "아닌경우 현재 위치를 구간 끝으로 이동한다."
   ]
  },
  {
   "cell_type": "code",
   "execution_count": 3,
   "metadata": {},
   "outputs": [],
   "source": [
    "from typing import List\n",
    "\n",
    "\n",
    "class Solution:\n",
    "    def eraseOverlapIntervals(self, intervals: List[List[int]]) -> int:\n",
    "        answer = 0\n",
    "        intervals = sorted(intervals, key=lambda x: x[1])\n",
    "        \n",
    "        pos = float('-inf')\n",
    "\n",
    "        for interval in intervals:\n",
    "          start, end = interval\n",
    "          if pos > start:\n",
    "            answer += 1\n",
    "          else:\n",
    "            pos = end\n",
    "        return answer\n"
   ]
  },
  {
   "cell_type": "code",
   "execution_count": 4,
   "metadata": {},
   "outputs": [
    {
     "name": "stdout",
     "output_type": "stream",
     "text": [
      "1\n"
     ]
    }
   ],
   "source": [
    "solution = Solution()\n",
    "print(solution.eraseOverlapIntervals([[1,3],[2,3]]))"
   ]
  },
  {
   "cell_type": "code",
   "execution_count": null,
   "metadata": {},
   "outputs": [],
   "source": []
  }
 ],
 "metadata": {
  "kernelspec": {
   "display_name": "Python 3.8.9 64-bit",
   "language": "python",
   "name": "python3"
  },
  "language_info": {
   "codemirror_mode": {
    "name": "ipython",
    "version": 3
   },
   "file_extension": ".py",
   "mimetype": "text/x-python",
   "name": "python",
   "nbconvert_exporter": "python",
   "pygments_lexer": "ipython3",
   "version": "3.8.9"
  },
  "orig_nbformat": 4,
  "vscode": {
   "interpreter": {
    "hash": "31f2aee4e71d21fbe5cf8b01ff0e069b9275f58929596ceb00d14d90e3e16cd6"
   }
  }
 },
 "nbformat": 4,
 "nbformat_minor": 2
}
