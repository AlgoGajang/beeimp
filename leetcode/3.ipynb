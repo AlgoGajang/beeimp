{
 "cells": [
  {
   "cell_type": "markdown",
   "metadata": {},
   "source": [
    "# [3. Longest Substring Without Repeating Characters](https://leetcode.com/problems/longest-substring-without-repeating-characters/)\n",
    "\n",
    "Given a string `s`, find the length of the **longest substring** without repeating characters.\n",
    "\n",
    "**Example 1:**\n",
    "\n",
    "<pre><strong>Input:</strong> s = \"abcabcbb\"\n",
    "<strong>Output:</strong> 3\n",
    "<strong>Explanation:</strong> The answer is \"abc\", with the length of 3.\n",
    "</pre>\n",
    "\n",
    "**Example 2:**\n",
    "\n",
    "<pre><strong>Input:</strong> s = \"bbbbb\"\n",
    "<strong>Output:</strong> 1\n",
    "<strong>Explanation:</strong> The answer is \"b\", with the length of 1.\n",
    "</pre>\n",
    "\n",
    "**Example 3:**\n",
    "\n",
    "<pre><strong>Input:</strong> s = \"pwwkew\"\n",
    "<strong>Output:</strong> 3\n",
    "<strong>Explanation:</strong> The answer is \"wke\", with the length of 3.\n",
    "Notice that the answer must be a substring, \"pwke\" is a subsequence and not a substring.\n",
    "</pre>\n",
    "\n",
    "**Constraints:**\n",
    "\n",
    "* `0 <= s.length <= 5 * 10<sup>4</sup>`\n",
    "* `s` consists of English letters, digits, symbols and spaces.\n"
   ]
  },
  {
   "cell_type": "markdown",
   "metadata": {},
   "source": [
    "## 풀이\n",
    "\n",
    "- String\n",
    "- Hash Table\n",
    "- Sliding Window\n",
    "\n",
    "이 문제는 중복되지 않는 가장 긴 문자열의 길이를 반환해야했다.\n",
    "\n",
    "해시테이블을 사용해서 각 문자의 인덱스를 저장하고 시작점을 통해 가장 긴 문자열을 계산한다."
   ]
  },
  {
   "cell_type": "code",
   "execution_count": 44,
   "metadata": {},
   "outputs": [],
   "source": [
    "class Solution:\n",
    "    def lengthOfLongestSubstring(self, s):\n",
    "        answer = 0\n",
    "        start_point = 0\n",
    "        used_alphabet = {}\n",
    "        for index, alphabet in enumerate(s):\n",
    "            if alphabet in used_alphabet and start_point <= used_alphabet[alphabet]:\n",
    "                start_point = used_alphabet[alphabet] + 1\n",
    "            else:\n",
    "                answer = max(answer, index - start_point + 1)\n",
    "            used_alphabet[alphabet] = index\n",
    "        return answer\n"
   ]
  },
  {
   "cell_type": "code",
   "execution_count": 50,
   "metadata": {},
   "outputs": [
    {
     "name": "stdout",
     "output_type": "stream",
     "text": [
      "'abcabcbb'\n",
      "3\n",
      "\n",
      "'bbb*bb'\n",
      "2\n",
      "\n",
      "'pww1k23e45w'\n",
      "8\n",
      "\n",
      "' '\n",
      "1\n",
      "\n",
      "'dvdf'\n",
      "3\n",
      "\n"
     ]
    }
   ],
   "source": [
    "ss = [\"abcabcbb\", \"bbbbb\", \"pwwkew\", \" \", \"dvdf\"]\n",
    "solution = Solution()\n",
    "for s in ss:\n",
    "  print(\"'\" + s + \"'\")\n",
    "  print(solution.lengthOfLongestSubstring(s))\n",
    "  print()\n"
   ]
  },
  {
   "cell_type": "code",
   "execution_count": null,
   "metadata": {},
   "outputs": [],
   "source": []
  }
 ],
 "metadata": {
  "kernelspec": {
   "display_name": "Python 3.8.9 64-bit",
   "language": "python",
   "name": "python3"
  },
  "language_info": {
   "codemirror_mode": {
    "name": "ipython",
    "version": 3
   },
   "file_extension": ".py",
   "mimetype": "text/x-python",
   "name": "python",
   "nbconvert_exporter": "python",
   "pygments_lexer": "ipython3",
   "version": "3.8.9"
  },
  "orig_nbformat": 4,
  "vscode": {
   "interpreter": {
    "hash": "31f2aee4e71d21fbe5cf8b01ff0e069b9275f58929596ceb00d14d90e3e16cd6"
   }
  }
 },
 "nbformat": 4,
 "nbformat_minor": 2
}
