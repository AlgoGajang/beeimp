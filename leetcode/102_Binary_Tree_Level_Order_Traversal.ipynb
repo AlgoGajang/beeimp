{
 "cells": [
  {
   "cell_type": "markdown",
   "metadata": {},
   "source": [
    "# [102. Binary Tree Level Order Traversal](https://leetcode.com/problems/binary-tree-level-order-traversal/)\n",
    "\n",
    "## 문제\n",
    "\n",
    "Given the `root` of a binary tree, return *the level order traversal of its nodes' values* . (i.e., from left to right, level by level).\n",
    "\n",
    "**Example 1:**\n",
    "\n",
    "![](https://assets.leetcode.com/uploads/2021/02/19/tree1.jpg)\n",
    "\n",
    "<pre><strong>Input:</strong> root = [3,9,20,null,null,15,7]\n",
    "<strong>Output:</strong> [[3],[9,20],[15,7]]\n",
    "</pre>\n",
    "\n",
    "**Example 2:**\n",
    "\n",
    "<pre><strong>Input:</strong> root = [1]\n",
    "<strong>Output:</strong> [[1]]\n",
    "</pre>\n",
    "\n",
    "**Example 3:**\n",
    "\n",
    "<pre><strong>Input:</strong> root = []\n",
    "<strong>Output:</strong> []\n",
    "</pre>\n",
    "\n",
    "**Constraints:**\n",
    "\n",
    "* The number of nodes in the tree is in the range `[0, 2000]`.\n",
    "* `-1000 <= Node.val <= 1000`\n"
   ]
  },
  {
   "cell_type": "markdown",
   "metadata": {},
   "source": [
    "## 풀이\n",
    "\n",
    "- Tree\n",
    "- Binary Tree\n",
    "- BFS\n",
    "\n",
    "이 문제는 트리의 레벨의 원소들을 배열에 담아 반환해야 한다.\n",
    "\n",
    "그래서 Root Tree를 너비 우선 탐색으로 left와 right 자식 노드가 있으면 level + 1과 자식 노드를 다시 queue에 담아 문제를 해결했다."
   ]
  },
  {
   "cell_type": "code",
   "execution_count": null,
   "metadata": {},
   "outputs": [],
   "source": [
    "from collections import deque\n",
    "from typing import List, Optional\n",
    "\n",
    "\n",
    "# Definition for a binary tree node.\n",
    "class TreeNode:\n",
    "    def __init__(self, val=0, left=None, right=None):\n",
    "        self.val = val\n",
    "        self.left = left\n",
    "        self.right = right\n",
    "\n",
    "\n",
    "class Solution:\n",
    "    def levelOrder(self, root: Optional[TreeNode]) -> List[List[int]]:\n",
    "        answer = []\n",
    "\n",
    "        q = deque()\n",
    "        q.append([0, root])\n",
    "\n",
    "        while q:\n",
    "            level, tree = q.popleft()\n",
    "\n",
    "            if not tree:\n",
    "                continue\n",
    "\n",
    "            if len(answer) == level:\n",
    "                answer.append([])\n",
    "\n",
    "            answer[level].append(tree.val)\n",
    "\n",
    "            if tree.left:\n",
    "                q.append([level + 1, tree.left])\n",
    "            if tree.right:\n",
    "                q.append([level + 1, tree.right])\n",
    "\n",
    "        return answer\n"
   ]
  },
  {
   "cell_type": "markdown",
   "metadata": {},
   "source": [
    "![](assets/20221016_171622_image.png)\n"
   ]
  }
 ],
 "metadata": {
  "kernelspec": {
   "display_name": "Python 3.10.7 64-bit",
   "language": "python",
   "name": "python3"
  },
  "language_info": {
   "name": "python",
   "version": "3.10.7"
  },
  "orig_nbformat": 4,
  "vscode": {
   "interpreter": {
    "hash": "aee8b7b246df8f9039afb4144a1f6fd8d2ca17a180786b69acc140d282b71a49"
   }
  }
 },
 "nbformat": 4,
 "nbformat_minor": 2
}
