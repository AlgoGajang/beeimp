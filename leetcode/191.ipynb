{
 "cells": [
  {
   "cell_type": "markdown",
   "metadata": {},
   "source": [
    "# [191. Number of 1 Bits](https://leetcode.com/problems/number-of-1-bits/)\n",
    "\n",
    "Write a function that takes an unsigned integer and returns the number of '1' bits it has (also known as the [Hamming weight](http://en.wikipedia.org/wiki/Hamming_weight)).\n",
    "\n",
    "**Note:**\n",
    "\n",
    "* Note that in some languages, such as Java, there is no unsigned integer type. In this case, the input will be given as a signed integer type. It should not affect your implementation, as the integer's internal binary representation is the same, whether it is signed or unsigned.\n",
    "* In Java, the compiler represents the signed integers using [2&#39;s complement notation](https://en.wikipedia.org/wiki/Two%27s_complement). Therefore, in **Example 3** , the input represents the signed integer. `-3`.\n",
    "\n",
    "**Example 1:**\n",
    "\n",
    "<pre><strong>Input:</strong> n = 00000000000000000000000000001011\n",
    "<strong>Output:</strong> 3\n",
    "<strong>Explanation:</strong> The input binary string <strong>00000000000000000000000000001011</strong> has a total of three '1' bits.\n",
    "</pre>\n",
    "\n",
    "**Example 2:**\n",
    "\n",
    "<pre><strong>Input:</strong> n = 00000000000000000000000010000000\n",
    "<strong>Output:</strong> 1\n",
    "<strong>Explanation:</strong> The input binary string <strong>00000000000000000000000010000000</strong> has a total of one '1' bit.\n",
    "</pre>\n",
    "\n",
    "**Example 3:**\n",
    "\n",
    "<pre><strong>Input:</strong> n = 11111111111111111111111111111101\n",
    "<strong>Output:</strong> 31\n",
    "<strong>Explanation:</strong> The input binary string <strong>11111111111111111111111111111101</strong> has a total of thirty one '1' bits.\n",
    "</pre>\n",
    "\n",
    "**Constraints:**\n",
    "\n",
    "* The input must be a **binary string** of length `32`.\n"
   ]
  },
  {
   "cell_type": "markdown",
   "metadata": {},
   "source": [
    "## 풀이\n",
    "\n",
    "- Divide and Conquer\n",
    "- Bit Manipulation\n",
    "\n",
    "이 문제는 비트로 나타냈을 때 1의 개수를 구해야했다.\n",
    "\n",
    "가장 단순하게 n을 2로 나누었을 때 나머지 1이 있을 경우 1을 카운팅했다.\n",
    "\n",
    "문제에서 의도한 풀이는 아닌 것 같지만 통과했다.\n",
    "\n",
    "문제에서 의도하는 풀이는 Reference Code 2번인듯 싶다."
   ]
  },
  {
   "cell_type": "code",
   "execution_count": null,
   "metadata": {},
   "outputs": [],
   "source": [
    "class Solution:\n",
    "    def hammingWeight(self, n: int) -> int:\n",
    "        answer = 0\n",
    "        while n > 0:\n",
    "            if n % 2 == 1:\n",
    "                answer += 1\n",
    "            n //= 2\n",
    "        return answer\n",
    "        "
   ]
  },
  {
   "cell_type": "markdown",
   "metadata": {},
   "source": [
    "### Reference Code"
   ]
  },
  {
   "cell_type": "code",
   "execution_count": null,
   "metadata": {},
   "outputs": [],
   "source": [
    "class Solution:\n",
    "    def hammingWeight_1(self, n: int) -> int:\n",
    "      return bin(n).count('1')\n",
    "\n",
    "    def hammingWeight_2(self, n: int) -> int:\n",
    "      answer = 0\n",
    "      while n:\n",
    "          n &= n - 1\n",
    "          answer += 1\n",
    "      return answer"
   ]
  }
 ],
 "metadata": {
  "kernelspec": {
   "display_name": "Python 3.8.9 64-bit",
   "language": "python",
   "name": "python3"
  },
  "language_info": {
   "name": "python",
   "version": "3.8.9"
  },
  "orig_nbformat": 4,
  "vscode": {
   "interpreter": {
    "hash": "31f2aee4e71d21fbe5cf8b01ff0e069b9275f58929596ceb00d14d90e3e16cd6"
   }
  }
 },
 "nbformat": 4,
 "nbformat_minor": 2
}
