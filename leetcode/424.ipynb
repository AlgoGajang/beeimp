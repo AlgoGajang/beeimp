{
 "cells": [
  {
   "cell_type": "markdown",
   "metadata": {},
   "source": [
    "# [424. Longest Repeating Character Replacement](https://leetcode.com/problems/longest-repeating-character-replacement/)\n",
    "\n",
    "You are given a string `s` and an integer `k`. You can choose any character of the string and change it to any other uppercase English character. You can perform this operation at most `k` times.\n",
    "\n",
    "Return *the length of the longest substring containing the same letter you can get after performing the above operations* .\n",
    "\n",
    "**Example 1:**\n",
    "\n",
    "<pre><strong>Input:</strong> s = \"ABAB\", k = 2\n",
    "<strong>Output:</strong> 4\n",
    "<strong>Explanation:</strong> Replace the two 'A's with two 'B's or vice versa.\n",
    "</pre>\n",
    "\n",
    "**Example 2:**\n",
    "\n",
    "<pre><strong>Input:</strong> s = \"AABABBA\", k = 1\n",
    "<strong>Output:</strong> 4\n",
    "<strong>Explanation:</strong> Replace the one 'A' in the middle with 'B' and form \"AABBBBA\".\n",
    "The substring \"BBBB\" has the longest repeating letters, which is 4.\n",
    "</pre>\n",
    "\n",
    "**Constraints:**\n",
    "\n",
    "* `1 <= s.length <= 10<sup>5</sup>`\n",
    "* `s` consists of only uppercase English letters.\n",
    "* `0 <= k <= s.length`\n"
   ]
  },
  {
   "cell_type": "markdown",
   "metadata": {},
   "source": [
    "## 풀이\n",
    "\n",
    "- String\n",
    "- Hash Table\n",
    "- Sliding Window\n",
    "\n",
    "이 문제는 알파벳 문자열과 바꿀 수 있는 문자 개수가 주여저서 연속되는 최대 문자열의 길이를 구해야했다.\n",
    "\n",
    "문자열을 처음부터 문자 하나씩 확인한다. 문자열의 처음부터 반복문의 인덱스까지 구간에서 알파벳의 개수 중 최대 개수를 구한다.\n",
    "\n",
    "```python\n",
    "# ex\n",
    "input = AABA\n",
    "\n",
    "start_index = 0\n",
    "end_index = 2\n",
    "\n",
    ">>> length\n",
    "{\n",
    "  A: 2\n",
    "  B: 1\n",
    "}\n",
    "```\n",
    "\n",
    "여기서 바꿀 문자의 개수는 start_index부터 end_index까지의 길이에서 가장 많은 문자의 개수를 뺀다.\n",
    "\n",
    "바꿀 문자 개수가 바꿀 수 있는 문자 개수보다 클 경우 start_index를 1 증가시키고 해당 문자 개수를 한개 감소시킨다.\n",
    "\n",
    "최종적으로, 전체 문자열의 길이에서 증가한 start_index를 빼면 문제를 해결할 수 있다."
   ]
  },
  {
   "cell_type": "code",
   "execution_count": 2,
   "metadata": {},
   "outputs": [],
   "source": [
    "class Solution:\n",
    "    def characterReplacement(self, s: str, k: int) -> int:\n",
    "      answer = 0\n",
    "      counts = {} # key: 알파벳 / value : count\n",
    "      start_index, max_count = 0, 0\n",
    "\n",
    "      for end_index, char in enumerate(s):\n",
    "        counts[char] = counts[char] + 1 if char in counts.keys() else 1\n",
    "        max_count = max(max_count, counts[char])\n",
    "\n",
    "        change_char = end_index - start_index + 1 - max_count\n",
    "        if change_char > k :\n",
    "          start_index += 1\n",
    "          counts[s[start_index]] -= 1\n",
    "        \n",
    "      answer = len(s) - start_index\n",
    "\n",
    "      return answer"
   ]
  }
 ],
 "metadata": {
  "kernelspec": {
   "display_name": "Python 3.8.9 64-bit",
   "language": "python",
   "name": "python3"
  },
  "language_info": {
   "codemirror_mode": {
    "name": "ipython",
    "version": 3
   },
   "file_extension": ".py",
   "mimetype": "text/x-python",
   "name": "python",
   "nbconvert_exporter": "python",
   "pygments_lexer": "ipython3",
   "version": "3.8.9"
  },
  "orig_nbformat": 4,
  "vscode": {
   "interpreter": {
    "hash": "31f2aee4e71d21fbe5cf8b01ff0e069b9275f58929596ceb00d14d90e3e16cd6"
   }
  }
 },
 "nbformat": 4,
 "nbformat_minor": 2
}
