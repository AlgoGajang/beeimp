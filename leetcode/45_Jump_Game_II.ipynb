{
 "cells": [
  {
   "cell_type": "markdown",
   "metadata": {},
   "source": [
    "# [45. Jump Game II](https://leetcode.com/problems/jump-game-ii/)\n",
    "\n",
    "## 문제\n",
    "\n",
    "You are given a **0-indexed** array of integers `nums` of length `n`. You are initially positioned at `nums[0]`.\n",
    "\n",
    "Each element `nums[i]` represents the maximum length of a forward jump from index `i`. In other words, if you are at `nums[i]`, you can jump to any `nums[i + j]` where:\n",
    "\n",
    "* `0 <= j <= nums[i]` and\n",
    "* `i + j < n`\n",
    "\n",
    "Return *the minimum number of jumps to reach * `nums[n - 1]`. The test cases are generated such that you can reach `nums[n - 1]`.\n",
    "\n",
    "**Example 1:**\n",
    "\n",
    "<pre><strong>Input:</strong> nums = [2,3,1,1,4]\n",
    "<strong>Output:</strong> 2\n",
    "<strong>Explanation:</strong> The minimum number of jumps to reach the last index is 2. Jump 1 step from index 0 to 1, then 3 steps to the last index.\n",
    "</pre>\n",
    "\n",
    "**Example 2:**\n",
    "\n",
    "<pre><strong>Input:</strong> nums = [2,3,0,1,4]\n",
    "<strong>Output:</strong> 2\n",
    "</pre>\n",
    "\n",
    "**Constraints:**\n",
    "\n",
    "* `1 <= nums.length <= 10<sup>4</sup>`\n",
    "* `0 <= nums[i] <= 1000`\n"
   ]
  },
  {
   "cell_type": "markdown",
   "metadata": {},
   "source": [
    "## 풀이\n",
    "\n",
    "- Array\n",
    "- Greedy\n",
    "  \n",
    "이 문제는 배열의 마지막 인덱스에 도달할 때까지 이동한 요소의 최소 개수를 구해야 한다."
   ]
  },
  {
   "cell_type": "code",
   "execution_count": null,
   "metadata": {},
   "outputs": [],
   "source": [
    "class Solution:\n",
    "    def jump(self, nums: List[int]) -> int:\n",
    "        if len(nums) <= 1: return 0\n",
    "        answer = 1\n",
    "        l = len(nums)\n",
    "        pos, max_dest = 0, nums[0]\n",
    "        while max_dest < l - 1:\n",
    "            # 다음 이동할 수 있는 최대 거리\n",
    "            next_pos = max(i + nums[i] for i in range(pos, max_dest + 1))\n",
    "            pos, max_dest = max_dest, next_pos\n",
    "            answer += 1\n",
    "        return answer"
   ]
  },
  {
   "cell_type": "markdown",
   "metadata": {},
   "source": [
    "## 결과\n",
    "\n",
    "![](assets/20221101_112651_image.png)\n",
    "\n",
    "![](assets/20221101_112657_image.png)\n"
   ]
  }
 ],
 "metadata": {
  "kernelspec": {
   "display_name": "Python 3.10.7 64-bit",
   "language": "python",
   "name": "python3"
  },
  "language_info": {
   "name": "python",
   "version": "3.10.7"
  },
  "orig_nbformat": 4,
  "vscode": {
   "interpreter": {
    "hash": "aee8b7b246df8f9039afb4144a1f6fd8d2ca17a180786b69acc140d282b71a49"
   }
  }
 },
 "nbformat": 4,
 "nbformat_minor": 2
}
