{
 "cells": [
  {
   "cell_type": "markdown",
   "metadata": {},
   "source": [
    "# [139. Word Break](https://leetcode.com/problems/word-break/)\n",
    "\n",
    "Given a string `s` and a dictionary of strings `wordDict`, return `true` if `s` can be segmented into a space-separated sequence of one or more dictionary words.\n",
    "\n",
    "**Note** that the same word in the dictionary may be reused multiple times in the segmentation.\n",
    "\n",
    "**Example 1:**\n",
    "\n",
    "<pre><strong>Input:</strong> s = \"leetcode\", wordDict = [\"leet\",\"code\"]\n",
    "<strong>Output:</strong> true\n",
    "<strong>Explanation:</strong> Return true because \"leetcode\" can be segmented as \"leet code\".\n",
    "</pre>\n",
    "\n",
    "**Example 2:**\n",
    "\n",
    "<pre><strong>Input:</strong> s = \"applepenapple\", wordDict = [\"apple\",\"pen\"]\n",
    "<strong>Output:</strong> true\n",
    "<strong>Explanation:</strong> Return true because \"applepenapple\" can be segmented as \"apple pen apple\".\n",
    "Note that you are allowed to reuse a dictionary word.\n",
    "</pre>\n",
    "\n",
    "**Example 3:**\n",
    "\n",
    "<pre><strong>Input:</strong> s = \"catsandog\", wordDict = [\"cats\",\"dog\",\"sand\",\"and\",\"cat\"]\n",
    "<strong>Output:</strong> false\n",
    "</pre>\n",
    "\n",
    "**Constraints:**\n",
    "\n",
    "* `1 <= s.length <= 300`\n",
    "* `1 <= wordDict.length <= 1000`\n",
    "* `1 <= wordDict[i].length <= 20`\n",
    "* `s` and `wordDict[i]` consist of only lowercase English letters.\n",
    "* All the strings of `wordDict` are **unique** .\n"
   ]
  },
  {
   "cell_type": "markdown",
   "metadata": {},
   "source": [
    "## 풀이\n",
    "\n",
    "- String\n",
    "- Hash Table\n",
    "- Dynamic Programming\n",
    "- Trie\n",
    "- Memoization\n",
    "- Breath-First Search\n",
    "\n",
    "이 문제는 입력값으로 주어진 문자열이 단어사전에 모두 들어있는지 유무를 반환해야했다.\n",
    "\n",
    "먼저, Queue 자료구조를 사용했고, 문자열을 차례대로 확인하면서 문자열의 일부를 자르고 단어 사전에 단어가 들어 있는지 확인했다. \n",
    "\n",
    "자른 단어가 단어사전에 존재한다면 문자열의 인덱스를 방문했다고 설정하여 자른 단어의 마지막 인덱스가 문자열의 길이과 같다면 True를 반환한다.\n",
    "인덱스가 길이와 같지 않다면 자른 단어의 마지막 인덱스를 queue와 방문에 추가하여 반복문을 실행한다.\n",
    "\n",
    "반복문이 종료되면 단어사전에 모두 포함되어 있지 않음으로 간주하고 False를 반환한다\n"
   ]
  },
  {
   "cell_type": "code",
   "execution_count": null,
   "metadata": {},
   "outputs": [],
   "source": [
    "import collections\n",
    "from typing import *\n",
    "\n",
    "class Solution:\n",
    "    def wordBreak(self, s: str, wordDict: List[str]) -> bool:\n",
    "      q = collections.deque()\n",
    "      visited = set()\n",
    "      q.append(0)\n",
    "      visited.add(0)\n",
    "\n",
    "      while q:\n",
    "        current_index = q.popleft()\n",
    "        for i in range(current_index, len(s) + 1):\n",
    "          if i in visited:\n",
    "            continue\n",
    "          if s[current_index:i] in wordDict:\n",
    "            if i == len(s):\n",
    "              return True\n",
    "            q.append(i)\n",
    "            visited.add(i)\n",
    "\n",
    "      return False"
   ]
  }
 ],
 "metadata": {
  "kernelspec": {
   "display_name": "Python 3.8.9 64-bit",
   "language": "python",
   "name": "python3"
  },
  "language_info": {
   "name": "python",
   "version": "3.8.9"
  },
  "orig_nbformat": 4,
  "vscode": {
   "interpreter": {
    "hash": "31f2aee4e71d21fbe5cf8b01ff0e069b9275f58929596ceb00d14d90e3e16cd6"
   }
  }
 },
 "nbformat": 4,
 "nbformat_minor": 2
}
