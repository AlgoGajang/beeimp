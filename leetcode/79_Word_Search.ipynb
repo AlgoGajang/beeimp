{
 "cells": [
  {
   "cell_type": "markdown",
   "metadata": {},
   "source": [
    "# [79. Word Search](https://leetcode.com/problems/word-search/)\n",
    "\n",
    "\n",
    "Given an `m x n` grid of characters `board` and a string `word`, return `true` *if* `word` *exists in the grid* .\n",
    "\n",
    "The word can be constructed from letters of sequentially adjacent cells, where adjacent cells are horizontally or vertically neighboring. The same letter cell may not be used more than once.\n",
    "\n",
    "**Example 1:**\n",
    "\n",
    "![](https://assets.leetcode.com/uploads/2020/11/04/word2.jpg)\n",
    "\n",
    "<pre><strong>Input:</strong> board = [[\"A\",\"B\",\"C\",\"E\"],[\"S\",\"F\",\"C\",\"S\"],[\"A\",\"D\",\"E\",\"E\"]], word = \"ABCCED\"\n",
    "<strong>Output:</strong> true\n",
    "</pre>\n",
    "\n",
    "**Example 2:**\n",
    "\n",
    "![](https://assets.leetcode.com/uploads/2020/11/04/word-1.jpg)\n",
    "\n",
    "<pre><strong>Input:</strong> board = [[\"A\",\"B\",\"C\",\"E\"],[\"S\",\"F\",\"C\",\"S\"],[\"A\",\"D\",\"E\",\"E\"]], word = \"SEE\"\n",
    "<strong>Output:</strong> true\n",
    "</pre>\n",
    "\n",
    "**Example 3:**\n",
    "\n",
    "![](https://assets.leetcode.com/uploads/2020/10/15/word3.jpg)\n",
    "\n",
    "<pre><strong>Input:</strong> board = [[\"A\",\"B\",\"C\",\"E\"],[\"S\",\"F\",\"C\",\"S\"],[\"A\",\"D\",\"E\",\"E\"]], word = \"ABCB\"\n",
    "<strong>Output:</strong> false\n",
    "</pre>\n",
    "\n",
    "**Constraints:**\n",
    "\n",
    "* `m == board.length`\n",
    "* `n = board[i].length`\n",
    "* `1 <= m, n <= 6`\n",
    "* `1 <= word.length <= 15`\n",
    "* `board` and `word` consists of only lowercase and uppercase English letters.\n",
    "\n",
    "**Follow up:** Could you use search pruning to make your solution faster with a larger `board`?\n"
   ]
  },
  {
   "cell_type": "markdown",
   "metadata": {},
   "source": [
    "## 풀이\n",
    "\n",
    "- Array\n",
    "- Backtracking\n",
    "- Matrix\n",
    "- DFS\n",
    "\n",
    "이 문제는 행렬에서 주어진 문자열이 있다면 True, 없다면 False를 반환해야 한다.\n",
    "\n",
    "DFS로 풀었으며, 문자열에서 문자를 찾을 때마다 지우면서 해결했다."
   ]
  },
  {
   "cell_type": "code",
   "execution_count": null,
   "metadata": {},
   "outputs": [],
   "source": [
    "from typing import List\n",
    "\n",
    "\n",
    "class Solution:\n",
    "    def exist(self, board: List[List[str]], word: str) -> bool:\n",
    "        answer = False\n",
    "\n",
    "        def dfs(y, x, word):\n",
    "            # 모든 문자를 찾았다면\n",
    "            if word == '':\n",
    "                return True\n",
    "            # 행렬 범위를 벗어나거나, 문자가 같지 않다면\n",
    "            if y < 0 or len(board) <= y or x < 0 or len(board[0]) <= x or word[0] != board[y][x]:\n",
    "                return False\n",
    "\n",
    "            # 하나의 행렬을 쓰기 위해 DFS를 실행하는 동안 문자 변경\n",
    "            v = board[y][x]\n",
    "            board[y][x] = ''\n",
    "            result = False\n",
    "\n",
    "            # 4방 탐색\n",
    "            for dy, dx in zip([0, 0, -1, 1], [-1, 1, 0, 0]):\n",
    "                my, mx = dy + y, dx + x\n",
    "                result = result or dfs(my, mx, word[1:])\n",
    "\n",
    "            # 되돌리기\n",
    "            board[y][x] = v\n",
    "            return result\n",
    "\n",
    "        for y, row in enumerate(board):\n",
    "            for x, v in enumerate(row):\n",
    "                if v == word[0]:\n",
    "                    answer = answer or dfs(y, x, word)\n",
    "                if answer:\n",
    "                    return True\n",
    "        return False\n"
   ]
  },
  {
   "cell_type": "markdown",
   "metadata": {},
   "source": [
    "![](assets/20221014_103149_image.png)\n"
   ]
  }
 ],
 "metadata": {
  "kernelspec": {
   "display_name": "Python 3.10.7 64-bit",
   "language": "python",
   "name": "python3"
  },
  "language_info": {
   "name": "python",
   "version": "3.10.7"
  },
  "orig_nbformat": 4,
  "vscode": {
   "interpreter": {
    "hash": "aee8b7b246df8f9039afb4144a1f6fd8d2ca17a180786b69acc140d282b71a49"
   }
  }
 },
 "nbformat": 4,
 "nbformat_minor": 2
}
