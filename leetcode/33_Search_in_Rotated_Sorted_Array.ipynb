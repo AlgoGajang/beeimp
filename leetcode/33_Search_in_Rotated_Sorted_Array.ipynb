{
 "cells": [
  {
   "cell_type": "markdown",
   "metadata": {},
   "source": [
    "# [33. Search in Rotated Sorted Array](https://leetcode.com/problems/search-in-rotated-sorted-array/)\n",
    "\n",
    "## 문제\n",
    "\n",
    "There is an integer array `nums` sorted in ascending order (with **distinct** values).\n",
    "\n",
    "Prior to being passed to your function, `nums` is **possibly rotated** at an unknown pivot index `k` (`1 <= k < nums.length`) such that the resulting array is `[nums[k], nums[k+1], ..., nums[n-1], nums[0], nums[1], ..., nums[k-1]]` (**0-indexed** ). For example, `[0,1,2,4,5,6,7]` might be rotated at pivot index `3` and become `[4,5,6,7,0,1,2]`.\n",
    "\n",
    "Given the array `nums` **after** the possible rotation and an integer `target`, return *the index of * `target`* if it is in * `nums`*, or * `-1`* if it is not in * `nums`.\n",
    "\n",
    "You must write an algorithm with `O(log n)` runtime complexity.\n",
    "\n",
    "**Example 1:**\n",
    "\n",
    "<pre><strong>Input:</strong> nums = [4,5,6,7,0,1,2], target = 0\n",
    "<strong>Output:</strong> 4\n",
    "</pre>\n",
    "\n",
    "**Example 2:**\n",
    "\n",
    "<pre><strong>Input:</strong> nums = [4,5,6,7,0,1,2], target = 3\n",
    "<strong>Output:</strong> -1\n",
    "</pre>\n",
    "\n",
    "**Example 3:**\n",
    "\n",
    "<pre><strong>Input:</strong> nums = [1], target = 0\n",
    "<strong>Output:</strong> -1\n",
    "</pre>\n",
    "\n",
    "**Constraints:**\n",
    "\n",
    "* `1 <= nums.length <= 5000`\n",
    "* `-10<sup>4</sup><span> </span><= nums[i] <= 10<sup>4</sup>`\n",
    "* All values of `nums` are **unique** .\n",
    "* `nums` is an ascending array that is possibly rotated.\n",
    "* `-10<sup>4</sup><span> </span><= target <= 10<sup>4</sup>`\n"
   ]
  },
  {
   "cell_type": "markdown",
   "metadata": {},
   "source": [
    "## 풀이\n",
    "\n",
    "- Array\n",
    "- Binary Search\n",
    "\n",
    "이 문제는 정렬된 배열을 로테이션한 상태에서 값을 찾아야 한다.\n",
    "\n",
    "일반적인 탐색으로 찾는다면 O(N)이 시간복잡도 걸린다.\n",
    "\n",
    "하지만 정렬된 배열은 O(log2 N)의 시간복잡도가 걸린다.\n",
    "\n",
    "로테이션 되어있는 배열도 가능하다.\n",
    "\n",
    "1. 배열의 왼쪽 인덱스와 오른쪽 인덱스 사이의 가운데 인덱스를 구한다.\n",
    "2. 가운데 인덱스의 값과 찾는 값이 같다면 종료한다.\n",
    "3. 왼쪽값이 오른쪽값보다 작거나 같으면\n",
    "   1. 찾는값이 왼쪽값보다 크나 같고 찾는값이 가운데값보다 작거나 같으면, 오른쪽 인덱스 = 가운데 인덱스 - 1\n",
    "   2. 아니라면, 왼쪽 인덱스 = 가운데 인덱스 + 1\n",
    "4. 3이 아니라면\n",
    "   1. 찾는값이 가운데값보다 크거나 같고 오른쪽값보다 작거나 같으면, 왼쪽 인덱스 = 가운데 인덱스 + 1\n",
    "   2. 아니라면, 오른쪽 인덱스 = 가운데 인덱스 - 1\n",
    "5. 왼쪽 인덱스가 오른쪽 인덱스보다 같거나 작을 때 1번부터 다시 반복한다.\n",
    "6. 값을 반환한다."
   ]
  },
  {
   "cell_type": "code",
   "execution_count": null,
   "metadata": {},
   "outputs": [],
   "source": [
    "class Solution:\n",
    "    def search(self, nums: List[int], target: int) -> int:\n",
    "        answer = -1\n",
    "        \n",
    "        left, right = 0, len(nums) - 1\n",
    "        \n",
    "        while left <= right:\n",
    "            mid = left + (right - left) // 2\n",
    "            \n",
    "            if nums[mid] == target:\n",
    "                answer = mid\n",
    "                break\n",
    "            \n",
    "            if nums[left] <= nums[mid]:\n",
    "                if nums[left] <= target and target <= nums[mid]:\n",
    "                    right = mid - 1\n",
    "                else:\n",
    "                    left = mid + 1\n",
    "            else:\n",
    "                if nums[mid] <= target and target <= nums[right]:\n",
    "                    left = mid + 1\n",
    "                else:\n",
    "                    right = mid - 1\n",
    "        return answer\n",
    "        "
   ]
  },
  {
   "cell_type": "markdown",
   "metadata": {},
   "source": [
    "## 결과\n",
    "\n",
    "![](assets/20221028_114638_image.png)\n",
    "\n",
    "![](assets/20221028_114647_image.png)\n"
   ]
  }
 ],
 "metadata": {
  "kernelspec": {
   "display_name": "Python 3.10.7 64-bit",
   "language": "python",
   "name": "python3"
  },
  "language_info": {
   "name": "python",
   "version": "3.10.7"
  },
  "orig_nbformat": 4,
  "vscode": {
   "interpreter": {
    "hash": "aee8b7b246df8f9039afb4144a1f6fd8d2ca17a180786b69acc140d282b71a49"
   }
  }
 },
 "nbformat": 4,
 "nbformat_minor": 2
}
