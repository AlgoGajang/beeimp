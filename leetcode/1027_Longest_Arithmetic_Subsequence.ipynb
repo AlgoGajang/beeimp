{
 "cells": [
  {
   "cell_type": "markdown",
   "metadata": {},
   "source": [
    "# [1027. Longest Arithmetic Subsequence](https://leetcode.com/problems/longest-arithmetic-subsequence/description/)\n",
    "\n",
    "## 문제\n",
    "\n",
    "Given an array `nums` of integers, return the **length** of the longest arithmetic subsequence in `nums`.\n",
    "\n",
    "Recall that a *subsequence* of an array `nums` is a list `nums[i<sub>1</sub>], nums[i<sub>2</sub>], ..., nums[i<sub>k</sub>]` with `0 <= i<sub>1</sub> < i<sub>2</sub> < ... < i<sub>k</sub> <= nums.length - 1`, and that a sequence `seq` is *arithmetic* if `seq[i+1] - seq[i]` are all the same value (for `0 <= i < seq.length - 1`).\n",
    "\n",
    "**Example 1:**\n",
    "\n",
    "<pre><strong>Input:</strong> nums = [3,6,9,12]\n",
    "<strong>Output:</strong> 4\n",
    "<strong>Explanation: </strong>\n",
    "The whole array is an arithmetic sequence with steps of length = 3.\n",
    "</pre>\n",
    "\n",
    "**Example 2:**\n",
    "\n",
    "<pre><strong>Input:</strong> nums = [9,4,7,2,10]\n",
    "<strong>Output:</strong> 3\n",
    "<strong>Explanation: </strong>\n",
    "The longest arithmetic subsequence is [4,7,10].\n",
    "</pre>\n",
    "\n",
    "**Example 3:**\n",
    "\n",
    "<pre><strong>Input:</strong> nums = [20,1,15,3,10,5,8]\n",
    "<strong>Output:</strong> 4\n",
    "<strong>Explanation: </strong>\n",
    "The longest arithmetic subsequence is [20,15,10,5].\n",
    "</pre>\n",
    "\n",
    "**Constraints:**\n",
    "\n",
    "* `2 <= nums.length <= 1000`\n",
    "* `0 <= nums[i] <= 500`\n"
   ]
  },
  {
   "cell_type": "markdown",
   "metadata": {},
   "source": [
    "## 풀이\n",
    "\n",
    "- Array\n",
    "- DP\n",
    "- Hash Table\n",
    "\n",
    "이 문제는 배열에서 등차수열을 구해야 한다."
   ]
  },
  {
   "cell_type": "code",
   "execution_count": null,
   "metadata": {},
   "outputs": [],
   "source": [
    "class Solution:\n",
    "    def longestArithSeqLength(self, nums: List[int]) -> int:\n",
    "        answer = 0\n",
    "        \n",
    "        n = len(nums)\n",
    "        dp = [{} for _ in range(n)]\n",
    "        \n",
    "        for i in range(n):\n",
    "            dp[i][0] = 1\n",
    "            for j in range(i):\n",
    "                diff = nums[i] - nums[j]\n",
    "                \n",
    "                if diff not in dp[j]:\n",
    "                    dp[i][diff] = 2\n",
    "                else:\n",
    "                    dp[i][diff] = dp[j][diff] + 1\n",
    "            answer = max(answer, max(dp[i].values()))  \n",
    "        \n",
    "        return answer"
   ]
  },
  {
   "cell_type": "markdown",
   "metadata": {},
   "source": [
    "### Reference Code"
   ]
  },
  {
   "cell_type": "code",
   "execution_count": null,
   "metadata": {},
   "outputs": [],
   "source": [
    "class Solution:\n",
    "    def longestArithSeqLength(self, nums: List[int]) -> int:\n",
    "        maxCount = 1\n",
    "        for i in range(-60, 61):\n",
    "            mp = {}\n",
    "            for n in reversed(nums):\n",
    "                if n + i in mp:\n",
    "                    mp[n] = mp[n+i]+1\n",
    "                    maxCount = max(maxCount, mp[n])\n",
    "                else:\n",
    "                    mp[n] = 1   \n",
    "        return maxCount"
   ]
  },
  {
   "cell_type": "markdown",
   "metadata": {},
   "source": [
    "## 결과"
   ]
  },
  {
   "cell_type": "markdown",
   "metadata": {},
   "source": [
    "### My Code\n",
    "\n",
    "![](assets/20221108_121513_image.png)\n"
   ]
  },
  {
   "cell_type": "markdown",
   "metadata": {},
   "source": [
    "### Reference Code\n",
    "\n",
    "![](assets/20221108_120849_image.png)"
   ]
  }
 ],
 "metadata": {
  "kernelspec": {
   "display_name": "Python 3.10.7 64-bit",
   "language": "python",
   "name": "python3"
  },
  "language_info": {
   "name": "python",
   "version": "3.10.7"
  },
  "orig_nbformat": 4,
  "vscode": {
   "interpreter": {
    "hash": "aee8b7b246df8f9039afb4144a1f6fd8d2ca17a180786b69acc140d282b71a49"
   }
  }
 },
 "nbformat": 4,
 "nbformat_minor": 2
}
