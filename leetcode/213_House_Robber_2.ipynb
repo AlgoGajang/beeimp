{
 "cells": [
  {
   "cell_type": "markdown",
   "metadata": {},
   "source": [
    "# [213. House Robber II](https://leetcode.com/problems/house-robber-ii/)\n",
    "\n",
    "## 문제\n",
    "\n",
    "You are a professional robber planning to rob houses along a street. Each house has a certain amount of money stashed. All houses at this place are **arranged in a circle.** That means the first house is the neighbor of the last one. Meanwhile, adjacent houses have a security system connected, and **it will automatically contact the police if two adjacent houses were broken into on the same night** .\n",
    "\n",
    "Given an integer array `nums` representing the amount of money of each house, return *the maximum amount of money you can rob tonight **without alerting the police*** .\n",
    "\n",
    "**Example 1:**\n",
    "\n",
    "<pre><strong>Input:</strong> nums = [2,3,2]\n",
    "<strong>Output:</strong> 3\n",
    "<strong>Explanation:</strong> You cannot rob house 1 (money = 2) and then rob house 3 (money = 2), because they are adjacent houses.\n",
    "</pre>\n",
    "\n",
    "**Example 2:**\n",
    "\n",
    "<pre><strong>Input:</strong> nums = [1,2,3,1]\n",
    "<strong>Output:</strong> 4\n",
    "<strong>Explanation:</strong> Rob house 1 (money = 1) and then rob house 3 (money = 3).\n",
    "Total amount you can rob = 1 + 3 = 4.\n",
    "</pre>\n",
    "\n",
    "**Example 3:**\n",
    "\n",
    "<pre><strong>Input:</strong> nums = [1,2,3]\n",
    "<strong>Output:</strong> 3\n",
    "</pre>\n",
    "\n",
    "**Constraints:**\n",
    "\n",
    "* `1 <= nums.length <= 100`\n",
    "* `0 <= nums[i] <= 1000`\n"
   ]
  },
  {
   "cell_type": "markdown",
   "metadata": {},
   "source": [
    "## 풀이\n",
    "\n",
    "- Array\n",
    "- DP\n",
    "\n",
    "이 문제는 원형 배열에서 인접하지 않는 수의 최대 합을 구해야 한다.\n",
    "\n",
    "프로그래머스의 [스티커 모으기(2)](/programmers/스티커_모으기(2).ipynb)와 같은 문제였다."
   ]
  },
  {
   "cell_type": "code",
   "execution_count": null,
   "metadata": {},
   "outputs": [],
   "source": [
    "class Solution:\n",
    "    def rob(self, nums: List[int]) -> int:\n",
    "        answer = 0\n",
    "        l = len(nums)\n",
    "        \n",
    "        if l < 2:\n",
    "            return max(nums)\n",
    "        \n",
    "        dp = [0] * l\n",
    "        dp[0] = dp[1] = nums[0]\n",
    "        for i in range(2, l - 1):\n",
    "            dp[i] = max(dp[i - 2] + nums[i], dp[i - 1])\n",
    "        answer = dp[-2]\n",
    "        \n",
    "        dp = [0] * l\n",
    "        dp[1] = nums[1]\n",
    "        for i in range(2, l):\n",
    "            dp[i] = max(dp[i - 2] + nums[i], dp[i - 1])\n",
    "\n",
    "        return max(answer, dp[-1])"
   ]
  },
  {
   "cell_type": "markdown",
   "metadata": {},
   "source": [
    "## 결과\n",
    "\n",
    "![](assets/20221026_102144_image.png)\n",
    "\n",
    "![](assets/20221026_102200_image.png)\n"
   ]
  }
 ],
 "metadata": {
  "kernelspec": {
   "display_name": "Python 3.10.7 64-bit",
   "language": "python",
   "name": "python3"
  },
  "language_info": {
   "name": "python",
   "version": "3.10.7"
  },
  "orig_nbformat": 4,
  "vscode": {
   "interpreter": {
    "hash": "aee8b7b246df8f9039afb4144a1f6fd8d2ca17a180786b69acc140d282b71a49"
   }
  }
 },
 "nbformat": 4,
 "nbformat_minor": 2
}
