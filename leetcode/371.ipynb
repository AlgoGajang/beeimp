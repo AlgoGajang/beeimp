{
 "cells": [
  {
   "cell_type": "code",
   "execution_count": 30,
   "metadata": {},
   "outputs": [],
   "source": [
    "class Solution(object):\n",
    "    def getSum(self, a, b):\n",
    "        mask = 0xfffffff\n",
    "        while b:\n",
    "            sum = (a ^ b) & mask\n",
    "            carry = ((a & b) << 1) & mask\n",
    "            a, b = sum, carry\n",
    "        return a\n"
   ]
  },
  {
   "cell_type": "code",
   "execution_count": 31,
   "metadata": {},
   "outputs": [
    {
     "name": "stdout",
     "output_type": "stream",
     "text": [
      "a : 0b1\n",
      "b : 0b10\n",
      "a : 0b11\n",
      "b : 0b0\n",
      "3\n",
      "a : 0b10\n",
      "b : 0b11\n",
      "a : 0b1\n",
      "b : 0b100\n",
      "a : 0b1\n",
      "b : 0b100\n",
      "a : 0b101\n",
      "b : 0b0\n",
      "5\n"
     ]
    }
   ],
   "source": [
    "aList = [1, 2]\n",
    "bList = [2, 3]\n",
    "\n",
    "solution = Solution()\n",
    "\n",
    "for a, b in zip(aList, bList):\n",
    "  print(solution.getSum(a, b))"
   ]
  },
  {
   "cell_type": "code",
   "execution_count": 35,
   "metadata": {},
   "outputs": [
    {
     "data": {
      "text/plain": [
       "2"
      ]
     },
     "execution_count": 35,
     "metadata": {},
     "output_type": "execute_result"
    }
   ],
   "source": []
  },
  {
   "cell_type": "code",
   "execution_count": null,
   "metadata": {},
   "outputs": [],
   "source": []
  }
 ],
 "metadata": {
  "kernelspec": {
   "display_name": "Python 3.8.9 64-bit",
   "language": "python",
   "name": "python3"
  },
  "language_info": {
   "codemirror_mode": {
    "name": "ipython",
    "version": 3
   },
   "file_extension": ".py",
   "mimetype": "text/x-python",
   "name": "python",
   "nbconvert_exporter": "python",
   "pygments_lexer": "ipython3",
   "version": "3.8.9"
  },
  "orig_nbformat": 4,
  "vscode": {
   "interpreter": {
    "hash": "31f2aee4e71d21fbe5cf8b01ff0e069b9275f58929596ceb00d14d90e3e16cd6"
   }
  }
 },
 "nbformat": 4,
 "nbformat_minor": 2
}
