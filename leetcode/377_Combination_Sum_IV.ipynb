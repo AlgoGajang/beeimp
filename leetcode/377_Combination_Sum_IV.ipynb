{
 "cells": [
  {
   "cell_type": "markdown",
   "metadata": {},
   "source": [
    "# [377. Combination Sum IV](https://leetcode.com/problems/combination-sum-iv/)\n",
    "\n",
    "Given an array of **distinct** integers `nums` and a target integer `target`, return *the number of possible combinations that add up to* `target`.\n",
    "\n",
    "The test cases are generated so that the answer can fit in a **32-bit** integer.\n",
    "\n",
    "**Example 1:**\n",
    "\n",
    "<pre><strong>Input:</strong> nums = [1,2,3], target = 4\n",
    "<strong>Output:</strong> 7\n",
    "<strong>Explanation:</strong>\n",
    "The possible combination ways are:\n",
    "(1, 1, 1, 1)\n",
    "(1, 1, 2)\n",
    "(1, 2, 1)\n",
    "(1, 3)\n",
    "(2, 1, 1)\n",
    "(2, 2)\n",
    "(3, 1)\n",
    "Note that different sequences are counted as different combinations.\n",
    "</pre>\n",
    "\n",
    "**Example 2:**\n",
    "\n",
    "<pre><strong>Input:</strong> nums = [9], target = 3\n",
    "<strong>Output:</strong> 0\n",
    "</pre>\n",
    "\n",
    "**Constraints:**\n",
    "\n",
    "* `1 <= nums.length <= 200`\n",
    "* `1 <= nums[i] <= 1000`\n",
    "* All the elements of `nums` are **unique** .\n",
    "* `1 <= target <= 1000`\n",
    "\n",
    "**Follow up:** What if negative numbers are allowed in the given array? How does it change the problem? What limitation we need to add to the question to allow negative numbers?\n"
   ]
  },
  {
   "cell_type": "markdown",
   "metadata": {},
   "source": [
    "## 풀이\n",
    "\n",
    "- Array\n",
    "- Dynamic Programming\n",
    "\n",
    "이 문제는 입력값 target을 입력값 배열의 원소를 조합하여 더해서 만들 수 있는 개수를 반환해야 한다.\n",
    "\n",
    "1. nums 배열을 정렬한다.\n",
    "2. 1부터 target까지 반복하면서 nums의 원소를 차례대로 비교한다.\n",
    "  - nums의 원소가 i보다 큰 경우 값을 만들 수 없기 때문에 반목문을 종료한다.\n",
    "  - nums의 원소와 target이 같다면 1을 더한다.\n",
    "  - nums의 원소가 i보다 작다면 i - num에 해당하는 값을 더한다."
   ]
  },
  {
   "cell_type": "code",
   "execution_count": null,
   "metadata": {},
   "outputs": [],
   "source": [
    "from typing import *\n",
    "\n",
    "class Solution:\n",
    "    def combinationSum4(self, nums: List[int], target: int) -> int:\n",
    "        dp = [1] + [0] * (target)\n",
    "        nums = sorted(nums)\n",
    "        for i in range(1, target + 1):\n",
    "          for num in nums:\n",
    "            if num > i:\n",
    "              break\n",
    "            elif num == i:\n",
    "              dp[i] += dp[0]\n",
    "            else:\n",
    "              dp[i] += dp[i - num]\n",
    "        return dp[target]"
   ]
  }
 ],
 "metadata": {
  "kernelspec": {
   "display_name": "Python 3.8.9 64-bit",
   "language": "python",
   "name": "python3"
  },
  "language_info": {
   "name": "python",
   "version": "3.8.9"
  },
  "orig_nbformat": 4,
  "vscode": {
   "interpreter": {
    "hash": "31f2aee4e71d21fbe5cf8b01ff0e069b9275f58929596ceb00d14d90e3e16cd6"
   }
  }
 },
 "nbformat": 4,
 "nbformat_minor": 2
}
