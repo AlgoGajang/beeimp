{
 "cells": [
  {
   "cell_type": "markdown",
   "metadata": {},
   "source": [
    "# [23. Merge k Sorted Lists](https://leetcode.com/problems/merge-k-sorted-lists/)\n",
    "\n",
    "You are given an array of `k` linked-lists `lists`, each linked-list is sorted in ascending order.\n",
    "\n",
    "*Merge all the linked-lists into one sorted linked-list and return it.*\n",
    "\n",
    "**Example 1:**\n",
    "\n",
    "<pre><strong>Input:</strong> lists = [[1,4,5],[1,3,4],[2,6]]\n",
    "<strong>Output:</strong> [1,1,2,3,4,4,5,6]\n",
    "<strong>Explanation:</strong> The linked-lists are:\n",
    "[\n",
    "  1->4->5,\n",
    "  1->3->4,\n",
    "  2->6\n",
    "]\n",
    "merging them into one sorted list:\n",
    "1->1->2->3->4->4->5->6\n",
    "</pre>\n",
    "\n",
    "**Example 2:**\n",
    "\n",
    "<pre><strong>Input:</strong> lists = []\n",
    "<strong>Output:</strong> []\n",
    "</pre>\n",
    "\n",
    "**Example 3:**\n",
    "\n",
    "<pre><strong>Input:</strong> lists = [[]]\n",
    "<strong>Output:</strong> []\n",
    "</pre>\n",
    "\n",
    "**Constraints:**\n",
    "\n",
    "* `k == lists.length`\n",
    "* `0 <= k <= 10<sup>4</sup>`\n",
    "* `0 <= lists[i].length <= 500`\n",
    "* `-10<sup>4</sup><span> </span><= lists[i][j] <= 10<sup>4</sup>`\n",
    "* `lists[i]` is sorted in **ascending order** .\n",
    "* The sum of `lists[i].length` will not exceed `10<sup>4</sup>`.\n"
   ]
  },
  {
   "cell_type": "markdown",
   "metadata": {},
   "source": [
    "## 풀이\n",
    "\n",
    "- Linked List\n",
    "- Divide and Conquer\n",
    "- Heap (Priority Queue)\n",
    "- Merge Sort\n",
    "\n",
    "이 문제는 분할되어 있는 Linked Lists를 하나로 정렬해야했다. \n",
    "\n",
    "FIFO에 따라 Queue로 구현했고, \n",
    "\n",
    "병합 정렬의 분할 정복으로 문제를 해결했다."
   ]
  },
  {
   "cell_type": "code",
   "execution_count": null,
   "metadata": {},
   "outputs": [],
   "source": [
    "from typing import List, Optional\n",
    "from queue import Queue\n",
    "\n",
    "# Definition for singly-linked list.\n",
    "class ListNode:\n",
    "    def __init__(self, val=0, next=None):\n",
    "        self.val = val\n",
    "        self.next = next\n",
    "\n",
    "class Solution:\n",
    "    def mergeKLists(self, lists: List[Optional[ListNode]]) -> Optional[ListNode]:\n",
    "        answer = ListNode(None)\n",
    "        if lists is None or len(lists) == 0:\n",
    "            return answer.next\n",
    "        q = Queue(maxsize=len(lists))\n",
    "        for list_node in lists:\n",
    "            q.put(list_node)\n",
    "        while q.qsize() >= 2:\n",
    "            left, right = q.get(), q.get()\n",
    "            answer_next = answer\n",
    "            while True:\n",
    "                if left is None and right is None:\n",
    "                    break\n",
    "                answer_next.next = ListNode(None)\n",
    "                answer_next = answer_next.next\n",
    "                if left is None:\n",
    "                    answer_next.val = right.val\n",
    "                    answer_next.next = right.next\n",
    "                    break\n",
    "                elif right is None:\n",
    "                    answer_next.val = left.val\n",
    "                    answer_next.next = left.next\n",
    "                    break\n",
    "                else:\n",
    "                    if left.val > right.val:\n",
    "                        answer_next.val = right.val\n",
    "                        right = right.next\n",
    "                    else:\n",
    "                        answer_next.val = left.val\n",
    "                        left = left.next\n",
    "            q.put(answer.next)\n",
    "\n",
    "            answer = ListNode(None)\n",
    "        answer = q.get()\n",
    "        return answer\n"
   ]
  },
  {
   "cell_type": "markdown",
   "metadata": {},
   "source": [
    "## Reference Code"
   ]
  },
  {
   "cell_type": "code",
   "execution_count": null,
   "metadata": {},
   "outputs": [],
   "source": [
    "from queue import PriorityQueue\n",
    "\n",
    "# Definition for singly-linked list.\n",
    "class ListNode:\n",
    "    def __init__(self, val=0, next=None):\n",
    "        self.val = val\n",
    "        self.next = next\n",
    "\n",
    "class Solution:\n",
    "    def mergeKLists(self, lists):\n",
    "        q = PriorityQueue(maxsize=len(lists))\n",
    "        answer = ListNode(None)\n",
    "        curr = answer\n",
    "        for list_idx, node in enumerate(lists):\n",
    "            if node: q.put((node.val, list_idx, node))\n",
    "        while q.qsize() > 0:\n",
    "            poped = q.get()\n",
    "            curr.next, list_idx = poped[2], poped[1]\n",
    "            curr = curr.next\n",
    "            if curr.next: q.put((curr.next.val, list_idx, curr.next))\n",
    "        return answer.next"
   ]
  }
 ],
 "metadata": {
  "kernelspec": {
   "display_name": "Python 3.8.9 64-bit",
   "language": "python",
   "name": "python3"
  },
  "language_info": {
   "name": "python",
   "version": "3.8.9"
  },
  "orig_nbformat": 4,
  "vscode": {
   "interpreter": {
    "hash": "31f2aee4e71d21fbe5cf8b01ff0e069b9275f58929596ceb00d14d90e3e16cd6"
   }
  }
 },
 "nbformat": 4,
 "nbformat_minor": 2
}
