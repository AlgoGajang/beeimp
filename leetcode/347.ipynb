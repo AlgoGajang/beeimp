{
 "cells": [
  {
   "cell_type": "markdown",
   "metadata": {},
   "source": [
    "# [347. Top K Frequent Elements](https://leetcode.com/problems/top-k-frequent-elements/)\n",
    "\n",
    "Given an integer array `nums` and an integer `k`, return *the* `k` *most frequent elements* . You may return the answer in **any order** .\n",
    "\n",
    "**Example 1:**\n",
    "\n",
    "<pre><strong>Input:</strong> nums = [1,1,1,2,2,3], k = 2\n",
    "<strong>Output:</strong> [1,2]\n",
    "</pre>\n",
    "\n",
    "**Example 2:**\n",
    "\n",
    "<pre><strong>Input:</strong> nums = [1], k = 1\n",
    "<strong>Output:</strong> [1]\n",
    "</pre>\n",
    "\n",
    "**Constraints:**\n",
    "\n",
    "* `1 <= nums.length <= 10<sup>5</sup>`\n",
    "* `-10<sup>4</sup><span> </span><= nums[i] <= 10<sup>4</sup>`\n",
    "* `k` is in the range `[1, the number of unique elements in the array]`.\n",
    "* It is **guaranteed** that the answer is **unique** .\n",
    "\n",
    "**Follow up:** Your algorithm's time complexity must be better than `O(n log n)`, where n is the array's size.\n"
   ]
  },
  {
   "cell_type": "markdown",
   "metadata": {},
   "source": [
    "## 풀이\n",
    "\n",
    "- Array\n",
    "- Hash Table\n",
    "- Sorting\n",
    "- Heap\n",
    "\n",
    "이 문제는 입력 배열 값의 숫자의 빈도 수가 가장 많은 k개를 출력해야 했다.\n",
    "\n",
    "먼저, 배열의 숫자에 대해 빈도 수를 구해 해시 테이블에 저장한다.\n",
    "\n",
    "빈도 수에 대해 정렬하기 위해 힙(우선순위 큐)에 빈도 수 * (-1)로 내림차순으로 정렬한다.\n",
    "\n",
    "마지막으로, 힙에서 K개를 꺼내 문제를 해결했다."
   ]
  },
  {
   "cell_type": "code",
   "execution_count": 33,
   "metadata": {},
   "outputs": [],
   "source": [
    "import collections\n",
    "from queue import PriorityQueue\n",
    "from typing import List\n",
    "\n",
    "class Solution:\n",
    "    def topKFrequent(self, nums: List[int], k: int) -> List[int]:\n",
    "        answer = []\n",
    "        q = PriorityQueue()\n",
    "\n",
    "        counts = collections.Counter(nums)\n",
    "        # counts = {}\n",
    "        # for num in nums:\n",
    "        #   if num in counts.keys():\n",
    "        #     counts[num] += 1\n",
    "        #   else:\n",
    "        #     counts[num] = 1\n",
    "\n",
    "        for key in counts.keys():\n",
    "          q.put((-counts[key], key))\n",
    "\n",
    "        while not q.empty() and k > 0:\n",
    "          num = q.get()\n",
    "          answer.append(num[1])\n",
    "          k -= 1\n",
    "\n",
    "        return answer"
   ]
  },
  {
   "cell_type": "code",
   "execution_count": 34,
   "metadata": {},
   "outputs": [
    {
     "name": "stdout",
     "output_type": "stream",
     "text": [
      "[1, 2]\n",
      "[-1]\n"
     ]
    }
   ],
   "source": [
    "nums_list = [[1,1,1,2,2,3], [-1, -1]]\n",
    "k_list = [2, 2]\n",
    "solution = Solution()\n",
    "for nums, k in zip(nums_list, k_list):\n",
    "  print(solution.topKFrequent(nums, k)) "
   ]
  }
 ],
 "metadata": {
  "kernelspec": {
   "display_name": "Python 3.8.9 64-bit",
   "language": "python",
   "name": "python3"
  },
  "language_info": {
   "codemirror_mode": {
    "name": "ipython",
    "version": 3
   },
   "file_extension": ".py",
   "mimetype": "text/x-python",
   "name": "python",
   "nbconvert_exporter": "python",
   "pygments_lexer": "ipython3",
   "version": "3.8.9"
  },
  "orig_nbformat": 4,
  "vscode": {
   "interpreter": {
    "hash": "31f2aee4e71d21fbe5cf8b01ff0e069b9275f58929596ceb00d14d90e3e16cd6"
   }
  }
 },
 "nbformat": 4,
 "nbformat_minor": 2
}
