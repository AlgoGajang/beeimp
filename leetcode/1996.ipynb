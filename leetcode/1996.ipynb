{
 "cells": [
  {
   "cell_type": "markdown",
   "metadata": {},
   "source": [
    "# [1996. The Number of Weak Characters in the Game](https://leetcode.com/problems/the-number-of-weak-characters-in-the-game/)\n",
    "\n",
    "You are playing a game that contains multiple characters, and each of the characters has **two** main properties: **attack** and **defense** . You are given a 2D integer array `properties` where `properties[i] = [attack<sub>i</sub>, defense<sub>i</sub>]` represents the properties of the `i<sup>th</sup>` character in the game.\n",
    "\n",
    "A character is said to be **weak** if any other character has **both** attack and defense levels **strictly greater** than this character's attack and defense levels. More formally, a character `i` is said to be **weak** if there exists another character `j` where `attack<sub>j</sub><span> </span>> attack<sub>i</sub>` and `defense<sub>j</sub><span> </span>> defense<sub>i</sub>`.\n",
    "\n",
    "Return *the number of **weak** characters* .\n",
    "\n",
    "**Example 1:**\n",
    "\n",
    "<pre><strong>Input:</strong> properties = [[5,5],[6,3],[3,6]]\n",
    "<strong>Output:</strong> 0\n",
    "<strong>Explanation:</strong> No character has strictly greater attack and defense than the other.\n",
    "</pre>\n",
    "\n",
    "**Example 2:**\n",
    "\n",
    "<pre><strong>Input:</strong> properties = [[2,2],[3,3]]\n",
    "<strong>Output:</strong> 1\n",
    "<strong>Explanation:</strong> The first character is weak because the second character has a strictly greater attack and defense.\n",
    "</pre>\n",
    "\n",
    "**Example 3:**\n",
    "\n",
    "<pre><strong>Input:</strong> properties = [[1,5],[10,4],[4,3]]\n",
    "<strong>Output:</strong> 1\n",
    "<strong>Explanation:</strong> The third character is weak because the second character has a strictly greater attack and defense.\n",
    "</pre>\n",
    "\n",
    "**Constraints:**\n",
    "\n",
    "* `2 <= properties.length <= 10<sup>5</sup>`\n",
    "* `properties[i].length == 2`\n",
    "* `1 <= attack<sub>i</sub>, defense<sub>i</sub><span> </span><= 10<sup>5</sup>`\n"
   ]
  },
  {
   "cell_type": "markdown",
   "metadata": {},
   "source": [
    "## 풀이\n",
    "\n",
    "- Array\n",
    "- Stack\n",
    "- Greedy\n",
    "- Sort\n",
    "\n",
    "이 문제는 다른 배열의 속성 중 공격과 방어가 낮은 개수를 찾아야했다.\n",
    "\n",
    "먼저 속성들을 공격은 오름차순, 방어는 내림차순으로 정렬했다.\n",
    "\n",
    "그리고 반복문을 통해 속성의 방어를 비교하면서 개수를 추가했다."
   ]
  },
  {
   "cell_type": "code",
   "execution_count": null,
   "metadata": {},
   "outputs": [],
   "source": [
    "from typing import List\n",
    "\n",
    "\n",
    "class Solution:\n",
    "    def numberOfWeakCharacters(self, properties: List[List[int]]) -> int:\n",
    "        answer = 0\n",
    "        properties = sorted(properties, key=lambda x: (x[0], -x[1]))\n",
    "        stack = []\n",
    "\n",
    "        for attack, defense in properties:\n",
    "            while stack and stack[-1] < defense:\n",
    "                stack.pop()\n",
    "                answer += 1\n",
    "            stack.append(defense)\n",
    "        return answer\n"
   ]
  }
 ],
 "metadata": {
  "kernelspec": {
   "display_name": "Python 3.8.9 64-bit",
   "language": "python",
   "name": "python3"
  },
  "language_info": {
   "name": "python",
   "version": "3.8.9"
  },
  "orig_nbformat": 4,
  "vscode": {
   "interpreter": {
    "hash": "31f2aee4e71d21fbe5cf8b01ff0e069b9275f58929596ceb00d14d90e3e16cd6"
   }
  }
 },
 "nbformat": 4,
 "nbformat_minor": 2
}
