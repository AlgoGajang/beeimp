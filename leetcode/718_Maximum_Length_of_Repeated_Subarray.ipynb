{
 "cells": [
  {
   "cell_type": "markdown",
   "metadata": {},
   "source": [
    "# [718. Maximum Length of Repeated Subarray](https://leetcode.com/problems/maximum-length-of-repeated-subarray/description/)\n",
    "\n",
    "## 문제\n",
    "\n",
    "Given two integer arrays `nums1` and `nums2`, return *the maximum length of a subarray that appears in **both** arrays* .\n",
    "\n",
    "**Example 1:**\n",
    "\n",
    "<pre><strong>Input:</strong> nums1 = [1,2,3,2,1], nums2 = [3,2,1,4,7]\n",
    "<strong>Output:</strong> 3\n",
    "<strong>Explanation:</strong> The repeated subarray with maximum length is [3,2,1].\n",
    "</pre>\n",
    "\n",
    "**Example 2:**\n",
    "\n",
    "<pre><strong>Input:</strong> nums1 = [0,0,0,0,0], nums2 = [0,0,0,0,0]\n",
    "<strong>Output:</strong> 5\n",
    "<strong>Explanation:</strong> The repeated subarray with maximum length is [0,0,0,0,0].\n",
    "</pre>\n",
    "\n",
    "**Constraints:**\n",
    "\n",
    "* `1 <= nums1.length, nums2.length <= 1000`\n",
    "* `0 <= nums1[i], nums2[i] <= 100`\n"
   ]
  },
  {
   "cell_type": "markdown",
   "metadata": {},
   "source": [
    "## 풀이\n",
    "\n",
    "- Array\n",
    "- DP\n",
    "\n",
    "이 문제는 두 입력 배열에서 같은 구간의 최대 길이를 구해야 한다."
   ]
  },
  {
   "cell_type": "code",
   "execution_count": null,
   "metadata": {},
   "outputs": [],
   "source": [
    "class Solution:\n",
    "    def findLength(self, nums1: List[int], nums2: List[int]) -> int:\n",
    "        nums1_l, nums2_l = len(nums1), len(nums2)\n",
    "        dp = [0] * (nums2_l + 1)\n",
    "        res = 0\n",
    "        for i in range(nums1_l):\n",
    "            for j in range(nums2_l - 1, -1, -1):\n",
    "                dp[j+1] = 1 + dp[j] if nums1[i] == nums2[j] else 0\n",
    "                res = max(res, dp[j+1])\n",
    "        return res"
   ]
  },
  {
   "cell_type": "markdown",
   "metadata": {},
   "source": [
    "## 결과"
   ]
  },
  {
   "cell_type": "markdown",
   "metadata": {},
   "source": [
    "![](assets/20221107_111551_image.png)"
   ]
  }
 ],
 "metadata": {
  "kernelspec": {
   "display_name": "Python 3.10.7 64-bit",
   "language": "python",
   "name": "python3"
  },
  "language_info": {
   "name": "python",
   "version": "3.10.7"
  },
  "orig_nbformat": 4,
  "vscode": {
   "interpreter": {
    "hash": "aee8b7b246df8f9039afb4144a1f6fd8d2ca17a180786b69acc140d282b71a49"
   }
  }
 },
 "nbformat": 4,
 "nbformat_minor": 2
}
