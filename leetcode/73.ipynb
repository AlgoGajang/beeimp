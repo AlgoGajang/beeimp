{
 "cells": [
  {
   "cell_type": "markdown",
   "metadata": {},
   "source": [
    "# [73. Set Matrix Zeroes](https://leetcode.com/problems/set-matrix-zeroes/)\n",
    "\n",
    "Given an `m x n` integer matrix `matrix`, if an element is `0`, set its entire row and column to `0`'s.\n",
    "\n",
    "You must do it [in place](https://en.wikipedia.org/wiki/In-place_algorithm).\n",
    "\n",
    "**Example 1:**\n",
    "\n",
    "![](https://assets.leetcode.com/uploads/2020/08/17/mat1.jpg)\n",
    "\n",
    "<pre><strong>Input:</strong> matrix = [[1,1,1],[1,0,1],[1,1,1]]\n",
    "<strong>Output:</strong> [[1,0,1],[0,0,0],[1,0,1]]\n",
    "</pre>\n",
    "\n",
    "**Example 2:**\n",
    "\n",
    "![](https://assets.leetcode.com/uploads/2020/08/17/mat2.jpg)\n",
    "\n",
    "<pre><strong>Input:</strong> matrix = [[0,1,2,0],[3,4,5,2],[1,3,1,5]]\n",
    "<strong>Output:</strong> [[0,0,0,0],[0,4,5,0],[0,3,1,0]]\n",
    "</pre>\n",
    "\n",
    "**Constraints:**\n",
    "\n",
    "* `m == matrix.length`\n",
    "* `n == matrix[0].length`\n",
    "* `1 <= m, n <= 200`\n",
    "* `-2<sup>31</sup><span> </span><= matrix[i][j] <= 2<sup>31</sup><span> </span>- 1`\n",
    "\n",
    "**Follow up:**\n",
    "\n",
    "* A straightforward solution using `O(mn)` space is probably a bad idea.\n",
    "* A simple improvement uses `O(m + n)` space, but still not the best solution.\n",
    "* Could you devise a constant space solution?\n"
   ]
  },
  {
   "cell_type": "markdown",
   "metadata": {},
   "source": [
    "## 풀이\n",
    "\n",
    "- Hash Table\n",
    "- Matrix\n",
    "\n",
    "이 문제는 0의 행과 열을 모두 0으로 만들어야한다.\n",
    "\n",
    "먼저, matrix의 값 중 0을 찾아 딕셔너리에 저장했다.\n",
    "그리고 한번 더 반복문을 돌면서 해당 열과 행의 값을 0으로 변경했다."
   ]
  },
  {
   "cell_type": "code",
   "execution_count": null,
   "metadata": {},
   "outputs": [],
   "source": [
    "from typing import List\n",
    "\n",
    "class Solution:\n",
    "    def setZeroes(self, matrix: List[List[int]]) -> None:\n",
    "        \"\"\"\n",
    "        Do not return anything, modify matrix in-place instead.\n",
    "        \"\"\"\n",
    "        is_y_zero = {}\n",
    "        is_x_zero = {}\n",
    "        \n",
    "        for y, col in enumerate(matrix):\n",
    "          for x, v in enumerate(col):\n",
    "            if v is 0:\n",
    "              is_y_zero[y] = is_x_zero[x] = True\n",
    "        \n",
    "        for y, col in enumerate(matrix):\n",
    "          for x, v in enumerate(col):\n",
    "            if y in is_y_zero.keys() or x in is_x_zero.keys():\n",
    "              matrix[y][x] = 0\n",
    "\n",
    "        return matrix"
   ]
  }
 ],
 "metadata": {
  "kernelspec": {
   "display_name": "Python 3.8.9 64-bit",
   "language": "python",
   "name": "python3"
  },
  "language_info": {
   "codemirror_mode": {
    "name": "ipython",
    "version": 3
   },
   "file_extension": ".py",
   "mimetype": "text/x-python",
   "name": "python",
   "nbconvert_exporter": "python",
   "pygments_lexer": "ipython3",
   "version": "3.8.9"
  },
  "orig_nbformat": 4,
  "vscode": {
   "interpreter": {
    "hash": "31f2aee4e71d21fbe5cf8b01ff0e069b9275f58929596ceb00d14d90e3e16cd6"
   }
  }
 },
 "nbformat": 4,
 "nbformat_minor": 2
}
