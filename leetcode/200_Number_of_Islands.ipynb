{
 "cells": [
  {
   "cell_type": "markdown",
   "metadata": {},
   "source": [
    "# [200. Number of Islands](https://leetcode.com/problems/number-of-islands/)\n",
    "\n",
    "Given an `m x n` 2D binary grid `grid` which represents a map of `'1'`s (land) and `'0'`s (water), return *the number of islands* .\n",
    "\n",
    "An **island** is surrounded by water and is formed by connecting adjacent lands horizontally or vertically. You may assume all four edges of the grid are all surrounded by water.\n",
    "\n",
    "**Example 1:**\n",
    "\n",
    "<pre><strong>Input:</strong> grid = [\n",
    "  [\"1\",\"1\",\"1\",\"1\",\"0\"],\n",
    "  [\"1\",\"1\",\"0\",\"1\",\"0\"],\n",
    "  [\"1\",\"1\",\"0\",\"0\",\"0\"],\n",
    "  [\"0\",\"0\",\"0\",\"0\",\"0\"]\n",
    "]\n",
    "<strong>Output:</strong> 1\n",
    "</pre>\n",
    "\n",
    "**Example 2:**\n",
    "\n",
    "<pre><strong>Input:</strong> grid = [\n",
    "  [\"1\",\"1\",\"0\",\"0\",\"0\"],\n",
    "  [\"1\",\"1\",\"0\",\"0\",\"0\"],\n",
    "  [\"0\",\"0\",\"1\",\"0\",\"0\"],\n",
    "  [\"0\",\"0\",\"0\",\"1\",\"1\"]\n",
    "]\n",
    "<strong>Output:</strong> 3\n",
    "</pre>\n",
    "\n",
    "**Constraints:**\n",
    "\n",
    "* `m == grid.length`\n",
    "* `n == grid[i].length`\n",
    "* `1 <= m, n <= 300`\n",
    "* `grid[i][j]` is `'0'` or `'1'`.\n"
   ]
  },
  {
   "cell_type": "markdown",
   "metadata": {},
   "source": [
    "## 풀이\n",
    "\n",
    "- Matrix\n",
    "- BFS\n",
    "\n",
    "이 문제는 섬의 개수를 구해야 한다."
   ]
  },
  {
   "cell_type": "code",
   "execution_count": null,
   "metadata": {},
   "outputs": [],
   "source": [
    "from collections import deque\n",
    "from typing import List\n",
    "\n",
    "\n",
    "class Solution:\n",
    "    def bfs(self, pos, grid, visited, name):\n",
    "      q = deque()\n",
    "      q.append(pos)\n",
    "      visited[pos[0]][pos[1]] = name\n",
    "      while q:\n",
    "        y, x = q.popleft()\n",
    "        for dy, dx in zip([0, -1, 0, 1], [1, 0, -1, 0]):\n",
    "          my, mx = y + dy, x + dx\n",
    "          if 0 <= my and my < len(grid) and 0 <= mx and mx < len(grid[0]):\n",
    "            if grid[my][mx] == '1' and visited[my][mx] == 0:\n",
    "              q.append((my, mx))\n",
    "              visited[my][mx] = name\n",
    "      return name\n",
    "    def numIslands(self, grid: List[List[str]]) -> int:\n",
    "        answer = 0\n",
    "        visited = [[0 for _ in row] for row in grid]\n",
    "        \n",
    "        for y, row in enumerate(grid):\n",
    "          for x, v in enumerate(row):\n",
    "            if v == '1' and visited[y][x] == 0:\n",
    "              answer = self.bfs((y, x), grid, visited, answer + 1)\n",
    "\n",
    "        return answer"
   ]
  }
 ],
 "metadata": {
  "kernelspec": {
   "display_name": "Python 3.8.9 64-bit",
   "language": "python",
   "name": "python3"
  },
  "language_info": {
   "name": "python",
   "version": "3.8.9"
  },
  "orig_nbformat": 4,
  "vscode": {
   "interpreter": {
    "hash": "31f2aee4e71d21fbe5cf8b01ff0e069b9275f58929596ceb00d14d90e3e16cd6"
   }
  }
 },
 "nbformat": 4,
 "nbformat_minor": 2
}
