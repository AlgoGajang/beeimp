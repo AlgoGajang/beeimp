{
 "cells": [
  {
   "cell_type": "markdown",
   "metadata": {},
   "source": [
    "# [295. Find Median from Data Stream](https://leetcode.com/problems/find-median-from-data-stream/)\n",
    "\n",
    "The **median** is the middle value in an ordered integer list. If the size of the list is even, there is no middle value and the median is the mean of the two middle values.\n",
    "\n",
    "* For example, for `arr = [2,3,4]`, the median is `3`.\n",
    "* For example, for `arr = [2,3]`, the median is `(2 + 3) / 2 = 2.5`.\n",
    "\n",
    "Implement the MedianFinder class:\n",
    "\n",
    "* `MedianFinder()` initializes the `MedianFinder` object.\n",
    "* `void addNum(int num)` adds the integer `num` from the data stream to the data structure.\n",
    "* `double findMedian()` returns the median of all elements so far. Answers within `10<sup>-5</sup>` of the actual answer will be accepted.\n",
    "\n",
    "**Example 1:**\n",
    "\n",
    "<pre><strong>Input</strong>\n",
    "[\"MedianFinder\", \"addNum\", \"addNum\", \"findMedian\", \"addNum\", \"findMedian\"]\n",
    "[[], [1], [2], [], [3], []]\n",
    "<strong>Output</strong>\n",
    "[null, null, null, 1.5, null, 2.0]\n",
    "\n",
    "<strong>Explanation</strong>\n",
    "MedianFinder medianFinder = new MedianFinder();\n",
    "medianFinder.addNum(1);    // arr = [1]\n",
    "medianFinder.addNum(2);    // arr = [1, 2]\n",
    "medianFinder.findMedian(); // return 1.5 (i.e., (1 + 2) / 2)\n",
    "medianFinder.addNum(3);    // arr[1, 2, 3]\n",
    "medianFinder.findMedian(); // return 2.0\n",
    "</pre>\n",
    "\n",
    "**Constraints:**\n",
    "\n",
    "* `-10<sup>5</sup><span> </span><= num <= 10<sup>5</sup>`\n",
    "* There will be at least one element in the data structure before calling `findMedian`.\n",
    "* At most `5 * 10<sup>4</sup>` calls will be made to `addNum` and `findMedian`.\n",
    "\n",
    "**Follow up:**\n",
    "\n",
    "* If all integer numbers from the stream are in the range `[0, 100]`, how would you optimize your solution?\n",
    "* If `99%` of all integer numbers from the stream are in the range `[0, 100]`, how would you optimize your solution?\n"
   ]
  },
  {
   "cell_type": "markdown",
   "metadata": {},
   "source": [
    "## 풀이\n",
    "\n",
    "- sorting\n",
    "\n",
    "이 문제는 값을 추가하고 추가한 값들의 중간값을 출력하도록 메소드를 구현한다.\n",
    "\n",
    "다만, 나의 풀이는 정렬을 계속 진행하다보니 런타임이 높게 측정되었다."
   ]
  },
  {
   "cell_type": "code",
   "execution_count": 2,
   "metadata": {},
   "outputs": [
    {
     "data": {
      "text/plain": [
       "1.6"
      ]
     },
     "execution_count": 2,
     "metadata": {},
     "output_type": "execute_result"
    }
   ],
   "source": [
    "class MedianFinder:\n",
    "\n",
    "    def __init__(self):\n",
    "        self.nums = []\n",
    "        self.median = 0\n",
    "        self.prev_size = 0\n",
    "\n",
    "    def addNum(self, num: int) -> None:\n",
    "      self.nums.append(num)\n",
    "\n",
    "    def findMedian(self) -> float:\n",
    "      if len(self.nums) == self.prev_size:\n",
    "        return self.median\n",
    "      self.nums = sorted(self.nums)\n",
    "      mid = len(self.nums) // 2\n",
    "      if len(self.nums) % 2 == 1:\n",
    "        self.median = self.nums[mid]\n",
    "      else:\n",
    "        self.median = (self.nums[mid - 1] + self.nums[mid]) / 2\n",
    "      return round(self.median, 1)"
   ]
  },
  {
   "cell_type": "markdown",
   "metadata": {},
   "source": [
    "### Reference Code\n",
    "\n",
    "- Heap (Priority Queue)"
   ]
  },
  {
   "cell_type": "code",
   "execution_count": null,
   "metadata": {},
   "outputs": [],
   "source": [
    "from heapq import *\n",
    "\n",
    "class MedianFinder:\n",
    "\n",
    "    def __init__(self):\n",
    "        self.heaps = [], [] # small, large\n",
    "\n",
    "    def addNum(self, num):\n",
    "        small, large = self.heaps\n",
    "        heappush(small, -heappushpop(large, num))\n",
    "        if len(large) < len(small):\n",
    "            heappush(large, -heappop(small))\n",
    "\n",
    "    def findMedian(self):\n",
    "        small, large = self.heaps\n",
    "        if len(large) > len(small):\n",
    "            return float(large[0])\n",
    "        return (large[0] - small[0]) / 2.0\n",
    "\n",
    "'''\n",
    "input\n",
    "- [\"MedianFinder\",\"addNum\",\"addNum\",\"findMedian\",\"addNum\", \"addNum\",\"findMedian\"]\n",
    "- [[],[1],[2],[],[5],[3],[]]\n",
    "\n",
    "small = [-2, -1]\n",
    "large = [3, 5]\n",
    "'''"
   ]
  }
 ],
 "metadata": {
  "kernelspec": {
   "display_name": "Python 3.8.9 64-bit",
   "language": "python",
   "name": "python3"
  },
  "language_info": {
   "codemirror_mode": {
    "name": "ipython",
    "version": 3
   },
   "file_extension": ".py",
   "mimetype": "text/x-python",
   "name": "python",
   "nbconvert_exporter": "python",
   "pygments_lexer": "ipython3",
   "version": "3.8.9"
  },
  "orig_nbformat": 4,
  "vscode": {
   "interpreter": {
    "hash": "31f2aee4e71d21fbe5cf8b01ff0e069b9275f58929596ceb00d14d90e3e16cd6"
   }
  }
 },
 "nbformat": 4,
 "nbformat_minor": 2
}
