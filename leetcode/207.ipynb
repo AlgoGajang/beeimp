{
 "cells": [
  {
   "cell_type": "markdown",
   "metadata": {},
   "source": [
    "# [207. Course Schedule](https://leetcode.com/problems/course-schedule/)\n",
    "\n",
    "There are a total of `numCourses` courses you have to take, labeled from `0` to `numCourses - 1`. You are given an array `prerequisites` where `prerequisites[i] = [a<sub>i</sub>, b<sub>i</sub>]` indicates that you **must** take course `b<sub>i</sub>` first if you want to take course `a<sub>i</sub>`.\n",
    "\n",
    "* For example, the pair `[0, 1]`, indicates that to take course `0` you have to first take course `1`.\n",
    "\n",
    "Return `true` if you can finish all courses. Otherwise, return `false`.\n",
    "\n",
    "**Example 1:**\n",
    "\n",
    "<pre><strong>Input:</strong> numCourses = 2, prerequisites = [[1,0]]\n",
    "<strong>Output:</strong> true\n",
    "<strong>Explanation:</strong> There are a total of 2 courses to take. \n",
    "To take course 1 you should have finished course 0. So it is possible.\n",
    "</pre>\n",
    "\n",
    "**Example 2:**\n",
    "\n",
    "<pre><strong>Input:</strong> numCourses = 2, prerequisites = [[1,0],[0,1]]\n",
    "<strong>Output:</strong> false\n",
    "<strong>Explanation:</strong> There are a total of 2 courses to take. \n",
    "To take course 1 you should have finished course 0, and to take course 0 you should also have finished course 1. So it is impossible.\n",
    "</pre>\n",
    "\n",
    "**Constraints:**\n",
    "\n",
    "* `1 <= numCourses <= 2000`\n",
    "* `0 <= prerequisites.length <= 5000`\n",
    "* `prerequisites[i].length == 2`\n",
    "* `0 <= a<sub>i</sub>, b<sub>i</sub><span> </span>< numCourses`\n",
    "* All the pairs prerequisites[i] are **unique** .\n"
   ]
  },
  {
   "cell_type": "markdown",
   "metadata": {},
   "source": [
    "## 풀이\n",
    "\n",
    "- Graph\n",
    "- Depth-First Search"
   ]
  },
  {
   "cell_type": "code",
   "execution_count": null,
   "metadata": {},
   "outputs": [],
   "source": [
    "from typing import List\n",
    "\n",
    "class Solution:\n",
    "    def dfs(self, graph, visited, index):\n",
    "      if visited[index] == 1:\n",
    "        return False\n",
    "      elif visited[index] == 2:\n",
    "        return True\n",
    "\n",
    "      visited[index] += 1\n",
    "\n",
    "      for vertex in graph[index]:\n",
    "        if not self.dfs(graph, visited, vertex):\n",
    "          return False\n",
    "\n",
    "      visited[index] += 1\n",
    "      \n",
    "      return True\n",
    "\n",
    "    def canFinish(self, numCourses: int, prerequisites: List[List[int]]) -> bool:\n",
    "      answer = False\n",
    "      \n",
    "      graph = [[] for _ in range(numCourses)]\n",
    "      visited = [0 for _ in range(numCourses)]\n",
    "      \n",
    "      for prerequisite in prerequisites:\n",
    "        graph[prerequisite[0]].append(prerequisite[1])\n",
    "      \n",
    "      for index in range(numCourses):\n",
    "        if not self.dfs(graph, visited, index):\n",
    "          return answer\n",
    "      \n",
    "      answer = True\n",
    "      return answer"
   ]
  }
 ],
 "metadata": {
  "kernelspec": {
   "display_name": "Python 3.8.9 64-bit",
   "language": "python",
   "name": "python3"
  },
  "language_info": {
   "name": "python",
   "version": "3.8.9"
  },
  "orig_nbformat": 4,
  "vscode": {
   "interpreter": {
    "hash": "31f2aee4e71d21fbe5cf8b01ff0e069b9275f58929596ceb00d14d90e3e16cd6"
   }
  }
 },
 "nbformat": 4,
 "nbformat_minor": 2
}
