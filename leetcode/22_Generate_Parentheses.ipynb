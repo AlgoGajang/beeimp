{
 "cells": [
  {
   "cell_type": "markdown",
   "metadata": {},
   "source": [
    "# [22. Generate Parentheses](https://leetcode.com/problems/generate-parentheses/)\n",
    "\n",
    "## 문제\n",
    "\n",
    "Given `n` pairs of parentheses, write a function to *generate all combinations of well-formed parentheses* .\n",
    "\n",
    "**Example 1:**\n",
    "\n",
    "<pre><strong>Input:</strong> n = 3\n",
    "<strong>Output:</strong> [\"((()))\",\"(()())\",\"(())()\",\"()(())\",\"()()()\"]\n",
    "</pre>\n",
    "\n",
    "**Example 2:**\n",
    "\n",
    "<pre><strong>Input:</strong> n = 1\n",
    "<strong>Output:</strong> [\"()\"]\n",
    "</pre>\n",
    "\n",
    "**Constraints:**\n",
    "\n",
    "* `1 <= n <= 8`\n"
   ]
  },
  {
   "cell_type": "markdown",
   "metadata": {},
   "source": [
    "## 풀이\n",
    "\n",
    "- String\n",
    "- Backtracking\n",
    "\n",
    "이 문제는 입력값 n에 대하여 나올 수 있는 열고 닫는 괄호의 문자열을 배열로 반환해야 한다."
   ]
  },
  {
   "cell_type": "code",
   "execution_count": null,
   "metadata": {},
   "outputs": [],
   "source": [
    "class Solution:\n",
    "    def generateParenthesis(self, n: int) -> List[str]:\n",
    "        answer = []\n",
    "        \n",
    "        stack = [('', n, n)] # 문자열, 여는괄호 남은 개수, 닫는괄호 남은 개수\n",
    "        while stack:\n",
    "            string, opening, closing = stack.pop()\n",
    "            \n",
    "            # 여는괄호와 닫는괄호가 남아있지 않다면 정답에 추가\n",
    "            if opening == 0 and closing == 0:\n",
    "                answer.append(string)\n",
    "                continue\n",
    "            \n",
    "            # 여는괄호가 남아있다면 여는괄호를 스택에 추가\n",
    "            if 0 < opening:\n",
    "                stack.append((string + '(', opening - 1, closing))\n",
    "\n",
    "            # 닫는괄호가 여는괄호보다 많이 남아있다면 스택에 추가\n",
    "            if opening < closing:\n",
    "                stack.append((string + ')', opening, closing - 1))\n",
    "                \n",
    "        return answer"
   ]
  },
  {
   "cell_type": "markdown",
   "metadata": {},
   "source": [
    "### Reference Code\n",
    "\n",
    "- DP"
   ]
  },
  {
   "cell_type": "code",
   "execution_count": null,
   "metadata": {},
   "outputs": [],
   "source": [
    "class Solution:\n",
    "    def generateParenthesis(self, n: int) -> List[str]:\n",
    "        dp = [[] for i in range(n + 1)]\n",
    "        dp[0].append('')\n",
    "        for i in range(n + 1):\n",
    "            for j in range(i):\n",
    "                dp[i] += ['(' + x + ')' + y for x in dp[j] for y in dp[i - j - 1]]\n",
    "        return dp[n]"
   ]
  },
  {
   "cell_type": "markdown",
   "metadata": {},
   "source": [
    "## 결과\n",
    "\n",
    "### My Code\n",
    "\n",
    "![](assets/20221102_101513_image.png)\n",
    "\n",
    "![](assets/20221102_101522_image.png)\n",
    "\n",
    "### Reference Code\n",
    "\n",
    "![](assets/20221102_101659_image.png)\n",
    "\n",
    "![](assets/20221102_101726_image.png)\n"
   ]
  }
 ],
 "metadata": {
  "kernelspec": {
   "display_name": "Python 3.10.7 64-bit",
   "language": "python",
   "name": "python3"
  },
  "language_info": {
   "name": "python",
   "version": "3.10.7"
  },
  "orig_nbformat": 4,
  "vscode": {
   "interpreter": {
    "hash": "aee8b7b246df8f9039afb4144a1f6fd8d2ca17a180786b69acc140d282b71a49"
   }
  }
 },
 "nbformat": 4,
 "nbformat_minor": 2
}
