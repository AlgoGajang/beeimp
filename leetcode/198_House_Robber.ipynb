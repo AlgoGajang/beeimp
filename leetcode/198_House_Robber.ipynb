{
 "cells": [
  {
   "cell_type": "markdown",
   "metadata": {},
   "source": [
    "# [198. House Robber](https://leetcode.com/problems/house-robber/)\n",
    "\n",
    "## 문제\n",
    "\n",
    "You are a professional robber planning to rob houses along a street. Each house has a certain amount of money stashed, the only constraint stopping you from robbing each of them is that adjacent houses have security systems connected and **it will automatically contact the police if two adjacent houses were broken into on the same night** .\n",
    "\n",
    "Given an integer array `nums` representing the amount of money of each house, return *the maximum amount of money you can rob tonight **without alerting the police*** .\n",
    "\n",
    "**Example 1:**\n",
    "\n",
    "<pre><strong>Input:</strong> nums = [1,2,3,1]\n",
    "<strong>Output:</strong> 4\n",
    "<strong>Explanation:</strong> Rob house 1 (money = 1) and then rob house 3 (money = 3).\n",
    "Total amount you can rob = 1 + 3 = 4.\n",
    "</pre>\n",
    "\n",
    "**Example 2:**\n",
    "\n",
    "<pre><strong>Input:</strong> nums = [2,7,9,3,1]\n",
    "<strong>Output:</strong> 12\n",
    "<strong>Explanation:</strong> Rob house 1 (money = 2), rob house 3 (money = 9) and rob house 5 (money = 1).\n",
    "Total amount you can rob = 2 + 9 + 1 = 12.\n",
    "</pre>\n",
    "\n",
    "**Constraints:**\n",
    "\n",
    "* `1 <= nums.length <= 100`\n",
    "* `0 <= nums[i] <= 400`\n"
   ]
  },
  {
   "cell_type": "markdown",
   "metadata": {},
   "source": [
    "## 풀이\n",
    "\n",
    "- Array\n",
    "- DP\n",
    "\n",
    "이 문제는 배열에서 붙어 있는 요소가 아닌 숫자의 최대 합을 구해야 한다.\n",
    "\n",
    "예를 들어, [5, 1, 2, 10]에서 인접한 요소가 아닌 최대합은 5 + 10 = 15 가 된다.\n",
    "\n",
    "1. 배열의 1번째 요소는 그대로 dp에서 저장한다.\n",
    "2. 배열의 2번째 요소에서는 첫 번재 요소와 비교하여 큰 숫자인 5를 dp에 저장한다.\n",
    "3. 배열의 3번째 요소에서는 5 + 2와 5을 비교하여 더 큰 합을 dp에 저장한다.\n",
    "4. 배열의 4번재 요소에서는 7과 5+10을 비교하여 더 큰 합을 dp에 저장한다.\n",
    "5. 최종적으로 dp의 마지막 요소를 반환한다.\n",
    "\n",
    "따라서 점화식은 다음과 같다.\n",
    "\n",
    "dp[n] = max(dp[n - 1], dp[n - 2] + nums[n])\n",
    "\n"
   ]
  },
  {
   "cell_type": "code",
   "execution_count": null,
   "metadata": {},
   "outputs": [],
   "source": [
    "class Solution:\n",
    "    def rob(self, nums: List[int]) -> int:\n",
    "        if len(nums) <= 2:\n",
    "            return max(nums)\n",
    "        dp = [0] * len(nums)\n",
    "        dp[0], dp[1] = nums[0], max(nums[0], nums[1])\n",
    "        for i in range(2, len(nums)):\n",
    "            dp[i] = max(nums[i] + dp[i-2], dp[i-1])\n",
    "        return dp[-1]\n"
   ]
  },
  {
   "cell_type": "markdown",
   "metadata": {},
   "source": [
    "### Reference Code"
   ]
  },
  {
   "cell_type": "code",
   "execution_count": null,
   "metadata": {},
   "outputs": [],
   "source": [
    "class Solution:\n",
    "    def rob(self, nums: List[int]) -> int:\n",
    "        last, now = 0, 0\n",
    "        for num in nums:\n",
    "            last, now = now, max(last + num, now)\n",
    "        return now\n"
   ]
  },
  {
   "cell_type": "markdown",
   "metadata": {},
   "source": [
    "## 결과\n",
    "\n",
    "- 결과는 거의 비슷했지만, 나의 코드가 특정 조건에서 빨랐다.\n",
    "\n",
    "### My Code\n",
    "\n",
    "![](assets/20221020_100401_image.png)\n",
    "\n",
    "### Reference Code\n",
    "\n",
    "![](assets/20221020_100414_image.png)\n"
   ]
  }
 ],
 "metadata": {
  "kernelspec": {
   "display_name": "Python 3.10.7 64-bit",
   "language": "python",
   "name": "python3"
  },
  "language_info": {
   "name": "python",
   "version": "3.10.7"
  },
  "orig_nbformat": 4,
  "vscode": {
   "interpreter": {
    "hash": "aee8b7b246df8f9039afb4144a1f6fd8d2ca17a180786b69acc140d282b71a49"
   }
  }
 },
 "nbformat": 4,
 "nbformat_minor": 2
}
