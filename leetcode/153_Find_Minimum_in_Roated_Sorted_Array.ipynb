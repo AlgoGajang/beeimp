{
 "cells": [
  {
   "cell_type": "markdown",
   "metadata": {},
   "source": [
    "# [153. Find Minimum in Rotated Sorted Array](https://leetcode.com/problems/find-minimum-in-rotated-sorted-array/)\n",
    "\n",
    "## 문제\n",
    "\n",
    "Suppose an array of length `n` sorted in ascending order is **rotated** between `1` and `n` times. For example, the array `nums = [0,1,2,4,5,6,7]` might become:\n",
    "\n",
    "* `[4,5,6,7,0,1,2]` if it was rotated `4` times.\n",
    "* `[0,1,2,4,5,6,7]` if it was rotated `7` times.\n",
    "\n",
    "Notice that **rotating** an array `[a[0], a[1], a[2], ..., a[n-1]]` 1 time results in the array `[a[n-1], a[0], a[1], a[2], ..., a[n-2]]`.\n",
    "\n",
    "Given the sorted rotated array `nums` of **unique** elements, return *the minimum element of this array* .\n",
    "\n",
    "You must write an algorithm that runs in `O(log n) time.`\n",
    "\n",
    "**Example 1:**\n",
    "\n",
    "<pre><strong>Input:</strong> nums = [3,4,5,1,2]\n",
    "<strong>Output:</strong> 1\n",
    "<strong>Explanation:</strong> The original array was [1,2,3,4,5] rotated 3 times.\n",
    "</pre>\n",
    "\n",
    "**Example 2:**\n",
    "\n",
    "<pre><strong>Input:</strong> nums = [4,5,6,7,0,1,2]\n",
    "<strong>Output:</strong> 0\n",
    "<strong>Explanation:</strong> The original array was [0,1,2,4,5,6,7] and it was rotated 4 times.\n",
    "</pre>\n",
    "\n",
    "**Example 3:**\n",
    "\n",
    "<pre><strong>Input:</strong> nums = [11,13,15,17]\n",
    "<strong>Output:</strong> 11\n",
    "<strong>Explanation:</strong> The original array was [11,13,15,17] and it was rotated 4 times. \n",
    "</pre>\n",
    "\n",
    "**Constraints:**\n",
    "\n",
    "* `n == nums.length`\n",
    "* `1 <= n <= 5000`\n",
    "* `-5000 <= nums[i] <= 5000`\n",
    "* All the integers of `nums` are **unique** .\n",
    "* `nums` is sorted and rotated between `1` and `n` times.\n"
   ]
  },
  {
   "cell_type": "markdown",
   "metadata": {},
   "source": [
    "## 풀이\n",
    "\n",
    "- Array\n",
    "- Binary Search\n",
    "\n",
    "이 문제는 정렬된 배열에서 가장 작은 값을 찾아야 한다. 그러나, 로테이션으로 정렬의 시작이 배열의 첫번째가 아닐 수 있다.\n",
    "\n",
    "처음부터 끝까지 찾게 되면 시간 복잡도는 O(n)이 걸린다.\n",
    "\n",
    "더 효율적으로 정렬된 배열에서 O(log2 N)이 걸릴 수 있도록 이분 탐색으로 문제를 해결했다."
   ]
  },
  {
   "cell_type": "code",
   "execution_count": null,
   "metadata": {},
   "outputs": [],
   "source": [
    "class Solution:\n",
    "    def findMin(self, nums: List[int]) -> int:\n",
    "        left, right = 0, len(nums) - 1\n",
    "        \n",
    "        while left < right:\n",
    "            mid = (left + right) // 2\n",
    "            \n",
    "            if nums[right] < nums[mid]:\n",
    "                left = mid + 1\n",
    "            else:\n",
    "                right = mid\n",
    "        \n",
    "        return nums[left]"
   ]
  },
  {
   "cell_type": "markdown",
   "metadata": {},
   "source": [
    "## 결과\n",
    "\n",
    "![](assets/20221025_174911_image.png)\n"
   ]
  }
 ],
 "metadata": {
  "kernelspec": {
   "display_name": "Python 3.10.7 64-bit",
   "language": "python",
   "name": "python3"
  },
  "language_info": {
   "name": "python",
   "version": "3.10.7"
  },
  "orig_nbformat": 4,
  "vscode": {
   "interpreter": {
    "hash": "aee8b7b246df8f9039afb4144a1f6fd8d2ca17a180786b69acc140d282b71a49"
   }
  }
 },
 "nbformat": 4,
 "nbformat_minor": 2
}
