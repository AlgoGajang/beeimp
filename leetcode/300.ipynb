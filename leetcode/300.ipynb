{
 "cells": [
  {
   "cell_type": "markdown",
   "metadata": {},
   "source": [
    "# [300. Longest Increasing Subsequence](https://leetcode.com/problems/longest-increasing-subsequence/)\n",
    "\n",
    "Given an integer array nums, return the length of the longest strictly increasing subsequence.\n",
    "\n",
    "A subsequence is a sequence that can be derived from an array by deleting some or no elements without changing the order of the remaining elements. For example, [3,6,2,7] is a subsequence of the array [0,3,1,6,2,2,7].\n",
    "\n",
    "## Example 1:\n",
    "\n",
    "```\n",
    "Input: nums = [10,9,2,5,3,7,101,18]\n",
    "Output: 4\n",
    "Explanation: The longest increasing subsequence is [2,3,7,101], therefore the length is 4.\n",
    "```\n",
    "\n",
    "## Example 2:\n",
    "\n",
    "```\n",
    "Input: nums = [0,1,0,3,2,3]\n",
    "Output: 4\n",
    "```\n",
    "\n",
    "## Example 3:\n",
    "\n",
    "```\n",
    "Input: nums = [7,7,7,7,7,7,7]\n",
    "Output: 1\n",
    "```\n",
    "\n",
    "## Constraints:\n",
    "\n",
    "- `1 <= nums.length <= 2500`\n",
    "- `-104 <= nums[i] <= 104`\n",
    "\n",
    "\n",
    "Follow up: Can you come up with an algorithm that runs in `O(n log(n))` time complexity?\n"
   ]
  },
  {
   "cell_type": "markdown",
   "metadata": {},
   "source": [
    "## 풀이\n",
    "\n",
    "- Dynamic Programming\n",
    "- Binary Search\n",
    "\n",
    "dp 배열을 정렬하고, 정렬된 배열에서 `O(log n)`의 시간복잡도를 가지는 이분 탐색으로 `O(n log n)` 만족"
   ]
  },
  {
   "cell_type": "code",
   "execution_count": 1,
   "metadata": {},
   "outputs": [],
   "source": [
    "from typing import List\n",
    "\n",
    "class Solution:\n",
    "    def lengthOfLIS(self, nums: List[int]) -> int:\n",
    "        dp = [nums[0]]\n",
    "        for num in nums:\n",
    "            first,end, mid = 0, len(dp) - 1, 0\n",
    "            while True:\n",
    "                mid = (first + end) // 2\n",
    "                if first > end:\n",
    "                    mid = first\n",
    "                    break\n",
    "                    \n",
    "                if dp[mid] < num:\n",
    "                    first = mid + 1\n",
    "                else:\n",
    "                    end = mid - 1\n",
    "                    \n",
    "            if mid == len(dp):\n",
    "                dp.append(num)\n",
    "            else:\n",
    "                dp[mid] = num\n",
    "        \n",
    "        return len(dp)"
   ]
  },
  {
   "cell_type": "markdown",
   "metadata": {},
   "source": [
    "계속 제일 작은값?\n",
    "최솟값?\n",
    "\n",
    "자리 찾기\n"
   ]
  }
 ],
 "metadata": {
  "kernelspec": {
   "display_name": "Python 3.8.9 64-bit",
   "language": "python",
   "name": "python3"
  },
  "language_info": {
   "codemirror_mode": {
    "name": "ipython",
    "version": 3
   },
   "file_extension": ".py",
   "mimetype": "text/x-python",
   "name": "python",
   "nbconvert_exporter": "python",
   "pygments_lexer": "ipython3",
   "version": "3.8.9"
  },
  "orig_nbformat": 4,
  "vscode": {
   "interpreter": {
    "hash": "31f2aee4e71d21fbe5cf8b01ff0e069b9275f58929596ceb00d14d90e3e16cd6"
   }
  }
 },
 "nbformat": 4,
 "nbformat_minor": 2
}
