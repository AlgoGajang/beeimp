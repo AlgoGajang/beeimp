{
 "cells": [
  {
   "cell_type": "markdown",
   "metadata": {},
   "source": [
    "# [55. Jump Game](https://leetcode.com/problems/jump-game/)\n",
    "\n",
    "## 문제\n",
    "\n",
    "You are given an integer array `nums`. You are initially positioned at the array's **first index** , and each element in the array represents your maximum jump length at that position.\n",
    "\n",
    "Return `true`* if you can reach the last index, or * `false`* otherwise* .\n",
    "\n",
    "**Example 1:**\n",
    "\n",
    "<pre><strong>Input:</strong> nums = [2,3,1,1,4]\n",
    "<strong>Output:</strong> true\n",
    "<strong>Explanation:</strong> Jump 1 step from index 0 to 1, then 3 steps to the last index.\n",
    "</pre>\n",
    "\n",
    "**Example 2:**\n",
    "\n",
    "<pre><strong>Input:</strong> nums = [3,2,1,0,4]\n",
    "<strong>Output:</strong> false\n",
    "<strong>Explanation:</strong> You will always arrive at index 3 no matter what. Its maximum jump length is 0, which makes it impossible to reach the last index.\n",
    "</pre>\n",
    "\n",
    "**Constraints:**\n",
    "\n",
    "* `1 <= nums.length <= 10<sup>4</sup>`\n",
    "* `0 <= nums[i] <= 10<sup>5</sup>`\n"
   ]
  },
  {
   "cell_type": "markdown",
   "metadata": {},
   "source": [
    "## 풀이\n",
    "\n",
    "- Array\n",
    "- Greedy\n",
    "\n",
    "이 문제는 배열 안의 요소만큼 인덱스를 점프하여 마지막 인덱스까지 도달하지는지 확인해야 한다.\n",
    "\n",
    "배열의 요소를 하나씩 확인하면서 최대 점프 거리를 구한다.\n",
    "\n",
    "최대 점프 거리가 마지막 인덱스보다 크거나 같으면 True를 반환한다."
   ]
  },
  {
   "cell_type": "code",
   "execution_count": null,
   "metadata": {},
   "outputs": [],
   "source": [
    "class Solution:\n",
    "    def canJump(self, nums: List[int]) -> bool:\n",
    "        l = len(nums)\n",
    "        max_dest = pos = 0\n",
    "        # 현재 위치가 최대 점프거리 안에 있고, 최대 점프 거리는 배열의 크기보다 작을 때 반복\n",
    "        while pos <= max_dest and max_dest < l:\n",
    "            max_dest = max(max_dest, pos + nums[pos])\n",
    "            pos += 1\n",
    "        return l - 1 <= max_dest\n",
    "        "
   ]
  },
  {
   "cell_type": "markdown",
   "metadata": {},
   "source": [
    "## 결과\n",
    "\n",
    "![](assets/20221101_105234_image.png)\n",
    "\n",
    "![](assets/20221101_105227_image.png)\n"
   ]
  }
 ],
 "metadata": {
  "kernelspec": {
   "display_name": "Python 3.10.7 64-bit",
   "language": "python",
   "name": "python3"
  },
  "language_info": {
   "name": "python",
   "version": "3.10.7"
  },
  "orig_nbformat": 4,
  "vscode": {
   "interpreter": {
    "hash": "aee8b7b246df8f9039afb4144a1f6fd8d2ca17a180786b69acc140d282b71a49"
   }
  }
 },
 "nbformat": 4,
 "nbformat_minor": 2
}
