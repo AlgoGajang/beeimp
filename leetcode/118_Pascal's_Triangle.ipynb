{
 "cells": [
  {
   "cell_type": "markdown",
   "metadata": {},
   "source": [
    "# [118. Pascal's Triangle](https://leetcode.com/problems/pascals-triangle/description/)\n",
    "\n",
    "## 문제\n",
    "\n",
    "Given an integer `numRows`, return the first numRows of **Pascal's triangle** .\n",
    "\n",
    "In **Pascal's triangle** , each number is the sum of the two numbers directly above it as shown:\n",
    "\n",
    "![](https://upload.wikimedia.org/wikipedia/commons/0/0d/PascalTriangleAnimated2.gif)\n",
    "\n",
    "**Example 1:**\n",
    "\n",
    "<pre><strong>Input:</strong> numRows = 5\n",
    "<strong>Output:</strong> [[1],[1,1],[1,2,1],[1,3,3,1],[1,4,6,4,1]]\n",
    "</pre>\n",
    "\n",
    "**Example 2:**\n",
    "\n",
    "<pre><strong>Input:</strong> numRows = 1\n",
    "<strong>Output:</strong> [[1]]\n",
    "</pre>\n",
    "\n",
    "**Constraints:**\n",
    "\n",
    "* `1 <= numRows <= 30`\n"
   ]
  },
  {
   "cell_type": "markdown",
   "metadata": {},
   "source": [
    "## 풀이\n",
    "\n",
    "- Array\n",
    "- DP\n",
    "\n",
    "이 문제는 그림과 같이 전체 배열을 반환해야 한다."
   ]
  },
  {
   "cell_type": "code",
   "execution_count": null,
   "metadata": {},
   "outputs": [],
   "source": [
    "class Solution:\n",
    "    def generate(self, numRows: int) -> List[List[int]]:\n",
    "        answer = [[1]]\n",
    "\n",
    "        for i in range(1, numRows):\n",
    "            answer.append([1])\n",
    "            for j in range(1, i):\n",
    "                answer[i].append(answer[i - 1][j - 1] + answer[i - 1][j])\n",
    "            answer[i].append(1)\n",
    "        return answer"
   ]
  },
  {
   "cell_type": "markdown",
   "metadata": {},
   "source": [
    "## 결과\n",
    "\n",
    "![](assets/20221109_211511_image.png)\n"
   ]
  }
 ],
 "metadata": {
  "kernelspec": {
   "display_name": "Python 3.10.7 64-bit",
   "language": "python",
   "name": "python3"
  },
  "language_info": {
   "name": "python",
   "version": "3.10.7"
  },
  "orig_nbformat": 4,
  "vscode": {
   "interpreter": {
    "hash": "aee8b7b246df8f9039afb4144a1f6fd8d2ca17a180786b69acc140d282b71a49"
   }
  }
 },
 "nbformat": 4,
 "nbformat_minor": 2
}
