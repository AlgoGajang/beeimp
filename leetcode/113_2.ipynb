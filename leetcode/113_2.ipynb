{
 "cells": [
  {
   "cell_type": "markdown",
   "metadata": {},
   "source": [
    "# [113. Path Sum II](https://leetcode.com/problems/path-sum-ii/)\n",
    "\n",
    "Given the `root` of a binary tree and an integer `targetSum`, return *all **root-to-leaf** paths where the sum of the node values in the path equals * `targetSum`*. Each path should be returned as a list of the node **values** , not node references* .\n",
    "\n",
    "A **root-to-leaf** path is a path starting from the root and ending at any leaf node. A **leaf** is a node with no children.\n",
    "\n",
    "**Example 1:**\n",
    "\n",
    "![](https://assets.leetcode.com/uploads/2021/01/18/pathsumii1.jpg)\n",
    "\n",
    "<pre><strong>Input:</strong> root = [5,4,8,11,null,13,4,7,2,null,null,5,1], targetSum = 22\n",
    "<strong>Output:</strong> [[5,4,11,2],[5,8,4,5]]\n",
    "<strong>Explanation:</strong> There are two paths whose sum equals targetSum:\n",
    "5 + 4 + 11 + 2 = 22\n",
    "5 + 8 + 4 + 5 = 22\n",
    "</pre>\n",
    "\n",
    "**Example 2:**\n",
    "\n",
    "![](https://assets.leetcode.com/uploads/2021/01/18/pathsum2.jpg)\n",
    "\n",
    "<pre><strong>Input:</strong> root = [1,2,3], targetSum = 5\n",
    "<strong>Output:</strong> []\n",
    "</pre>\n",
    "\n",
    "**Example 3:**\n",
    "\n",
    "<pre><strong>Input:</strong> root = [1,2], targetSum = 0\n",
    "<strong>Output:</strong> []\n",
    "</pre>\n",
    "\n",
    "**Constraints:**\n",
    "\n",
    "* The number of nodes in the tree is in the range `[0, 5000]`.\n",
    "* `-1000 <= Node.val <= 1000`\n",
    "* `-1000 <= targetSum <= 1000`\n"
   ]
  },
  {
   "cell_type": "markdown",
   "metadata": {},
   "source": [
    "## 풀이\n",
    "\n",
    "- Tree\n",
    "- BFS\n",
    "\n",
    "이 문제는 입력값으로 주어진 트리가 끝까지 도달했을 때, 거쳐간 노드들의 합과 입력으로 주어진 목표합과 같은 노드들의 배열을 반환해야 했다.\n",
    "\n",
    "풀이는 주석으로 대체한다."
   ]
  },
  {
   "cell_type": "code",
   "execution_count": null,
   "metadata": {},
   "outputs": [],
   "source": [
    "from collections import deque\n",
    "from typing import *\n",
    "\n",
    "# Definition for a binary tree node.\n",
    "class TreeNode:\n",
    "    def __init__(self, val=0, left=None, right=None):\n",
    "        self.val = val\n",
    "        self.left = left\n",
    "        self.right = right\n",
    "class Solution:\n",
    "    def pathSum(self, root: Optional[TreeNode], targetSum: int) -> List[List[int]]:\n",
    "        answer = []\n",
    "\n",
    "        if not root:\n",
    "          return answer\n",
    "\n",
    "        q = deque()\n",
    "        q.append((0, [], root)) # (총합, 거쳐간 노드들, 트리)\n",
    "\n",
    "        while q:\n",
    "          total, nodes, tree = q.popleft()\n",
    "          nodes = nodes[:] # 깊은 복사\n",
    "          total += tree.val\n",
    "          nodes.append(tree.val)\n",
    "\n",
    "          # 트리의 끝에 도달했고, 총합이 목표합과 같다면\n",
    "          if not tree.left and not tree.right and total == targetSum:\n",
    "            answer.append(nodes)\n",
    "          # 트리 왼쪽에 자식 노드가 있다면\n",
    "          if tree.left:\n",
    "            q.append((total, nodes, tree.left))\n",
    "          # 트리 오른ㅉ고에 자식 노드가 있다면\n",
    "          if tree.right:\n",
    "            q.append((total, nodes, tree.right))\n",
    "\n",
    "        return answer"
   ]
  },
  {
   "cell_type": "markdown",
   "metadata": {},
   "source": []
  }
 ],
 "metadata": {
  "kernelspec": {
   "display_name": "Python 3.8.9 64-bit",
   "language": "python",
   "name": "python3"
  },
  "language_info": {
   "name": "python",
   "version": "3.8.9"
  },
  "orig_nbformat": 4,
  "vscode": {
   "interpreter": {
    "hash": "31f2aee4e71d21fbe5cf8b01ff0e069b9275f58929596ceb00d14d90e3e16cd6"
   }
  }
 },
 "nbformat": 4,
 "nbformat_minor": 2
}
