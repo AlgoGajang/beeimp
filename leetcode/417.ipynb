{
 "cells": [
  {
   "cell_type": "markdown",
   "metadata": {},
   "source": [
    "# [417. Pacific Atlantic Water Flow](https://leetcode.com/problems/pacific-atlantic-water-flow/)\n",
    "\n",
    "There is an `m x n` rectangular island that borders both the **Pacific Ocean** and **Atlantic Ocean** . The **Pacific Ocean** touches the island's left and top edges, and the **Atlantic Ocean** touches the island's right and bottom edges.\n",
    "\n",
    "The island is partitioned into a grid of square cells. You are given an `m x n` integer matrix `heights` where `heights[r][c]` represents the **height above sea level** of the cell at coordinate `(r, c)`.\n",
    "\n",
    "The island receives a lot of rain, and the rain water can flow to neighboring cells directly north, south, east, and west if the neighboring cell's height is **less than or equal to** the current cell's height. Water can flow from any cell adjacent to an ocean into the ocean.\n",
    "\n",
    "Return *a **2D list** of grid coordinates * `result`* where * `result[i] = [r<sub>i</sub>, c<sub>i</sub>]`* denotes that rain water can flow from cell * `(r<sub>i</sub>, c<sub>i</sub>)`* to **both** the Pacific and Atlantic oceans* .\n",
    "\n",
    "**Example 1:**\n",
    "\n",
    "![](https://assets.leetcode.com/uploads/2021/06/08/waterflow-grid.jpg)\n",
    "\n",
    "<pre><strong>Input:</strong> heights = [[1,2,2,3,5],[3,2,3,4,4],[2,4,5,3,1],[6,7,1,4,5],[5,1,1,2,4]]\n",
    "<strong>Output:</strong> [[0,4],[1,3],[1,4],[2,2],[3,0],[3,1],[4,0]]\n",
    "<strong>Explanation:</strong> The following cells can flow to the Pacific and Atlantic oceans, as shown below:\n",
    "[0,4]: [0,4] -> Pacific Ocean \n",
    "       [0,4] -> Atlantic Ocean\n",
    "[1,3]: [1,3] -> [0,3] -> Pacific Ocean \n",
    "       [1,3] -> [1,4] -> Atlantic Ocean\n",
    "[1,4]: [1,4] -> [1,3] -> [0,3] -> Pacific Ocean \n",
    "       [1,4] -> Atlantic Ocean\n",
    "[2,2]: [2,2] -> [1,2] -> [0,2] -> Pacific Ocean \n",
    "       [2,2] -> [2,3] -> [2,4] -> Atlantic Ocean\n",
    "[3,0]: [3,0] -> Pacific Ocean \n",
    "       [3,0] -> [4,0] -> Atlantic Ocean\n",
    "[3,1]: [3,1] -> [3,0] -> Pacific Ocean \n",
    "       [3,1] -> [4,1] -> Atlantic Ocean\n",
    "[4,0]: [4,0] -> Pacific Ocean \n",
    "       [4,0] -> Atlantic Ocean\n",
    "Note that there are other possible paths for these cells to flow to the Pacific and Atlantic oceans.\n",
    "</pre>\n",
    "\n",
    "**Example 2:**\n",
    "\n",
    "<pre><strong>Input:</strong> heights = [[1]]\n",
    "<strong>Output:</strong> [[0,0]]\n",
    "<strong>Explanation:</strong> The water can flow from the only cell to the Pacific and Atlantic oceans.\n",
    "</pre>\n",
    "\n",
    "**Constraints:**\n",
    "\n",
    "* `m == heights.length`\n",
    "* `n == heights[r].length`\n",
    "* `1 <= m, n <= 200`\n",
    "* `0 <= heights[r][c] <= 10<sup>5</sup>`\n"
   ]
  },
  {
   "cell_type": "markdown",
   "metadata": {},
   "source": [
    "## 풀이\n",
    "\n",
    "- Array\n",
    "- Depth-First Search\n",
    "- Matrix\n",
    "\n",
    "이 문제는 두 해양을 구분하는 해발 고도가 가장 높은 부분을 배열로 반환해야 했다.\n",
    "\n",
    "먼저, 행렬의 가장자리부터 시작하여 두 해양에서 방문할 수 있는 부분을 DFS를 통해 찾는다.\n",
    "\n",
    "두 해양에서 방문한 부분을 AND 연산자를 통해 해발 고도가 가장 높은 부분을 찾아 반환한다."
   ]
  },
  {
   "cell_type": "code",
   "execution_count": 52,
   "metadata": {},
   "outputs": [],
   "source": [
    "from typing import List\n",
    "\n",
    "class Solution:\n",
    "    def pacificAtlantic(self, matrix: List[List[int]]) -> List[List[int]]:\n",
    "        if not matrix:\n",
    "            return []\n",
    "\n",
    "        p_visited, a_visited = set(), set()\n",
    "        M, N = len(matrix), len(matrix[0])\n",
    "\n",
    "        def traverse(y, x, visited):\n",
    "            if (y, x) in visited:\n",
    "                return\n",
    "            visited.add((y, x))\n",
    "            for dy, dx in [(0, 1), (0, -1), (1, 0), (-1, 0)]:\n",
    "                my, mx = y + dy, x + dx\n",
    "                if 0 <= my and my < M and 0 <= mx and mx < N:\n",
    "                    if matrix[y][x] <= matrix[my][mx]:\n",
    "                        traverse(my, mx, visited)\n",
    "\n",
    "        for y in range(M):\n",
    "            traverse(y, 0, p_visited)\n",
    "            traverse(y, N - 1, a_visited)\n",
    "\n",
    "        for x in range(1, N):\n",
    "            traverse(0, x, p_visited)\n",
    "            traverse(M - 1, x, a_visited)\n",
    "\n",
    "        return list(p_visited & a_visited)"
   ]
  },
  {
   "cell_type": "code",
   "execution_count": 53,
   "metadata": {},
   "outputs": [
    {
     "name": "stdout",
     "output_type": "stream",
     "text": [
      "input : [[1, 2, 2, 3, 5], [3, 2, 3, 4, 4], [2, 4, 1, 3, 1], [6, 7, 2, 4, 5], [5, 1, 1, 2, 4]]\n",
      "success! : [(0, 4), (1, 3), (1, 4), (3, 0), (3, 1), (4, 0)]\n",
      "\n",
      "input : [[1]]\n",
      "success! : [(0, 0)]\n",
      "\n",
      "input : [[1, 1], [1, 1], [1, 1]]\n",
      "success! : [(0, 0), (0, 1), (1, 0), (1, 1), (2, 0), (2, 1)]\n",
      "\n",
      "input : [[10, 10, 10], [10, 1, 10], [10, 10, 10]]\n",
      "success! : [(0, 0), (0, 1), (0, 2), (1, 0), (1, 2), (2, 0), (2, 1), (2, 2)]\n",
      "\n"
     ]
    }
   ],
   "source": [
    "heights_list = [\n",
    "    [[1, 2, 2, 3, 5], [3, 2, 3, 4, 4], [2, 4, 1, 3, 1],\n",
    "        [6, 7, 2, 4, 5], [5, 1, 1, 2, 4]],\n",
    "    [[1]],\n",
    "    [[1, 1], [1, 1], [1, 1]],\n",
    "    [[10, 10, 10], [10, 1, 10], [10, 10, 10]]\n",
    "]\n",
    "\n",
    "results_list = [\n",
    "    [[0, 4], [1, 3], [1, 4], [3, 0], [3, 1], [4, 0]],\n",
    "    [[0, 0]],\n",
    "    [[0, 0], [0, 1], [1, 0], [1, 1], [2, 0], [2, 1]],\n",
    "    [[0, 0], [0, 1], [0, 2], [1, 0], [1, 2], [2, 0], [2, 1], [2, 2]]\n",
    "]\n",
    "\n",
    "solution = Solution()\n",
    "for heights, results in zip(heights_list, results_list):\n",
    "    print('input :', heights)\n",
    "    answers = solution.pacificAtlantic(heights)\n",
    "    answers.sort()\n",
    "    is_success = True\n",
    "    for answer, result in zip(answers, results):\n",
    "        if list(answer) != result:\n",
    "            is_success = False\n",
    "            break\n",
    "    if is_success:\n",
    "        print('success! :', answers)\n",
    "    else:\n",
    "        print('Wrong Answer')\n",
    "        print('results :', results)\n",
    "        print('answer :', answers)\n",
    "    print()\n"
   ]
  }
 ],
 "metadata": {
  "kernelspec": {
   "display_name": "Python 3.8.9 64-bit",
   "language": "python",
   "name": "python3"
  },
  "language_info": {
   "codemirror_mode": {
    "name": "ipython",
    "version": 3
   },
   "file_extension": ".py",
   "mimetype": "text/x-python",
   "name": "python",
   "nbconvert_exporter": "python",
   "pygments_lexer": "ipython3",
   "version": "3.8.9"
  },
  "orig_nbformat": 4,
  "vscode": {
   "interpreter": {
    "hash": "31f2aee4e71d21fbe5cf8b01ff0e069b9275f58929596ceb00d14d90e3e16cd6"
   }
  }
 },
 "nbformat": 4,
 "nbformat_minor": 2
}
