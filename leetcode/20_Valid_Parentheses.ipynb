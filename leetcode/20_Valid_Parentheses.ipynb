{
 "cells": [
  {
   "cell_type": "markdown",
   "metadata": {},
   "source": [
    "# [20. Valid Parentheses](https://leetcode.com/problems/valid-parentheses/)\n",
    "\n",
    "## 문제\n",
    "\n",
    "Given a string `s` containing just the characters `'('`, `')'`, `'{'`, `'}'`, `'['` and `']'`, determine if the input string is valid.\n",
    "\n",
    "An input string is valid if:\n",
    "\n",
    "1. Open brackets must be closed by the same type of brackets.\n",
    "2. Open brackets must be closed in the correct order.\n",
    "3. Every close bracket has a corresponding open bracket of the same type.\n",
    "\n",
    "**Example 1:**\n",
    "\n",
    "<pre><strong>Input:</strong> s = \"()\"\n",
    "<strong>Output:</strong> true\n",
    "</pre>\n",
    "\n",
    "**Example 2:**\n",
    "\n",
    "<pre><strong>Input:</strong> s = \"()[]{}\"\n",
    "<strong>Output:</strong> true\n",
    "</pre>\n",
    "\n",
    "**Example 3:**\n",
    "\n",
    "<pre><strong>Input:</strong> s = \"(]\"\n",
    "<strong>Output:</strong> false\n",
    "</pre>\n",
    "\n",
    "**Constraints:**\n",
    "\n",
    "* `1 <= s.length <= 10<sup>4</sup>`\n",
    "* `s` consists of parentheses only `'()[]{}'`.\n"
   ]
  },
  {
   "cell_type": "markdown",
   "metadata": {},
   "source": [
    "## 풀이\n",
    "\n",
    "- String\n",
    "- Stack\n",
    "\n",
    "이 문제는 괄호가 정상적으로 열고 닫혔으닌 확인해야 한다.\n",
    "\n",
    "1. 열린 괄호는 같은 유형의 괄호로 닫아야 한다.\n",
    "2. 열린 브래킷은 올바른 순서로 닫아야 한다.\n",
    "3. 모든 폐쇄 브래킷에는 동일한 유형의 개방 브래킷이 있다."
   ]
  },
  {
   "cell_type": "code",
   "execution_count": null,
   "metadata": {},
   "outputs": [],
   "source": [
    "class Solution:\n",
    "    def isValid(self, s: str) -> bool:\n",
    "        contain = {'(': ')', '{': '}', '[': ']'}\n",
    "        stack = []\n",
    "        for char in s:\n",
    "            if char in contain:\n",
    "                stack.append(char)\n",
    "            else:\n",
    "                if stack == []:\n",
    "                    return False\n",
    "                c = stack.pop()\n",
    "                if contain[c] != char:\n",
    "                    return False\n",
    "        return stack == []"
   ]
  },
  {
   "cell_type": "markdown",
   "metadata": {},
   "source": [
    "## 결과\n",
    "\n",
    "![](assets/20221027_131821_image.png)\n",
    "\n",
    "![](assets/20221027_131834_image.png)\n"
   ]
  }
 ],
 "metadata": {
  "kernelspec": {
   "display_name": "Python 3.10.7 64-bit",
   "language": "python",
   "name": "python3"
  },
  "language_info": {
   "name": "python",
   "version": "3.10.7"
  },
  "orig_nbformat": 4,
  "vscode": {
   "interpreter": {
    "hash": "aee8b7b246df8f9039afb4144a1f6fd8d2ca17a180786b69acc140d282b71a49"
   }
  }
 },
 "nbformat": 4,
 "nbformat_minor": 2
}
