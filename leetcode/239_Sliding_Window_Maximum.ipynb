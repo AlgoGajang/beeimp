{
 "cells": [
  {
   "cell_type": "markdown",
   "metadata": {},
   "source": [
    "# [239. Sliding Window Maximum](https://leetcode.com/problems/sliding-window-maximum/)\n",
    "\n",
    "## 문제\n",
    "\n",
    "You are given an array of integers `nums`, there is a sliding window of size `k` which is moving from the very left of the array to the very right. You can only see the `k` numbers in the window. Each time the sliding window moves right by one position.\n",
    "\n",
    "Return *the max sliding window* .\n",
    "\n",
    "**Example 1:**\n",
    "\n",
    "<pre><strong>Input:</strong> nums = [1,3,-1,-3,5,3,6,7], k = 3\n",
    "<strong>Output:</strong> [3,3,5,5,6,7]\n",
    "<strong>Explanation:</strong> \n",
    "Window position                Max\n",
    "---------------               -----\n",
    "[1  3  -1] -3  5  3  6  7       <strong>3</strong>\n",
    " 1 [3  -1  -3] 5  3  6  7       <strong>3</strong>\n",
    " 1  3 [-1  -3  5] 3  6  7      <strong> 5</strong>\n",
    " 1  3  -1 [-3  5  3] 6  7       <strong>5</strong>\n",
    " 1  3  -1  -3 [5  3  6] 7       <strong>6</strong>\n",
    " 1  3  -1  -3  5 [3  6  7]      <strong>7</strong>\n",
    "</pre>\n",
    "\n",
    "**Example 2:**\n",
    "\n",
    "<pre><strong>Input:</strong> nums = [1], k = 1\n",
    "<strong>Output:</strong> [1]\n",
    "</pre>\n",
    "\n",
    "**Constraints:**\n",
    "\n",
    "* `1 <= nums.length <= 10<sup>5</sup>`\n",
    "* `-10<sup>4</sup><span> </span><= nums[i] <= 10<sup>4</sup>`\n",
    "* `1 <= k <= nums.length`\n"
   ]
  },
  {
   "cell_type": "markdown",
   "metadata": {},
   "source": [
    "## 풀이\n",
    "\n",
    "- Array\n",
    "- Dequeue\n",
    "- Indexing\n",
    "\n",
    "이 문제는 배열에서 K라는 구간을 오른쪽으로 1씩 이동하면서 구간의 최대값들을 배열로 반환해야 한다."
   ]
  },
  {
   "cell_type": "code",
   "execution_count": null,
   "metadata": {},
   "outputs": [],
   "source": [
    "from collections import deque\n",
    "class Solution:\n",
    "    def maxSlidingWindow(self, nums, k):\n",
    "        answer = []\n",
    "        bigger = deque()\n",
    "        for i, n in enumerate(nums):\n",
    "            # 작은 값 제거\n",
    "            while bigger and nums[bigger[-1]] <= n:\n",
    "                bigger.pop()\n",
    "  \n",
    "            # 현재 인덱스 추가\n",
    "            bigger.append(i)\n",
    "\n",
    "            # 왼쪽의 인덱스가 현재 인덱스보다 k이상 차이가 있다면, 첫번재 요소 제거\n",
    "            if bigger[0] <= i - k:\n",
    "                bigger.popleft()\n",
    "\n",
    "            # 인덱스 + 1이 k보다 크거가 같은경우 반환값 추가\n",
    "            if k <= i + 1:\n",
    "                answer.append(nums[bigger[0]])\n",
    "        return answer"
   ]
  },
  {
   "cell_type": "markdown",
   "metadata": {},
   "source": [
    "## 결과\n",
    "\n",
    "![](assets/20221028_122401_image.png)\n",
    "\n",
    "![](assets/20221028_122407_image.png)\n"
   ]
  }
 ],
 "metadata": {
  "kernelspec": {
   "display_name": "Python 3.10.7 64-bit",
   "language": "python",
   "name": "python3"
  },
  "language_info": {
   "name": "python",
   "version": "3.10.7"
  },
  "orig_nbformat": 4,
  "vscode": {
   "interpreter": {
    "hash": "aee8b7b246df8f9039afb4144a1f6fd8d2ca17a180786b69acc140d282b71a49"
   }
  }
 },
 "nbformat": 4,
 "nbformat_minor": 2
}
