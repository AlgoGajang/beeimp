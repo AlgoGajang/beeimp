{
 "cells": [
  {
   "cell_type": "markdown",
   "metadata": {},
   "source": [
    "# [91. Decode Ways](https://leetcode.com/problems/decode-ways/description/)\n",
    "\n",
    "## 문제\n",
    "\n",
    "A message containing letters from `A-Z` can be **encoded** into numbers using the following mapping:\n",
    "\n",
    "```\n",
    "'A' -> \"1\"\n",
    "'B' -> \"2\"\n",
    "...\n",
    "'Z' -> \"26\"\n",
    "```\n",
    "\n",
    "To **decode** an encoded message, all the digits must be grouped then mapped back into letters using the reverse of the mapping above (there may be multiple ways). For example, `\"11106\"` can be mapped into:\n",
    "\n",
    "* `\"AAJF\"` with the grouping `(1 1 10 6)`\n",
    "* `\"KJF\"` with the grouping `(11 10 6)`\n",
    "\n",
    "Note that the grouping `(1 11 06)` is invalid because `\"06\"` cannot be mapped into `'F'` since `\"6\"` is different from `\"06\"`.\n",
    "\n",
    "Given a string `s` containing only digits, return *the **number** of ways to **decode** it* .\n",
    "\n",
    "The test cases are generated so that the answer fits in a **32-bit** integer.\n",
    "\n",
    "**Example 1:**\n",
    "\n",
    "<pre><strong>Input:</strong> s = \"12\"\n",
    "<strong>Output:</strong> 2\n",
    "<strong>Explanation:</strong> \"12\" could be decoded as \"AB\" (1 2) or \"L\" (12).\n",
    "</pre>\n",
    "\n",
    "**Example 2:**\n",
    "\n",
    "<pre><strong>Input:</strong> s = \"226\"\n",
    "<strong>Output:</strong> 3\n",
    "<strong>Explanation:</strong> \"226\" could be decoded as \"BZ\" (2 26), \"VF\" (22 6), or \"BBF\" (2 2 6).\n",
    "</pre>\n",
    "\n",
    "**Example 3:**\n",
    "\n",
    "<pre><strong>Input:</strong> s = \"06\"\n",
    "<strong>Output:</strong> 0\n",
    "<strong>Explanation:</strong> \"06\" cannot be mapped to \"F\" because of the leading zero (\"6\" is different from \"06\").\n",
    "</pre>\n",
    "\n",
    "**Constraints:**\n",
    "\n",
    "* `1 <= s.length <= 100`\n",
    "* `s` contains only digits and may contain leading zero(s).\n"
   ]
  },
  {
   "cell_type": "markdown",
   "metadata": {},
   "source": [
    "## 풀이\n",
    "\n",
    "- String\n",
    "- DP\n",
    "\n",
    "이 문제는 A부터 숫자 1과 매칭되는 숫자가 문자열로 주어졌을 때, 만들 수 있는 알파벳 경우의 수를 구해야 한다."
   ]
  },
  {
   "cell_type": "code",
   "execution_count": null,
   "metadata": {},
   "outputs": [],
   "source": [
    "class Solution:\n",
    "    def numDecodings(self, s: str) -> int:\n",
    "        if not s:\n",
    "            return 0\n",
    "        dp = [0] * (len(s) + 1)\n",
    "        dp[0] = 1\n",
    "        \n",
    "        for i, c in enumerate(s):\n",
    "            if c != '0':\n",
    "                dp[i + 1] += dp[i]\n",
    "            if i > 0 and '10' <= s[i - 1 : i + 1] <= '26':\n",
    "                dp[i + 1] += dp[i - 1]\n",
    "        return dp[-1]"
   ]
  },
  {
   "cell_type": "markdown",
   "metadata": {},
   "source": [
    "### Reference Code"
   ]
  },
  {
   "cell_type": "code",
   "execution_count": null,
   "metadata": {},
   "outputs": [],
   "source": [
    "class Solution:\n",
    "    def numDecodings(self, s: str) -> int:\n",
    "        v, w, p = 0, int(s>''), ''\n",
    "        for c in s:\n",
    "            v, w, p = w, (c>'0')*w + (9<int(p+c)<27)*v, c\n",
    "        return w"
   ]
  },
  {
   "cell_type": "markdown",
   "metadata": {},
   "source": [
    "## 결과"
   ]
  },
  {
   "cell_type": "markdown",
   "metadata": {},
   "source": [
    "### My Code\n",
    "\n",
    "![](assets/20221104_145035_image.png)\n"
   ]
  },
  {
   "cell_type": "markdown",
   "metadata": {},
   "source": [
    "### Reference Code\n",
    "\n",
    "![](assets/20221104_145000_image.png)\n"
   ]
  }
 ],
 "metadata": {
  "kernelspec": {
   "display_name": "Python 3.10.7 64-bit",
   "language": "python",
   "name": "python3"
  },
  "language_info": {
   "name": "python",
   "version": "3.10.7"
  },
  "orig_nbformat": 4,
  "vscode": {
   "interpreter": {
    "hash": "aee8b7b246df8f9039afb4144a1f6fd8d2ca17a180786b69acc140d282b71a49"
   }
  }
 },
 "nbformat": 4,
 "nbformat_minor": 2
}
