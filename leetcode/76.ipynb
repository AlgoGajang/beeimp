{
 "cells": [
  {
   "cell_type": "markdown",
   "metadata": {},
   "source": [
    "# [76. Minimum Window Substring](https://leetcode.com/problems/minimum-window-substring/)\n",
    "\n",
    "Given two strings `s` and `t` of lengths `m` and `n` respectively, return *the **minimum window substring** of * `s`* such that every character in * `t`* (**including duplicates** ) is included in the window. If there is no such substring* *, return the empty string * `\"\"`*.*\n",
    "\n",
    "The testcases will be generated such that the answer is **unique** .\n",
    "\n",
    "A **substring** is a contiguous sequence of characters within the string.\n",
    "\n",
    "**Example 1:**\n",
    "\n",
    "<pre><strong>Input:</strong> s = \"ADOBECODEBANC\", t = \"ABC\"\n",
    "<strong>Output:</strong> \"BANC\"\n",
    "<strong>Explanation:</strong> The minimum window substring \"BANC\" includes 'A', 'B', and 'C' from string t.\n",
    "</pre>\n",
    "\n",
    "**Example 2:**\n",
    "\n",
    "<pre><strong>Input:</strong> s = \"a\", t = \"a\"\n",
    "<strong>Output:</strong> \"a\"\n",
    "<strong>Explanation:</strong> The entire string s is the minimum window.\n",
    "</pre>\n",
    "\n",
    "**Example 3:**\n",
    "\n",
    "<pre><strong>Input:</strong> s = \"a\", t = \"aa\"\n",
    "<strong>Output:</strong> \"\"\n",
    "<strong>Explanation:</strong> Both 'a's from t must be included in the window.\n",
    "Since the largest window of s only has one 'a', return empty string.\n",
    "</pre>\n",
    "\n",
    "**Constraints:**\n",
    "\n",
    "* `m == s.length`\n",
    "* `n == t.length`\n",
    "* `1 <= m, n <= 10<sup>5</sup>`\n",
    "* `s` and `t` consist of uppercase and lowercase English letters.\n",
    "\n",
    "**Follow up:** Could you find an algorithm that runs in `O(m + n)` time?\n"
   ]
  },
  {
   "cell_type": "markdown",
   "metadata": {},
   "source": [
    "## 풀이\n",
    "\n",
    "- String\n",
    "- Hash Table\n",
    "- Sliding Window\n",
    "\n",
    "이 문제는 입력값 s의 문자열에서 입력값 t의 문자열이 순서와 상관없이 포함된 가장 짧은 문자열을 반환해야 했다."
   ]
  },
  {
   "cell_type": "code",
   "execution_count": null,
   "metadata": {},
   "outputs": [],
   "source": [
    "import collections\n",
    "\n",
    "\n",
    "class Solution:\n",
    "    def minWindow(self, s: str, t: str) -> str:\n",
    "        # 필요한 문자 개수 해시 테이블\n",
    "        need_char = collections.Counter(t)\n",
    "        missing = len(t) # 필요한 개수\n",
    "\n",
    "        start, end = 0, 0 # 반환될 문자열의 시작과 끝\n",
    "        pos = 0 # 현재 위치\n",
    "\n",
    "        for index, char in enumerate(s, 1):\n",
    "          # 필요한 문자라면\n",
    "          if need_char[char] > 0:\n",
    "            missing -= 1 # 필요한 개수 -1\n",
    "          need_char[char] -= 1\n",
    "          \n",
    "          # 필요한 개수가 없다면\n",
    "          if missing == 0:\n",
    "            # Sliding Window\n",
    "            while pos < index and need_char[s[pos]] < 0:\n",
    "              need_char[s[pos]] += 1\n",
    "              pos += 1\n",
    "            \n",
    "            # end가 없거나 현재 구간이 더 짧다면\n",
    "            if end == 0 or index - pos <= end - start:\n",
    "              start, end = pos, index\n",
    "\n",
    "            # 현재 위치를 다음으로 이동 - 속도 향상\n",
    "            need_char[s[pos]] += 1\n",
    "            pos += 1\n",
    "            missing += 1\n",
    "        return s[start:end]"
   ]
  }
 ],
 "metadata": {
  "kernelspec": {
   "display_name": "Python 3.8.9 64-bit",
   "language": "python",
   "name": "python3"
  },
  "language_info": {
   "codemirror_mode": {
    "name": "ipython",
    "version": 3
   },
   "file_extension": ".py",
   "mimetype": "text/x-python",
   "name": "python",
   "nbconvert_exporter": "python",
   "pygments_lexer": "ipython3",
   "version": "3.8.9"
  },
  "orig_nbformat": 4,
  "vscode": {
   "interpreter": {
    "hash": "31f2aee4e71d21fbe5cf8b01ff0e069b9275f58929596ceb00d14d90e3e16cd6"
   }
  }
 },
 "nbformat": 4,
 "nbformat_minor": 2
}
