{
 "cells": [
  {
   "cell_type": "markdown",
   "metadata": {},
   "source": [
    "# [226. Invert Binary Tree](https://leetcode.com/problems/invert-binary-tree/)\n",
    "\n",
    "\n",
    "Given the `root` of a binary tree, invert the tree, and return *its root* .\n",
    "\n",
    "**Example 1:**\n",
    "\n",
    "![](https://assets.leetcode.com/uploads/2021/03/14/invert1-tree.jpg)\n",
    "\n",
    "<pre><strong>Input:</strong> root = [4,2,7,1,3,6,9]\n",
    "<strong>Output:</strong> [4,7,2,9,6,3,1]\n",
    "</pre>\n",
    "\n",
    "**Example 2:**\n",
    "\n",
    "![](https://assets.leetcode.com/uploads/2021/03/14/invert2-tree.jpg)\n",
    "\n",
    "<pre><strong>Input:</strong> root = [2,1,3]\n",
    "<strong>Output:</strong> [2,3,1]\n",
    "</pre>\n",
    "\n",
    "**Example 3:**\n",
    "\n",
    "<pre><strong>Input:</strong> root = []\n",
    "<strong>Output:</strong> []\n",
    "</pre>\n",
    "\n",
    "**Constraints:**\n",
    "\n",
    "* The number of nodes in the tree is in the range `[0, 100]`.\n",
    "* `-100 <= Node.val <= 100`\n"
   ]
  },
  {
   "cell_type": "markdown",
   "metadata": {},
   "source": [
    "## 풀이\n",
    "\n",
    "- Tree\n",
    "- Binary Tree\n",
    "\n",
    "이 문제는 이진 트리의 좌우를 바꿔서 트리를 반환해야 했다.\n",
    "\n",
    "Queue를 생성하여 좌우 주소를 바꿔주는 방법으로 문제를 풀었다."
   ]
  },
  {
   "cell_type": "code",
   "execution_count": null,
   "metadata": {},
   "outputs": [],
   "source": [
    "from collections import deque\n",
    "from typing import *\n",
    "\n",
    "# Definition for a binary tree node.\n",
    "class TreeNode:\n",
    "    def __init__(self, val=0, left=None, right=None):\n",
    "        self.val = val\n",
    "        self.left = left\n",
    "        self.right = right\n",
    "class Solution:\n",
    "    def invertTree(self, root: Optional[TreeNode]) -> Optional[TreeNode]:\n",
    "        q = deque()\n",
    "        q.append(root)\n",
    "        while q:\n",
    "            pos = q.popleft()\n",
    "            if not pos:\n",
    "                continue\n",
    "            \n",
    "            if pos.left != None and pos.right != None:\n",
    "                pos.left, pos.right = pos.right, pos.left\n",
    "                q.append(pos.left)\n",
    "                q.append(pos.right)\n",
    "            elif pos.left == None:\n",
    "                pos.left, pos.right = pos.right, None\n",
    "                q.append(pos.left)\n",
    "            elif pos.right == None:\n",
    "                pos.left, pos.right= None, pos.left\n",
    "                q.append(pos.right)\n",
    "\n",
    "        return root"
   ]
  },
  {
   "cell_type": "markdown",
   "metadata": {},
   "source": [
    "### Reference Code"
   ]
  },
  {
   "cell_type": "markdown",
   "metadata": {},
   "source": [
    "- 재귀로 푸는 방법"
   ]
  },
  {
   "cell_type": "code",
   "execution_count": null,
   "metadata": {},
   "outputs": [],
   "source": [
    "def invertTree(self, root):\n",
    "    if root:\n",
    "        root.left, root.right = self.invertTree(root.right), self.invertTree(root.left)\n",
    "        return root"
   ]
  }
 ],
 "metadata": {
  "kernelspec": {
   "display_name": "Python 3.8.9 64-bit",
   "language": "python",
   "name": "python3"
  },
  "language_info": {
   "name": "python",
   "version": "3.8.9"
  },
  "orig_nbformat": 4,
  "vscode": {
   "interpreter": {
    "hash": "31f2aee4e71d21fbe5cf8b01ff0e069b9275f58929596ceb00d14d90e3e16cd6"
   }
  }
 },
 "nbformat": 4,
 "nbformat_minor": 2
}
