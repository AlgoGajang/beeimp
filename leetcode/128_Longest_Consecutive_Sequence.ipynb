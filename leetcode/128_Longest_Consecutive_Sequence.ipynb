{
 "cells": [
  {
   "cell_type": "markdown",
   "metadata": {},
   "source": [
    "# [128. Longest Consecutive Sequence](https://leetcode.com/problems/longest-consecutive-sequence/)\n",
    "\n",
    "## 문제\n",
    "\n",
    "Given an unsorted array of integers `nums`, return *the length of the longest consecutive elements sequence.*\n",
    "\n",
    "You must write an algorithm that runs in `O(n)` time.\n",
    "\n",
    "**Example 1:**\n",
    "\n",
    "<pre><strong>Input:</strong> nums = [100,4,200,1,3,2]\n",
    "<strong>Output:</strong> 4\n",
    "<strong>Explanation:</strong> The longest consecutive elements sequence is <code>[1, 2, 3, 4]</code>. Therefore its length is 4.\n",
    "</pre>\n",
    "\n",
    "**Example 2:**\n",
    "\n",
    "<pre><strong>Input:</strong> nums = [0,3,7,2,5,8,4,6,0,1]\n",
    "<strong>Output:</strong> 9\n",
    "</pre>\n",
    "\n",
    "**Constraints:**\n",
    "\n",
    "* `0 <= nums.length <= 10<sup>5</sup>`\n",
    "* `-10<sup>9</sup><span> </span><= nums[i] <= 10<sup>9</sup>`\n"
   ]
  },
  {
   "cell_type": "markdown",
   "metadata": {},
   "source": [
    "## 풀이\n",
    "\n",
    "- Array\n",
    "- Sort\n",
    "\n",
    "이 문제는 정렬되지 않은 배열에서 1씩 증가하는 수의 최대 개수를 구해야 한다.\n",
    "\n",
    "1. 입력 배열을 정렬한다.\n",
    "2. 정렬된 배열에서 이전값과 비교하여 1이 증가했다면 개수를 1 증가한다.\n",
    "3. 이전값과 비교하여 값이 같다면 건너뛴다.\n",
    "4. 이외의 경우,\n",
    "     - 지금까지의 개수와 비교하여 최대값을 저장한다.\n",
    "     - count를 1로 초기화한다.\n",
    "5. 배열의 끝에 도달할 때까지 2번부터 반복한다.\n",
    "6. 최종적으로, 최대값을 반환한다."
   ]
  },
  {
   "cell_type": "code",
   "execution_count": null,
   "metadata": {},
   "outputs": [],
   "source": [
    "class Solution:\n",
    "    def longestConsecutive(self, nums: List[int]) -> int:\n",
    "        if not nums:\n",
    "            return 0\n",
    "        answer = 0\n",
    "        nums = sorted(nums)\n",
    "        prev = nums[0]\n",
    "        count = 1\n",
    "        for num in nums[1:]:\n",
    "            if prev + 1 == num:\n",
    "                count += 1\n",
    "            elif prev == num:\n",
    "                continue\n",
    "            else:\n",
    "                answer = max(answer, count)\n",
    "                count = 1\n",
    "            prev = num\n",
    "        return max(answer, count)"
   ]
  },
  {
   "cell_type": "markdown",
   "metadata": {},
   "source": [
    "## 결과\n",
    "\n",
    "### My Code\n",
    "\n",
    "![](assets/20221021_100543_image.png)\n"
   ]
  }
 ],
 "metadata": {
  "kernelspec": {
   "display_name": "Python 3.10.7 64-bit",
   "language": "python",
   "name": "python3"
  },
  "language_info": {
   "name": "python",
   "version": "3.10.7"
  },
  "orig_nbformat": 4,
  "vscode": {
   "interpreter": {
    "hash": "aee8b7b246df8f9039afb4144a1f6fd8d2ca17a180786b69acc140d282b71a49"
   }
  }
 },
 "nbformat": 4,
 "nbformat_minor": 2
}
