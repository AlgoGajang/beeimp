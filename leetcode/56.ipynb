{
 "cells": [
  {
   "cell_type": "markdown",
   "metadata": {},
   "source": [
    "# [56. Merge Intervals](https://leetcode.com/problems/merge-intervals/)\n",
    "\n",
    "Given an array of `intervals` where `intervals[i] = [start<sub>i</sub>, end<sub>i</sub>]`, merge all overlapping intervals, and return *an array of the non-overlapping intervals that cover all the intervals in the input* .\n",
    "\n",
    "**Example 1:**\n",
    "\n",
    "<pre><strong>Input:</strong> intervals = [[1,3],[2,6],[8,10],[15,18]]\n",
    "<strong>Output:</strong> [[1,6],[8,10],[15,18]]\n",
    "<strong>Explanation:</strong> Since intervals [1,3] and [2,6] overlap, merge them into [1,6].\n",
    "</pre>\n",
    "\n",
    "**Example 2:**\n",
    "\n",
    "<pre><strong>Input:</strong> intervals = [[1,4],[4,5]]\n",
    "<strong>Output:</strong> [[1,5]]\n",
    "<strong>Explanation:</strong> Intervals [1,4] and [4,5] are considered overlapping.\n",
    "</pre>\n",
    "\n",
    "**Constraints:**\n",
    "\n",
    "* `1 <= intervals.length <= 10<sup>4</sup>`\n",
    "* `intervals[i].length == 2`\n",
    "* `0 <= start<sub>i</sub><span> </span><= end<sub>i</sub><span> </span><= 10<sup>4</sup>`\n"
   ]
  },
  {
   "cell_type": "markdown",
   "metadata": {},
   "source": [
    "## 풀이\n",
    "\n",
    "- Array\n",
    "- Sorting\n",
    "\n",
    "이 문제는 구간을 정렬하고 압축하여 출력해야했다.\n",
    "\n",
    "먼저, 입력값인 구간들을 정렬한다. \n",
    "\n",
    "다음, 반복문을 통해 구간이 끝나는 값과 다음 구간이 시작하는 값을 비교한다.\n",
    "\n",
    "- if - 다음 구간이 시작하는 값이 구간이 끝나는 값보다 작은 경우 \n",
    "  - 최대값을 구간이 끝나는 값에 저장한다.\n",
    "- else - 다음 구간이 시작하는 값이 구간이 끝나는 값보다 같거나 클 경우\n",
    "  - 반환 배열에 append하고 구간이 시작하는 값과 끝나는 값을 현재 비교하는 구간의 값으로 수정한다.\n",
    "\n",
    "마지막으로 반복문이 끝났을 때, 반환 배열에 저장되지 않은 마지막 구간 입력값을 append한다.\n",
    "\n"
   ]
  },
  {
   "cell_type": "code",
   "execution_count": 5,
   "metadata": {},
   "outputs": [],
   "source": [
    "from typing import List\n",
    "\n",
    "class Solution:\n",
    "    def merge(self, intervals: List[List[int]]) -> List[List[int]]:\n",
    "      answer = []\n",
    "\n",
    "      intervals = sorted(intervals, key=lambda x: x[0])\n",
    "      \n",
    "      start, end = intervals[0]\n",
    "      for i in range(1, len(intervals)):\n",
    "        if intervals[i][0] <= end:\n",
    "          end = max(intervals[i][1], end)\n",
    "        else:\n",
    "          answer.append([start, end])\n",
    "          start, end = intervals[i]\n",
    "      answer.append([start, end])\n",
    "      return answer"
   ]
  },
  {
   "cell_type": "code",
   "execution_count": 8,
   "metadata": {},
   "outputs": [
    {
     "name": "stdout",
     "output_type": "stream",
     "text": [
      "Accept\n"
     ]
    }
   ],
   "source": [
    "intervals_list = [\n",
    "    [[1, 3], [2, 6], [8, 10], [15, 18]],  # base testcase\n",
    "    [[1, 4], [4, 5]],  # base testcase\n",
    "    [[1, 4], [0, 4]],  # sort testcase\n",
    "    [[1, 4], [2, 3]]  # max testcase\n",
    "]\n",
    "expected_list = [\n",
    "    [[1, 6], [8, 10], [15, 18]],\n",
    "    [[1, 5]],\n",
    "    [[0, 4]],\n",
    "    [[1, 4]]\n",
    "]\n",
    "solution = Solution()\n",
    "for intervals, expected in zip(intervals_list, expected_list):\n",
    "    output = solution.merge(intervals)\n",
    "    if output != expected:\n",
    "        print('Wrong Answer')\n",
    "        print('Output :', output)\n",
    "        print('Expected :', expected)\n",
    "        break\n",
    "print('Accept')\n"
   ]
  },
  {
   "cell_type": "code",
   "execution_count": null,
   "metadata": {},
   "outputs": [],
   "source": []
  }
 ],
 "metadata": {
  "kernelspec": {
   "display_name": "Python 3.8.9 64-bit",
   "language": "python",
   "name": "python3"
  },
  "language_info": {
   "codemirror_mode": {
    "name": "ipython",
    "version": 3
   },
   "file_extension": ".py",
   "mimetype": "text/x-python",
   "name": "python",
   "nbconvert_exporter": "python",
   "pygments_lexer": "ipython3",
   "version": "3.8.9"
  },
  "orig_nbformat": 4,
  "vscode": {
   "interpreter": {
    "hash": "31f2aee4e71d21fbe5cf8b01ff0e069b9275f58929596ceb00d14d90e3e16cd6"
   }
  }
 },
 "nbformat": 4,
 "nbformat_minor": 2
}
