{
 "cells": [
  {
   "cell_type": "markdown",
   "metadata": {},
   "source": [
    "# [141. Linked List Cycle](https://leetcode.com/problems/linked-list-cycle)\n",
    "\n",
    "Given `head`, the head of a linked list, determine if the linked list has a cycle in it.\n",
    "\n",
    "There is a cycle in a linked list if there is some node in the list that can be reached again by continuously following the `next` pointer. Internally, `pos` is used to denote the index of the node that tail's `next` pointer is connected to. **Note that `pos` is not passed as a parameter** .\n",
    "\n",
    "Return `true`* if there is a cycle in the linked list* . Otherwise, return `false`.\n",
    "\n",
    "**Example 1:**\n",
    "\n",
    "![](https://assets.leetcode.com/uploads/2018/12/07/circularlinkedlist.png)\n",
    "\n",
    "<pre><strong>Input:</strong> head = [3,2,0,-4], pos = 1\n",
    "<strong>Output:</strong> true\n",
    "<strong>Explanation:</strong> There is a cycle in the linked list, where the tail connects to the 1st node (0-indexed).\n",
    "</pre>\n",
    "\n",
    "**Example 2:**\n",
    "\n",
    "![](https://assets.leetcode.com/uploads/2018/12/07/circularlinkedlist_test2.png)\n",
    "\n",
    "<pre><strong>Input:</strong> head = [1,2], pos = 0\n",
    "<strong>Output:</strong> true\n",
    "<strong>Explanation:</strong> There is a cycle in the linked list, where the tail connects to the 0th node.\n",
    "</pre>\n",
    "\n",
    "**Example 3:**\n",
    "\n",
    "![](https://assets.leetcode.com/uploads/2018/12/07/circularlinkedlist_test3.png)\n",
    "\n",
    "<pre><strong>Input:</strong> head = [1], pos = -1\n",
    "<strong>Output:</strong> false\n",
    "<strong>Explanation:</strong> There is no cycle in the linked list.\n",
    "</pre>\n",
    "\n",
    "**Constraints:**\n",
    "\n",
    "* The number of the nodes in the list is in the range `[0, 10<sup>4</sup>]`.\n",
    "* `-10<sup>5</sup><span> </span><= Node.val <= 10<sup>5</sup>`\n",
    "* `pos` is `-1` or a **valid index** in the linked-list.\n",
    "\n",
    "**Follow up:** Can you solve it using `O(1)` (i.e. constant) memory?\n"
   ]
  },
  {
   "cell_type": "markdown",
   "metadata": {},
   "source": [
    "## 풀이\n",
    "\n",
    "- Linked List\n",
    "- Hash Table\n",
    "- Two Pointers\n",
    "\n",
    "이 문제는 Linked List에 pos라는 익명 입력값이 주어졌을 때, 순환을 하는지 찾아야했다.\n",
    "\n",
    "처음에는 해시테이블로 접근하여 문제를 풀어보려고 했으나, 문제 이해를 잘못하여 Linked List에 순환이 있으면 True를 반환했다. 그러나, 이 문제는 주어진 Linked List에 pos로 연결된 순환이 있을 경우 True를 반환해야 했다.\n",
    "\n",
    "문제는 두 가지 방법으로 풀 수 있다.\n",
    "1. Hash Table\n",
    "  - 해시 테이블에러 head를 key값으로 넣어 같다면 True 반환\n",
    "2. Two Pointers\n",
    "  - 증가 폭이 다른 두 포인터가 만난다면 True 반환"
   ]
  },
  {
   "cell_type": "code",
   "execution_count": null,
   "metadata": {},
   "outputs": [],
   "source": [
    "# Definition for singly-linked list.\n",
    "# class ListNode:\n",
    "#     def __init__(self, x):\n",
    "#         self.val = x\n",
    "#         self.next = None\n",
    "\n",
    "class Solution:\n",
    "  def hasCycle_hashtable(self, head):\n",
    "    dp = {}\n",
    "    while head:\n",
    "      if head in dp.keys():\n",
    "        return True\n",
    "      dp[head] = True\n",
    "      head = head.next\n",
    "    return False\n",
    "  def hasCycle_twoPointers(self, head):\n",
    "      slow = fast = head\n",
    "      while fast and fast.next:\n",
    "          fast = fast.next.next\n",
    "          slow = slow.next\n",
    "          if slow == fast:\n",
    "              return True\n",
    "      return False"
   ]
  }
 ],
 "metadata": {
  "kernelspec": {
   "display_name": "Python 3.8.9 64-bit",
   "language": "python",
   "name": "python3"
  },
  "language_info": {
   "name": "python",
   "version": "3.8.9"
  },
  "orig_nbformat": 4,
  "vscode": {
   "interpreter": {
    "hash": "31f2aee4e71d21fbe5cf8b01ff0e069b9275f58929596ceb00d14d90e3e16cd6"
   }
  }
 },
 "nbformat": 4,
 "nbformat_minor": 2
}
