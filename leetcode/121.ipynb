{
 "cells": [
  {
   "cell_type": "markdown",
   "metadata": {},
   "source": [
    "# [121. Best Time to Buy and Sell Stock](https://leetcode.com/problems/best-time-to-buy-and-sell-stock/)\n",
    "\n",
    "You are given an array `prices` where `prices[i]` is the price of a given stock on the `i<sup>th</sup>` day.\n",
    "\n",
    "You want to maximize your profit by choosing a **single day** to buy one stock and choosing a **different day in the future** to sell that stock.\n",
    "\n",
    "Return *the maximum profit you can achieve from this transaction* . If you cannot achieve any profit, return `0`.\n",
    "\n",
    "**Example 1:**\n",
    "\n",
    "<pre><strong>Input:</strong> prices = [7,1,5,3,6,4]\n",
    "<strong>Output:</strong> 5\n",
    "<strong>Explanation:</strong> Buy on day 2 (price = 1) and sell on day 5 (price = 6), profit = 6-1 = 5.\n",
    "Note that buying on day 2 and selling on day 1 is not allowed because you must buy before you sell.\n",
    "</pre>\n",
    "\n",
    "**Example 2:**\n",
    "\n",
    "<pre><strong>Input:</strong> prices = [7,6,4,3,1]\n",
    "<strong>Output:</strong> 0\n",
    "<strong>Explanation:</strong> In this case, no transactions are done and the max profit = 0.\n",
    "</pre>\n",
    "\n",
    "**Constraints:**\n",
    "\n",
    "* `1 <= prices.length <= 10<sup>5</sup>`\n",
    "* `0 <= prices[i] <= 10<sup>4</sup>`\n"
   ]
  },
  {
   "cell_type": "markdown",
   "metadata": {},
   "source": [
    "## 풀이\n",
    "\n",
    "- Array\n",
    "  \n",
    "- Dynamic Programming\n",
    "\n",
    "이 문제는 배열의 순서에 따라 오른쪽 값에서 왼쪽 값을 뺀 최대 값을 구해야했다.\n",
    "\n",
    "먼저, 배열에서 왼쪽 값과 오른쪽 값을 계산하기 위해 인덱스 2개를 준비했다. \n",
    "\n",
    "반복문을 돌면서 왼쪽값이 오른쪽 값보다 크거나 같으면 왼쪽 인덱스는 1을 더했고, 오른쪽 인덱스는 왼쪽 인덱스에 1을 더했다.\n",
    "\n",
    "왼쪽 값이 오른쪽 값보다 작다면 오른쪽 값에서 왼쪽 값을 뺀 값의 최대값을 계산한다."
   ]
  },
  {
   "cell_type": "code",
   "execution_count": 17,
   "metadata": {},
   "outputs": [],
   "source": [
    "from typing import List\n",
    "\n",
    "class Solution:\n",
    "    def maxProfit(self, prices: List[int]) -> int:\n",
    "        answer = 0\n",
    "        \n",
    "        i, j = 0, 1\n",
    "        while j < len(prices):\n",
    "          if prices[i] >= prices[j]:\n",
    "            i += 1\n",
    "            j = i + 1\n",
    "          else:\n",
    "            answer = max(answer, prices[j] - prices[i])\n",
    "            j += 1\n",
    "        return answer"
   ]
  },
  {
   "cell_type": "code",
   "execution_count": 19,
   "metadata": {},
   "outputs": [
    {
     "name": "stdout",
     "output_type": "stream",
     "text": [
      "input : [7, 1, 5, 3, 6, 4]\n",
      "output : 5\n",
      "\n",
      "input : [7, 6, 4, 3, 1]\n",
      "output : 0\n",
      "\n",
      "input : [2, 1, 4]\n",
      "output : 3\n",
      "\n"
     ]
    }
   ],
   "source": [
    "prices_list = [[7,1,5,3,6,4], [7,6,4,3,1], [2,1,4]]\n",
    "\n",
    "solution = Solution()\n",
    "for prices in prices_list:\n",
    "  print('input :', prices)\n",
    "  print('output :', solution.maxProfit(prices))\n",
    "  print()"
   ]
  },
  {
   "cell_type": "markdown",
   "metadata": {},
   "source": [
    "## Reference Code - O(n)"
   ]
  },
  {
   "cell_type": "code",
   "execution_count": null,
   "metadata": {},
   "outputs": [],
   "source": [
    "class Solution:\n",
    "    def maxProfit(self, prices: List[int]) -> int:\n",
    "        low = float('inf')\n",
    "        profit = 0\n",
    "        for price in prices:\n",
    "            profit = max(profit, price-low)\n",
    "            low = min(low, price)\n",
    "        return profit"
   ]
  }
 ],
 "metadata": {
  "kernelspec": {
   "display_name": "Python 3.8.9 64-bit",
   "language": "python",
   "name": "python3"
  },
  "language_info": {
   "codemirror_mode": {
    "name": "ipython",
    "version": 3
   },
   "file_extension": ".py",
   "mimetype": "text/x-python",
   "name": "python",
   "nbconvert_exporter": "python",
   "pygments_lexer": "ipython3",
   "version": "3.8.9"
  },
  "orig_nbformat": 4,
  "vscode": {
   "interpreter": {
    "hash": "31f2aee4e71d21fbe5cf8b01ff0e069b9275f58929596ceb00d14d90e3e16cd6"
   }
  }
 },
 "nbformat": 4,
 "nbformat_minor": 2
}
