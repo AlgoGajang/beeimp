{
 "cells": [
  {
   "cell_type": "markdown",
   "metadata": {},
   "source": [
    "# [62. Unique Paths](https://leetcode.com/problems/unique-paths/)\n",
    "\n",
    "## 문제\n",
    "\n",
    "There is a robot on an `m x n` grid. The robot is initially located at the **top-left corner** (i.e., `grid[0][0]`). The robot tries to move to the **bottom-right corner** (i.e., `grid[m - 1][n - 1]`). The robot can only move either down or right at any point in time.\n",
    "\n",
    "Given the two integers `m` and `n`, return *the number of possible unique paths that the robot can take to reach the bottom-right corner* .\n",
    "\n",
    "The test cases are generated so that the answer will be less than or equal to `2 * 10<sup>9</sup>`.\n",
    "\n",
    "**Example 1:**\n",
    "\n",
    "![](https://assets.leetcode.com/uploads/2018/10/22/robot_maze.png)\n",
    "\n",
    "<pre><strong>Input:</strong> m = 3, n = 7\n",
    "<strong>Output:</strong> 28\n",
    "</pre>\n",
    "\n",
    "**Example 2:**\n",
    "\n",
    "<pre><strong>Input:</strong> m = 3, n = 2\n",
    "<strong>Output:</strong> 3\n",
    "<strong>Explanation:</strong> From the top-left corner, there are a total of 3 ways to reach the bottom-right corner:\n",
    "1. Right -> Down -> Down\n",
    "2. Down -> Down -> Right\n",
    "3. Down -> Right -> Down\n",
    "</pre>\n",
    "\n",
    "**Constraints:**\n",
    "\n",
    "* `1 <= m, n <= 100`\n"
   ]
  },
  {
   "cell_type": "markdown",
   "metadata": {},
   "source": [
    "## 풀이\n",
    "\n",
    "- BFS\n",
    "\n",
    "이 문제는 (0, 0)에서 (n, m)까지 도달하는 모든 경우의 수를 구해야 한다."
   ]
  },
  {
   "cell_type": "code",
   "execution_count": null,
   "metadata": {},
   "outputs": [],
   "source": [
    "from collections import deque\n",
    "\n",
    "class Solution:\n",
    "    def uniquePaths(self, m: int, n: int) -> int:\n",
    "        counts = [[0 for _ in range(n)] for _ in range(m)]\n",
    "        visited = [[False for _ in range(n)] for _ in range(m)]\n",
    "\n",
    "        q = deque()\n",
    "        q.append((0, 0))\n",
    "        visited[0][0] = True\n",
    "        counts[0][0] = 1\n",
    "\n",
    "        while q:\n",
    "            y, x = q.popleft()\n",
    "            \n",
    "            # 이전 위치의 값들을 현재 위치에 더한다.\n",
    "            for dy, dx in zip([0, -1], [-1, 0]):\n",
    "                my, mx = y + dy, x + dx\n",
    "                if 0 <= my and my < m and 0 <= mx and mx < n:\n",
    "                    counts[y][x] += counts[my][mx]\n",
    "\n",
    "            # 다음 위치를 Queue에 추가한다.\n",
    "            for dy, dx in zip([0, 1], [1, 0]):\n",
    "                my, mx = y + dy, x + dx\n",
    "                if 0 <= my and my < m and 0 <= mx and mx < n and not visited[my][mx]:\n",
    "                    q.append((my, mx))\n",
    "                    visited[my][mx] = True\n",
    "\n",
    "        return counts[-1][-1]\n"
   ]
  },
  {
   "cell_type": "markdown",
   "metadata": {},
   "source": [
    "### Reference Code\n",
    "\n",
    "- DP"
   ]
  },
  {
   "cell_type": "code",
   "execution_count": null,
   "metadata": {},
   "outputs": [],
   "source": [
    "class Solution:\n",
    "    def uniquePaths(self, m: int, n: int) -> int:\n",
    "        dp = [[0] * n for _ in range(m)]\n",
    "        for y in range(m):\n",
    "            for x in range(n):\n",
    "                dp[y][x] = 1 if y == 0 and x == 0 else dp[y - 1][x] + dp[y][x - 1]\n",
    "        return dp[-1][-1]"
   ]
  },
  {
   "cell_type": "markdown",
   "metadata": {},
   "source": [
    "## 결과\n",
    "\n",
    "### My Code\n",
    "\n",
    "![](assets/20221103_093717_image.png)\n",
    "\n",
    "![](assets/20221103_093801_image.png)\n",
    "\n",
    "### Reference Code\n",
    "\n",
    "![](assets/20221103_093903_image.png)\n",
    "\n",
    "![](assets/20221103_093931_image.png)\n"
   ]
  }
 ],
 "metadata": {
  "kernelspec": {
   "display_name": "Python 3.10.7 64-bit",
   "language": "python",
   "name": "python3"
  },
  "language_info": {
   "name": "python",
   "version": "3.10.7"
  },
  "orig_nbformat": 4,
  "vscode": {
   "interpreter": {
    "hash": "aee8b7b246df8f9039afb4144a1f6fd8d2ca17a180786b69acc140d282b71a49"
   }
  }
 },
 "nbformat": 4,
 "nbformat_minor": 2
}
