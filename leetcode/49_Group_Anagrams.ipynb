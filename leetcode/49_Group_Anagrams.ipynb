{
 "cells": [
  {
   "cell_type": "markdown",
   "metadata": {},
   "source": [
    "# [49. Group Anagrams](https://leetcode.com/problems/group-anagrams/)\n",
    "\n",
    "## 문제\n",
    "\n",
    "Given an array of strings `strs`, group **the anagrams** together. You can return the answer in **any order** .\n",
    "\n",
    "An **Anagram** is a word or phrase formed by rearranging the letters of a different word or phrase, typically using all the original letters exactly once.\n",
    "\n",
    "**Example 1:**\n",
    "\n",
    "<pre><strong>Input:</strong> strs = [\"eat\",\"tea\",\"tan\",\"ate\",\"nat\",\"bat\"]\n",
    "<strong>Output:</strong> [[\"bat\"],[\"nat\",\"tan\"],[\"ate\",\"eat\",\"tea\"]]\n",
    "</pre>\n",
    "\n",
    "**Example 2:**\n",
    "\n",
    "<pre><strong>Input:</strong> strs = [\"\"]\n",
    "<strong>Output:</strong> [[\"\"]]\n",
    "</pre>\n",
    "\n",
    "**Example 3:**\n",
    "\n",
    "<pre><strong>Input:</strong> strs = [\"a\"]\n",
    "<strong>Output:</strong> [[\"a\"]]\n",
    "</pre>\n",
    "\n",
    "**Constraints:**\n",
    "\n",
    "* `1 <= strs.length <= 10<sup>4</sup>`\n",
    "* `0 <= strs[i].length <= 100`\n",
    "* `strs[i]` consists of lowercase English letters.\n"
   ]
  },
  {
   "cell_type": "markdown",
   "metadata": {},
   "source": [
    "## 풀이\n",
    "\n",
    "- String\n",
    "- Hash Table\n",
    "- Sort\n",
    "\n",
    "이 문제는 문자열 배열에서 알파벳 빈도수가 같은 문자열끼리 그룹하여 2차 배열을 반환해야 한다."
   ]
  },
  {
   "cell_type": "code",
   "execution_count": null,
   "metadata": {},
   "outputs": [],
   "source": [
    "class Solution:\n",
    "    def groupAnagrams(self, strs: List[str]) -> List[List[str]]:\n",
    "        answer = []\n",
    "        str_dict = {}\n",
    "        for s in sorted(strs):\n",
    "            key = ''.join(sorted(s))\n",
    "            if not key in str_dict:\n",
    "                str_dict[key] = []\n",
    "            str_dict[key].append(s)\n",
    "        \n",
    "        for key, value in str_dict.items():\n",
    "            answer.append(value)\n",
    "            \n",
    "        return answer"
   ]
  },
  {
   "cell_type": "markdown",
   "metadata": {},
   "source": [
    "## 결과\n",
    "\n",
    "![](assets/20221024_212242_image.png)\n"
   ]
  }
 ],
 "metadata": {
  "kernelspec": {
   "display_name": "Python 3.10.7 64-bit",
   "language": "python",
   "name": "python3"
  },
  "language_info": {
   "name": "python",
   "version": "3.10.7"
  },
  "orig_nbformat": 4,
  "vscode": {
   "interpreter": {
    "hash": "aee8b7b246df8f9039afb4144a1f6fd8d2ca17a180786b69acc140d282b71a49"
   }
  }
 },
 "nbformat": 4,
 "nbformat_minor": 2
}
