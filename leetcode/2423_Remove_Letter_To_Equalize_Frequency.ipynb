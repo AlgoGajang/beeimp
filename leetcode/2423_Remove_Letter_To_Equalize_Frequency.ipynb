{
 "cells": [
  {
   "cell_type": "markdown",
   "metadata": {},
   "source": [
    "# [2423. Remove Letter To Equalize Frequency](https://leetcode.com/problems/remove-letter-to-equalize-frequency/)\n",
    "\n",
    "You are given a **0-indexed** string `word`, consisting of lowercase English letters. You need to select **one** index and **remove** the letter at that index from `word` so that the **frequency** of every letter present in `word` is equal.\n",
    "\n",
    "Return* * `true`* if it is possible to remove one letter so that the frequency of all letters in * `word`* are equal, and * `false`* otherwise* .\n",
    "\n",
    "**Note:**\n",
    "\n",
    "* The **frequency** of a letter `x` is the number of times it occurs in the string.\n",
    "* You **must** remove exactly one letter and cannot chose to do nothing.\n",
    "\n",
    "**Example 1:**\n",
    "\n",
    "<pre><strong>Input:</strong> word = \"abcc\"\n",
    "<strong>Output:</strong> true\n",
    "<strong>Explanation:</strong> Select index 3 and delete it: word becomes \"abc\" and each character has a frequency of 1.\n",
    "</pre>\n",
    "\n",
    "**Example 2:**\n",
    "\n",
    "<pre><strong>Input:</strong> word = \"aazz\"\n",
    "<strong>Output:</strong> false\n",
    "<strong>Explanation:</strong> We must delete a character, so either the frequency of \"a\" is 1 and the frequency of \"z\" is 2, or vice versa. It is impossible to make all present letters have equal frequency.</pre>\n"
   ]
  },
  {
   "cell_type": "markdown",
   "metadata": {},
   "source": [
    "## 풀이\n",
    "\n",
    "- String\n",
    "- Hash Table\n",
    "- SET\n",
    "- Counting\n",
    "\n",
    "이 문제는 문자열에서 문자를 하나 제거했을 때, 문자의 빈도수가 같은지 확인해야 한다.\n",
    "\n",
    "1. 문자열의 빈도수를 해시테이블에 저장한다.\n",
    "2. 문자열에서 문자에 해당하는 빈도를 1 감소한다.\n",
    "3. 빈도수 해시 테이블에서 SET을 통해 하나의 빈도수만 나오는지 확인한다.\n",
    "  - 단, 빈도수 0이 있다면 SET에서 제거해야 한다.\n",
    "4. 다시 문자의 빈도수를 1 증가시키고, 문자열의 끝에 도달할 때까지 2번부터 반복한다.\n",
    "5. 반목문을 마치게 되면 False를 반환한다."
   ]
  },
  {
   "cell_type": "code",
   "execution_count": null,
   "metadata": {},
   "outputs": [],
   "source": [
    "from collections import Counter\n",
    "\n",
    "\n",
    "class Solution:\n",
    "    def equalFrequency(self, word: str) -> bool:\n",
    "        counts = Counter(word)\n",
    "        for char in word:\n",
    "            counts[char] -= 1\n",
    "            char_counts = set(counts.values())\n",
    "            if 0 in char_counts:\n",
    "                char_counts.remove(0)\n",
    "            if len(char_counts) == 1:\n",
    "                return True\n",
    "            counts[char] += 1\n",
    "        return False"
   ]
  },
  {
   "cell_type": "markdown",
   "metadata": {},
   "source": [
    "## 결과\n",
    "\n",
    "![](assets/20221031_092244_image.png)\n",
    "\n",
    "![](assets/20221031_092251_image.png)\n"
   ]
  }
 ],
 "metadata": {
  "kernelspec": {
   "display_name": "Python 3.10.7 64-bit",
   "language": "python",
   "name": "python3"
  },
  "language_info": {
   "name": "python",
   "version": "3.10.7"
  },
  "orig_nbformat": 4,
  "vscode": {
   "interpreter": {
    "hash": "aee8b7b246df8f9039afb4144a1f6fd8d2ca17a180786b69acc140d282b71a49"
   }
  }
 },
 "nbformat": 4,
 "nbformat_minor": 2
}
