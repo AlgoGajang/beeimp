{
 "cells": [
  {
   "cell_type": "markdown",
   "metadata": {},
   "source": [
    "# [100. Same Tree](https://leetcode.com/problems/same-tree/)\\\n",
    "\n",
    "Given the roots of two binary trees `p` and `q`, write a function to check if they are the same or not.\n",
    "\n",
    "Two binary trees are considered the same if they are structurally identical, and the nodes have the same value.\n",
    "\n",
    "**Example 1:**\n",
    "\n",
    "![](https://assets.leetcode.com/uploads/2020/12/20/ex1.jpg)\n",
    "\n",
    "<pre><strong>Input:</strong> p = [1,2,3], q = [1,2,3]\n",
    "<strong>Output:</strong> true\n",
    "</pre>\n",
    "\n",
    "**Example 2:**\n",
    "\n",
    "![](https://assets.leetcode.com/uploads/2020/12/20/ex2.jpg)\n",
    "\n",
    "<pre><strong>Input:</strong> p = [1,2], q = [1,null,2]\n",
    "<strong>Output:</strong> false\n",
    "</pre>\n",
    "\n",
    "**Example 3:**\n",
    "\n",
    "![](https://assets.leetcode.com/uploads/2020/12/20/ex3.jpg)\n",
    "\n",
    "<pre><strong>Input:</strong> p = [1,2,1], q = [1,1,2]\n",
    "<strong>Output:</strong> false\n",
    "</pre>\n",
    "\n",
    "**Constraints:**\n",
    "\n",
    "* The number of nodes in both trees is in the range `[0, 100]`.\n",
    "* `-10<sup>4</sup><span> </span><= Node.val <= 10<sup>4</sup>`\n"
   ]
  },
  {
   "cell_type": "markdown",
   "metadata": {},
   "source": [
    "## 풀이\n",
    "\n",
    "- Tree\n",
    "- Binary Tree\n",
    "- DFS\n",
    "- Hash Function\n",
    "\n",
    "이 문제는 두 트리가 같은지 확인을 해야했다.\n",
    "\n",
    "풀이는 DFS로 접근했다.\n",
    "\n",
    "1. p 트리와 q 트리 중 하나라도 비어 있다면 비교하여 같은지 확인한다.\n",
    "2. p 트리 값과 q 트리 값이 다르면 False\n",
    "3. 트리의 왼쪽과 오른쪽을 다시 재귀적으로 함수를 실행한다.\n",
    "\n",
    "+)\n",
    "처음 생각했던 풀이는 해시값으로 해결하려고 했었다.\n",
    "\n",
    "트리를 그대로 해시함수에 넣었더니 다른값이 나왔다.\n",
    "\n",
    "방법은\n",
    "\n",
    "트리를 문자열로 변환한 해시값을 서로 비교해서 문제를 해결했다."
   ]
  },
  {
   "cell_type": "code",
   "execution_count": 1,
   "metadata": {},
   "outputs": [],
   "source": [
    "from typing import Optional\n",
    "\n",
    "# Definition for a binary tree node.\n",
    "class TreeNode:\n",
    "    def __init__(self, val=0, left=None, right=None):\n",
    "        self.val = val\n",
    "        self.left = left\n",
    "        self.right = right\n",
    "\n",
    "class Solution:\n",
    "    def isSameTree(self, p: Optional[TreeNode], q: Optional[TreeNode]) -> bool:\n",
    "        if not p or not q:\n",
    "            return p == q\n",
    "            \n",
    "        if p.val != q.val:\n",
    "            return False\n",
    "        \n",
    "        return self.isSameTree(p.left, q.left) and self.isSameTree(p.right, q.right)\n",
    "    def isSameTree_hash(self, p: Optional[TreeNode], q: Optional[TreeNode]) -> bool:\n",
    "        return hash(str(p)) == hash(str(q))"
   ]
  },
  {
   "cell_type": "code",
   "execution_count": null,
   "metadata": {},
   "outputs": [],
   "source": [
    "from hashlib import sha256\n",
    "# Definition for a binary tree node.\n",
    "\n",
    "class TreeNode:\n",
    "    def __init__(self, val=0, left=None, right=None):\n",
    "        self.val = val\n",
    "        self.left = left\n",
    "        self.right = right\n",
    "\n",
    "class Solution:\n",
    "    def isSameTree(self, p: Optional[TreeNode], q: Optional[TreeNode]) -> bool:\n",
    "        p_hash = sha256(bytes(str(p), 'utf-8'))\n",
    "        q_hash = sha256(bytes(str(q), 'utf-8'))\n",
    "        return p_hash.digest() == q_hash.digest()"
   ]
  }
 ],
 "metadata": {
  "kernelspec": {
   "display_name": "Python 3.8.9 64-bit",
   "language": "python",
   "name": "python3"
  },
  "language_info": {
   "codemirror_mode": {
    "name": "ipython",
    "version": 3
   },
   "file_extension": ".py",
   "mimetype": "text/x-python",
   "name": "python",
   "nbconvert_exporter": "python",
   "pygments_lexer": "ipython3",
   "version": "3.8.9"
  },
  "orig_nbformat": 4,
  "vscode": {
   "interpreter": {
    "hash": "31f2aee4e71d21fbe5cf8b01ff0e069b9275f58929596ceb00d14d90e3e16cd6"
   }
  }
 },
 "nbformat": 4,
 "nbformat_minor": 2
}
