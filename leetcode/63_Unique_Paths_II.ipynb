{
 "cells": [
  {
   "cell_type": "markdown",
   "metadata": {},
   "source": [
    "# [62. Unique Paths II](https://leetcode.com/problems/unique-paths-ii/)\n",
    "\n",
    "## 문제\n",
    "\n",
    "You are given an `m x n` integer array `grid`. There is a robot initially located at the **top-left corner** (i.e., `grid[0][0]`). The robot tries to move to the **bottom-right corner** (i.e., `grid[m - 1][n - 1]`). The robot can only move either down or right at any point in time.\n",
    "\n",
    "An obstacle and space are marked as `1` or `0` respectively in `grid`. A path that the robot takes cannot include **any** square that is an obstacle.\n",
    "\n",
    "Return *the number of possible unique paths that the robot can take to reach the bottom-right corner* .\n",
    "\n",
    "The testcases are generated so that the answer will be less than or equal to `2 * 10<sup>9</sup>`.\n",
    "\n",
    "**Example 1:**\n",
    "\n",
    "![](https://assets.leetcode.com/uploads/2020/11/04/robot1.jpg)\n",
    "\n",
    "<pre><strong>Input:</strong> obstacleGrid = [[0,0,0],[0,1,0],[0,0,0]]\n",
    "<strong>Output:</strong> 2\n",
    "<strong>Explanation:</strong> There is one obstacle in the middle of the 3x3 grid above.\n",
    "There are two ways to reach the bottom-right corner:\n",
    "1. Right -> Right -> Down -> Down\n",
    "2. Down -> Down -> Right -> Right\n",
    "</pre>\n",
    "\n",
    "**Example 2:**\n",
    "\n",
    "![](https://assets.leetcode.com/uploads/2020/11/04/robot2.jpg)\n",
    "\n",
    "<pre><strong>Input:</strong> obstacleGrid = [[0,1],[0,0]]\n",
    "<strong>Output:</strong> 1\n",
    "</pre>\n",
    "\n",
    "**Constraints:**\n",
    "\n",
    "* `m == obstacleGrid.length`\n",
    "* `n == obstacleGrid[i].length`\n",
    "* `1 <= m, n <= 100`\n",
    "* `obstacleGrid[i][j]` is `0` or `1`.\n"
   ]
  },
  {
   "cell_type": "markdown",
   "metadata": {},
   "source": [
    "## 풀이\n",
    "\n",
    "- DP\n",
    "\n",
    "이 문제는 (0, 0)에서 (m, n)에 장애물을 피해 도달하는 경우의 수를 구해야 한다."
   ]
  },
  {
   "cell_type": "code",
   "execution_count": null,
   "metadata": {},
   "outputs": [],
   "source": [
    "class Solution:\n",
    "    def uniquePathsWithObstacles(self, obstacleGrid: List[List[int]]) -> int:\n",
    "        n, m = len(obstacleGrid), len(obstacleGrid[0])\n",
    "        dp = [[0] * m for _ in range(n)]\n",
    "        for y, row in enumerate(obstacleGrid):\n",
    "            for x, v in enumerate(row):\n",
    "                if v == 1: continue\n",
    "                dp[y][x] = 1 if y == 0 and x == 0 else dp[y - 1][x] + dp[y][x - 1]\n",
    "        return dp[-1][-1]"
   ]
  },
  {
   "cell_type": "markdown",
   "metadata": {},
   "source": [
    "## 결과\n",
    "\n",
    "![](assets/20221103_095851_image.png)\n",
    "\n",
    "![](assets/20221103_095901_image.png)"
   ]
  }
 ],
 "metadata": {
  "kernelspec": {
   "display_name": "Python 3.10.7 64-bit",
   "language": "python",
   "name": "python3"
  },
  "language_info": {
   "name": "python",
   "version": "3.10.7"
  },
  "orig_nbformat": 4,
  "vscode": {
   "interpreter": {
    "hash": "aee8b7b246df8f9039afb4144a1f6fd8d2ca17a180786b69acc140d282b71a49"
   }
  }
 },
 "nbformat": 4,
 "nbformat_minor": 2
}
