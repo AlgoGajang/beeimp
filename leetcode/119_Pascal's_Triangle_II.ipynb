{
 "cells": [
  {
   "cell_type": "markdown",
   "metadata": {},
   "source": [
    "# [119. Pascal's Triangle II](https://leetcode.com/problems/pascals-triangle-ii/)\n",
    "\n",
    "## 문제\n",
    "\n",
    "Given an integer `rowIndex`, return the `rowIndex<sup>th</sup>` (**0-indexed** ) row of the **Pascal's triangle** .\n",
    "\n",
    "In **Pascal's triangle** , each number is the sum of the two numbers directly above it as shown:\n",
    "\n",
    "![](https://upload.wikimedia.org/wikipedia/commons/0/0d/PascalTriangleAnimated2.gif)\n",
    "\n",
    "**Example 1:**\n",
    "\n",
    "<pre><strong>Input:</strong> rowIndex = 3\n",
    "<strong>Output:</strong> [1,3,3,1]\n",
    "</pre>\n",
    "\n",
    "**Example 2:**\n",
    "\n",
    "<pre><strong>Input:</strong> rowIndex = 0\n",
    "<strong>Output:</strong> [1]\n",
    "</pre>\n",
    "\n",
    "**Example 3:**\n",
    "\n",
    "<pre><strong>Input:</strong> rowIndex = 1\n",
    "<strong>Output:</strong> [1,1]\n",
    "</pre>\n",
    "\n",
    "**Constraints:**\n",
    "\n",
    "* `0 <= rowIndex <= 33`\n",
    "\n",
    "**Follow up:** Could you optimize your algorithm to use only `O(rowIndex)` extra space?\n"
   ]
  },
  {
   "cell_type": "markdown",
   "metadata": {},
   "source": [
    "## 풀이\n",
    "\n",
    "- Array\n",
    "- DP\n",
    "\n",
    "이 문제는 마지막 레벨의 배열을 반환해야 한다."
   ]
  },
  {
   "cell_type": "code",
   "execution_count": null,
   "metadata": {},
   "outputs": [],
   "source": [
    "class Solution:\n",
    "    def getRow(self, rowIndex: int) -> List[int]:\n",
    "        answer = [1]\n",
    "        for i in range(rowIndex):\n",
    "            prev = answer[:]\n",
    "            for j in range(1, len(answer)):\n",
    "                answer[j] = prev[j - 1] + prev[j]\n",
    "            answer.append(1)\n",
    "        return answer"
   ]
  },
  {
   "cell_type": "markdown",
   "metadata": {},
   "source": [
    "## 결과\n",
    "\n",
    "![](assets/20221110_140657_image.png)\n"
   ]
  }
 ],
 "metadata": {
  "kernelspec": {
   "display_name": "Python 3.10.7 64-bit",
   "language": "python",
   "name": "python3"
  },
  "language_info": {
   "name": "python",
   "version": "3.10.7"
  },
  "orig_nbformat": 4,
  "vscode": {
   "interpreter": {
    "hash": "aee8b7b246df8f9039afb4144a1f6fd8d2ca17a180786b69acc140d282b71a49"
   }
  }
 },
 "nbformat": 4,
 "nbformat_minor": 2
}
