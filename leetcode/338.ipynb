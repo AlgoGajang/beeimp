{
 "cells": [
  {
   "cell_type": "markdown",
   "metadata": {},
   "source": [
    "# [338. Counting Bits](https://leetcode.com/problems/counting-bits/)\n",
    "\n",
    "Given an integer `n`, return *an array * `ans`* of length * `n + 1`* such that for each * `i`* * (`0 <= i <= n`)*, * `ans[i]`* is the **number of *** `1`***'s** in the binary representation of * `i`.\n",
    "\n",
    "**Example 1:**\n",
    "\n",
    "<pre><strong>Input:</strong> n = 2\n",
    "<strong>Output:</strong> [0,1,1]\n",
    "<strong>Explanation:</strong>\n",
    "0 --> 0\n",
    "1 --> 1\n",
    "2 --> 10\n",
    "</pre>\n",
    "\n",
    "**Example 2:**\n",
    "\n",
    "<pre><strong>Input:</strong> n = 5\n",
    "<strong>Output:</strong> [0,1,1,2,1,2]\n",
    "<strong>Explanation:</strong>\n",
    "0 --> 0\n",
    "1 --> 1\n",
    "2 --> 10\n",
    "3 --> 11\n",
    "4 --> 100\n",
    "5 --> 101\n",
    "</pre>\n",
    "\n",
    "**Constraints:**\n",
    "\n",
    "* `0 <= n <= 10<sup>5</sup>`\n",
    "\n",
    "**Follow up:**\n",
    "\n",
    "* It is very easy to come up with a solution with a runtime of `O(n log n)`. Can you do it in linear time `O(n)` and possibly in a single pass?\n",
    "* Can you do it without using any built-in function (i.e., like `__builtin_popcount` in C++)?\n"
   ]
  },
  {
   "cell_type": "markdown",
   "metadata": {},
   "source": [
    "## 풀이\n",
    "\n",
    "- Dynamic Programming\n",
    "- Bit Mainipulation\n",
    "\n",
    "이 문제는 숫자를 입력받아 이진수로 변환했을 때 1의 개수를 반환해야 했다.\n",
    "\n",
    "시간복잡도 O(N)을 위해 비트 연산을 사용했다."
   ]
  },
  {
   "cell_type": "code",
   "execution_count": 9,
   "metadata": {},
   "outputs": [],
   "source": [
    "from typing import *\n",
    "\n",
    "\n",
    "class Solution:\n",
    "    def countBits(self, n: int) -> List[int]:\n",
    "        answer = [0, 1]\n",
    "        for i in range(2, n):\n",
    "            answer.append(answer[i >> 1] + i % 2)\n",
    "            # answer.append(answer[i // 2] + (i % 2))\n",
    "        return answer\n"
   ]
  }
 ],
 "metadata": {
  "kernelspec": {
   "display_name": "Python 3.8.9 64-bit",
   "language": "python",
   "name": "python3"
  },
  "language_info": {
   "codemirror_mode": {
    "name": "ipython",
    "version": 3
   },
   "file_extension": ".py",
   "mimetype": "text/x-python",
   "name": "python",
   "nbconvert_exporter": "python",
   "pygments_lexer": "ipython3",
   "version": "3.8.9"
  },
  "orig_nbformat": 4,
  "vscode": {
   "interpreter": {
    "hash": "31f2aee4e71d21fbe5cf8b01ff0e069b9275f58929596ceb00d14d90e3e16cd6"
   }
  }
 },
 "nbformat": 4,
 "nbformat_minor": 2
}
