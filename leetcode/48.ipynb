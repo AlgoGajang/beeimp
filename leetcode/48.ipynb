{
 "cells": [
  {
   "cell_type": "markdown",
   "metadata": {},
   "source": [
    "# [48. Rotate Image](https://leetcode.com/problems/rotate-image/)\n",
    "\n",
    "You are given an `n x n` 2D `matrix` representing an image, rotate the image by **90** degrees (clockwise).\n",
    "\n",
    "You have to rotate the image [**in-place**](https://en.wikipedia.org/wiki/In-place_algorithm), which means you have to modify the input 2D matrix directly. **DO NOT** allocate another 2D matrix and do the rotation.\n",
    "\n",
    "**Example 1:**\n",
    "\n",
    "![](https://assets.leetcode.com/uploads/2020/08/28/mat1.jpg)\n",
    "\n",
    "<pre><strong>Input:</strong> matrix = [[1,2,3],[4,5,6],[7,8,9]]\n",
    "<strong>Output:</strong> [[7,4,1],[8,5,2],[9,6,3]]\n",
    "</pre>\n",
    "\n",
    "**Example 2:**\n",
    "\n",
    "![](https://assets.leetcode.com/uploads/2020/08/28/mat2.jpg)\n",
    "\n",
    "<pre><strong>Input:</strong> matrix = [[5,1,9,11],[2,4,8,10],[13,3,6,7],[15,14,12,16]]\n",
    "<strong>Output:</strong> [[15,13,2,5],[14,3,4,1],[12,6,8,9],[16,7,10,11]]\n",
    "</pre>\n",
    "\n",
    "**Constraints:**\n",
    "\n",
    "* `n == matrix.length == matrix[i].length`\n",
    "* `1 <= n <= 20`\n",
    "* `-1000 <= matrix[i][j] <= 1000`\n"
   ]
  },
  {
   "cell_type": "markdown",
   "metadata": {},
   "source": [
    "## 풀이\n",
    "\n",
    "- Array\n",
    "- Matrix\n",
    "\n",
    "이 문제는 입력값으로 주어지는 행렬을 오른쪽으로 90도 회전시켜야 했다.\n",
    "\n",
    "회전 함수는 void이며, 출력값은 입력값으로 받는 행렬이다.\n",
    "\n",
    "따라서, 행렬의 주소에 해당하는 행렬값만 변경해야 했다."
   ]
  },
  {
   "cell_type": "code",
   "execution_count": 1,
   "metadata": {},
   "outputs": [],
   "source": [
    "from typing import List\n",
    "\n",
    "\n",
    "class Solution:\n",
    "    def rotate(self, matrix: List[List[int]]) -> None:\n",
    "        \"\"\"\n",
    "        Do not return anything, modify matrix in-place instead.\n",
    "        \"\"\"\n",
    "        deep_copy = [[v for v in row] for row in matrix]\n",
    "        for y, row in enumerate(zip(*deep_copy[::-1])):\n",
    "            for x, v in enumerate(row):\n",
    "                matrix[y][x] = v"
   ]
  },
  {
   "cell_type": "markdown",
   "metadata": {},
   "source": [
    "### Reference Code"
   ]
  },
  {
   "cell_type": "code",
   "execution_count": 2,
   "metadata": {},
   "outputs": [
    {
     "name": "stdout",
     "output_type": "stream",
     "text": [
      "[[7, 4, 1], [8, 5, 2], [9, 6, 3]]\n"
     ]
    }
   ],
   "source": [
    "import math\n",
    "\n",
    "\n",
    "class Solution:\n",
    "    def rotateMath(self, matrix: List[List[int]]) -> None:\n",
    "        \"\"\"\n",
    "        :type matrix: List[List[int]]\n",
    "        :rtype: void Do not return anything, modify matrix in-place instead.\n",
    "        \"\"\"\n",
    "        half = (math.ceil(len(matrix) / 2))\n",
    "\n",
    "        r = None\n",
    "        if len(matrix) % 2 == 0:\n",
    "            r = range(half)\n",
    "        else:\n",
    "            r = range(half - 1)\n",
    "\n",
    "        for y in r:\n",
    "            for x in range(half):\n",
    "                tmp = matrix[y][x]\n",
    "                matrix[y][x] = matrix[-1 - x][y]\n",
    "                matrix[-1 - x][y] = matrix[-1 - y][-1 - x]\n",
    "                matrix[-1 - y][-1 - x] = matrix[x][-1 - y]\n",
    "                matrix[x][-1 - y] = tmp\n",
    "\n",
    "    def rotateOneLine(self, matrix: List[List[int]]) -> None:\n",
    "        matrix[:] = list(list(i) for i in zip(*matrix[::-1]))\n"
   ]
  }
 ],
 "metadata": {
  "kernelspec": {
   "display_name": "Python 3.8.9 64-bit",
   "language": "python",
   "name": "python3"
  },
  "language_info": {
   "codemirror_mode": {
    "name": "ipython",
    "version": 3
   },
   "file_extension": ".py",
   "mimetype": "text/x-python",
   "name": "python",
   "nbconvert_exporter": "python",
   "pygments_lexer": "ipython3",
   "version": "3.8.9"
  },
  "orig_nbformat": 4,
  "vscode": {
   "interpreter": {
    "hash": "31f2aee4e71d21fbe5cf8b01ff0e069b9275f58929596ceb00d14d90e3e16cd6"
   }
  }
 },
 "nbformat": 4,
 "nbformat_minor": 2
}
