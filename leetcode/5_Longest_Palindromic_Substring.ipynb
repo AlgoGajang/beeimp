{
 "cells": [
  {
   "cell_type": "markdown",
   "metadata": {},
   "source": [
    "# [5. Longest Palindromic Substring](https://leetcode.com/problems/longest-palindromic-substring/)\n",
    "\n",
    "## 문제\n",
    "\n",
    "Given a string `s`, return *the longest* *palindromic* *substring* in `s`.\n",
    "\n",
    "**Example 1:**\n",
    "\n",
    "<pre><strong>Input:</strong> s = \"babad\"\n",
    "<strong>Output:</strong> \"bab\"\n",
    "<strong>Explanation:</strong> \"aba\" is also a valid answer.\n",
    "</pre>\n",
    "\n",
    "**Example 2:**\n",
    "\n",
    "<pre><strong>Input:</strong> s = \"cbbd\"\n",
    "<strong>Output:</strong> \"bb\"\n",
    "</pre>\n",
    "\n",
    "**Constraints:**\n",
    "\n",
    "* `1 <= s.length <= 1000`\n",
    "* `s` consist of only digits and English letters.\n"
   ]
  },
  {
   "cell_type": "markdown",
   "metadata": {},
   "source": [
    "## 풀이\n",
    "\n",
    "- String\n",
    "- DP\n",
    "\n",
    "이 문제는 문자열에서 가장 긴 펠린드롬을 구해야 한다.\n",
    "\n",
    "첫 번째 시도는 시간복잡도를 생각하지 않고 문제를 접근했다. 역시, 시간 초과가 발생했다.\n",
    "\n",
    "두 번째 시도는 문자열의 인덱스를 기준으로 홀수 펠린드롬과 짝수 펠린드롬의 최대 길이를 계산한다. 이때, 시간복잡도를 만족하기 위해 양 옆으로 증가하면서 계산한다."
   ]
  },
  {
   "cell_type": "code",
   "execution_count": null,
   "metadata": {},
   "outputs": [],
   "source": [
    "class Solution:\n",
    "    # 시간 초과\n",
    "    # def longestPalindrome(self, s: str) -> str:\n",
    "    #     answer = ''\n",
    "        \n",
    "    #     for start in range(len(s)):\n",
    "    #         for end in range(start + len(answer) + 1, len(s) + 1):\n",
    "    #             temp = s[start:end]\n",
    "    #             if temp == temp[::-1]:\n",
    "    #                 answer = temp\n",
    "            \n",
    "    #     return answer\n",
    "    def longestPalindrome(self, s: str) -> str:\n",
    "        res = \"\"\n",
    "        for i in range(len(s)):\n",
    "            # i를 기준으로 홀수와 짝수 길이의 펠린드롬 구하기\n",
    "            res = max(self.helper(s, i, i), self.helper(s, i, i + 1), res, key=len) # key - 문자열의 길이로 최댓값 구하기\n",
    "        return res\n",
    "    \n",
    "    def helper(self,s,l,r):\n",
    "        while 0<=l and r < len(s) and s[l]==s[r]:\n",
    "            l -= 1 ; r += 1\n",
    "        return s[l + 1 : r]"
   ]
  },
  {
   "cell_type": "markdown",
   "metadata": {},
   "source": [
    "## 결과\n",
    "\n",
    "![](assets/20221031_095232_image.png)\n",
    "\n",
    "![](assets/20221031_095242_image.png)\n"
   ]
  }
 ],
 "metadata": {
  "kernelspec": {
   "display_name": "Python 3.10.7 64-bit",
   "language": "python",
   "name": "python3"
  },
  "language_info": {
   "name": "python",
   "version": "3.10.7"
  },
  "orig_nbformat": 4,
  "vscode": {
   "interpreter": {
    "hash": "aee8b7b246df8f9039afb4144a1f6fd8d2ca17a180786b69acc140d282b71a49"
   }
  }
 },
 "nbformat": 4,
 "nbformat_minor": 2
}
