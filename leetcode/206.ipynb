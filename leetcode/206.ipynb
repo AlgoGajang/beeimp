{
 "cells": [
  {
   "cell_type": "markdown",
   "metadata": {},
   "source": [
    "# [206. Reverse Linked List](https://leetcode.com/problems/reverse-linked-list/)\n",
    "\n",
    "\n",
    "Given the `head` of a singly linked list, reverse the list, and return *the reversed list* .\n",
    "\n",
    "**Example 1:**\n",
    "\n",
    "![](https://assets.leetcode.com/uploads/2021/02/19/rev1ex1.jpg)\n",
    "\n",
    "<pre><strong>Input:</strong> head = [1,2,3,4,5]\n",
    "<strong>Output:</strong> [5,4,3,2,1]\n",
    "</pre>\n",
    "\n",
    "**Example 2:**\n",
    "\n",
    "![](https://assets.leetcode.com/uploads/2021/02/19/rev1ex2.jpg)\n",
    "\n",
    "<pre><strong>Input:</strong> head = [1,2]\n",
    "<strong>Output:</strong> [2,1]\n",
    "</pre>\n",
    "\n",
    "**Example 3:**\n",
    "\n",
    "<pre><strong>Input:</strong> head = []\n",
    "<strong>Output:</strong> []\n",
    "</pre>\n",
    "\n",
    "**Constraints:**\n",
    "\n",
    "* The number of nodes in the list is the range `[0, 5000]`.\n",
    "* `-5000 <= Node.val <= 5000`\n",
    "\n",
    "**Follow up:** A linked list can be reversed either iteratively or recursively. Could you implement both?\n"
   ]
  },
  {
   "cell_type": "markdown",
   "metadata": {},
   "source": [
    "## 풀이\n",
    "\n",
    "- Linked List\n",
    "\n",
    "이 문제는 Linked List를 뒤집어야 했다. \n",
    "\n",
    "나의 풀이는 Linked List의 요소들을 배열에 담고, 배열을 뒤집고, 다시 Linked List를 만드는 방법을 선택했다.\n",
    "\n",
    "+ 문제는 쉽게 풀렸지만 참고 풀이를 확인해보니 바로 뒤집는 방법과 재귀적으로 푸는 방법을 확인했다."
   ]
  },
  {
   "cell_type": "code",
   "execution_count": null,
   "metadata": {},
   "outputs": [],
   "source": [
    "from typing import Optional\n",
    "\n",
    "# Definition for singly-linked list.\n",
    "class ListNode:\n",
    "    def __init__(self, val=0, next=None):\n",
    "        self.val = val\n",
    "        self.next = next\n",
    "\n",
    "\n",
    "class Solution:\n",
    "    def reverseList(self, head: Optional[ListNode]) -> Optional[ListNode]:\n",
    "        stack = []\n",
    "        if head is None:\n",
    "            return head\n",
    "\n",
    "        while head is not None:\n",
    "            stack.append(head.val)\n",
    "            head = head.next\n",
    "\n",
    "        stack.reverse()\n",
    "        answer = ListNode(stack[0])\n",
    "        answer_next = answer\n",
    "        for value in stack[1:]:\n",
    "            answer_next.next = ListNode(value)\n",
    "            answer_next = answer_next.next\n",
    "\n",
    "        return answer\n",
    "\n",
    "    '''reference code'''\n",
    "\n",
    "    def reverseList2(self, head: Optional[ListNode]) -> Optional[ListNode]:\n",
    "        prev = None\n",
    "        while head:\n",
    "            curr = head\n",
    "            head = head.next\n",
    "            curr.next = prev\n",
    "            prev = curr\n",
    "        return prev\n",
    "\n",
    "    '''reference code - recursion'''\n",
    "\n",
    "    def reverseList3(self, head):\n",
    "        return self._reverse(head)\n",
    "\n",
    "    def _reverse(self, node, prev=None):\n",
    "        if not node:\n",
    "            return prev\n",
    "        n = node.next\n",
    "        node.next = prev\n",
    "        return self._reverse(n, node)\n"
   ]
  }
 ],
 "metadata": {
  "kernelspec": {
   "display_name": "Python 3.8.9 64-bit",
   "language": "python",
   "name": "python3"
  },
  "language_info": {
   "name": "python",
   "version": "3.8.9"
  },
  "orig_nbformat": 4,
  "vscode": {
   "interpreter": {
    "hash": "31f2aee4e71d21fbe5cf8b01ff0e069b9275f58929596ceb00d14d90e3e16cd6"
   }
  }
 },
 "nbformat": 4,
 "nbformat_minor": 2
}
