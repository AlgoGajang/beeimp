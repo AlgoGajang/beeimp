{
 "cells": [
  {
   "cell_type": "markdown",
   "metadata": {},
   "source": [
    "# [64. Minimum Path Sum](https://leetcode.com/problems/minimum-path-sum/description/)\n",
    "\n",
    "## 문제\n",
    "\n",
    "Given a `m x n` `grid` filled with non-negative numbers, find a path from top left to bottom right, which minimizes the sum of all numbers along its path.\n",
    "\n",
    "**Note:** You can only move either down or right at any point in time.\n",
    "\n",
    "**Example 1:**\n",
    "\n",
    "![](https://assets.leetcode.com/uploads/2020/11/05/minpath.jpg)\n",
    "\n",
    "<pre><strong>Input:</strong> grid = [[1,3,1],[1,5,1],[4,2,1]]\n",
    "<strong>Output:</strong> 7\n",
    "<strong>Explanation:</strong> Because the path 1 → 3 → 1 → 1 → 1 minimizes the sum.\n",
    "</pre>\n",
    "\n",
    "**Example 2:**\n",
    "\n",
    "<pre><strong>Input:</strong> grid = [[1,2,3],[4,5,6]]\n",
    "<strong>Output:</strong> 12\n",
    "</pre>\n",
    "\n",
    "**Constraints:**\n",
    "\n",
    "* `m == grid.length`\n",
    "* `n == grid[i].length`\n",
    "* `1 <= m, n <= 200`\n",
    "* `0 <= grid[i][j] <= 100`\n"
   ]
  },
  {
   "cell_type": "markdown",
   "metadata": {},
   "source": [
    "## 풀이\n",
    "\n",
    "- Matrix\n",
    "- DP\n",
    "\n",
    "이 문제는 (0, 0)에서 (n, m)까지의 도착하는 최소 합을 구해야 한다."
   ]
  },
  {
   "cell_type": "code",
   "execution_count": null,
   "metadata": {},
   "outputs": [],
   "source": [
    "class Solution:\n",
    "    def minPathSum(self, grid: List[List[int]]) -> int:\n",
    "        dp = [[101 * 200 * 200] * len(grid[0]) for _ in grid]\n",
    "        dp[0][0] = grid[0][0]\n",
    "        for y, row in enumerate(grid):\n",
    "            for x, v in enumerate(row):\n",
    "                if 0 < y:\n",
    "                    dp[y][x] = min(dp[y][x], dp[y - 1][x] + v)\n",
    "                if 0 < x:\n",
    "                    dp[y][x] = min(dp[y][x], dp[y][x - 1] + v)\n",
    "        return dp[-1][-1]"
   ]
  },
  {
   "cell_type": "markdown",
   "metadata": {},
   "source": [
    "### Reference Code\n",
    "\n",
    "- DP"
   ]
  },
  {
   "cell_type": "code",
   "execution_count": null,
   "metadata": {},
   "outputs": [],
   "source": [
    "class Solution:\n",
    "    def minPathSum(self, grid: List[List[int]]) -> int:\n",
    "        n, m = len(grid[0]),len(grid)\n",
    "        for i in range(1, n):\n",
    "            grid[0][i] += grid[0][i-1]\n",
    "        for i in range(1, m):\n",
    "            grid[i][0] += grid[i-1][0]\n",
    "        for i in range(1, m):\n",
    "            for j in range(1, n):\n",
    "                grid[i][j] += min(grid[i-1][j], grid[i][j-1])\n",
    "        return grid[-1][-1]"
   ]
  },
  {
   "cell_type": "markdown",
   "metadata": {},
   "source": [
    "## 결과"
   ]
  },
  {
   "cell_type": "markdown",
   "metadata": {},
   "source": [
    "### My Code\n",
    "\n",
    "![](assets/20221104_114250_image.png)\n"
   ]
  },
  {
   "cell_type": "markdown",
   "metadata": {},
   "source": [
    "### Reference Code\n",
    "\n",
    "![](assets/20221104_114303_image.png)\n"
   ]
  }
 ],
 "metadata": {
  "kernelspec": {
   "display_name": "Python 3.10.7 64-bit",
   "language": "python",
   "name": "python3"
  },
  "language_info": {
   "name": "python",
   "version": "3.10.7"
  },
  "orig_nbformat": 4,
  "vscode": {
   "interpreter": {
    "hash": "aee8b7b246df8f9039afb4144a1f6fd8d2ca17a180786b69acc140d282b71a49"
   }
  }
 },
 "nbformat": 4,
 "nbformat_minor": 2
}
